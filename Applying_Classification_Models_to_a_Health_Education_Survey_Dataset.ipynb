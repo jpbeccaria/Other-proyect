{
  "nbformat": 4,
  "nbformat_minor": 0,
  "metadata": {
    "colab": {
      "provenance": [],
      "include_colab_link": true
    },
    "kernelspec": {
      "name": "python3",
      "display_name": "Python 3"
    },
    "language_info": {
      "name": "python"
    }
  },
  "cells": [
    {
      "cell_type": "markdown",
      "metadata": {
        "id": "view-in-github",
        "colab_type": "text"
      },
      "source": [
        "<a href=\"https://colab.research.google.com/github/jpbeccaria/Other-proyects/blob/main/Applying_Classification_Models_to_a_Health_Education_Survey_Dataset.ipynb\" target=\"_parent\"><img src=\"https://colab.research.google.com/assets/colab-badge.svg\" alt=\"Open In Colab\"/></a>"
      ]
    },
    {
      "cell_type": "code",
      "source": [],
      "metadata": {
        "id": "h0QmxuXx5WHg"
      },
      "execution_count": null,
      "outputs": []
    },
    {
      "cell_type": "markdown",
      "source": [
        "## Importamos dependencias necesarias"
      ],
      "metadata": {
        "id": "Ul5ZAUos6Oil"
      }
    },
    {
      "cell_type": "markdown",
      "source": [
        "## *Trabajo práctico N° 3*"
      ],
      "metadata": {
        "id": "bhhw99muBfHi"
      }
    },
    {
      "cell_type": "markdown",
      "source": [
        "## Importamos dependencias necesarias"
      ],
      "metadata": {
        "id": "3VAUtfSU87My"
      }
    },
    {
      "cell_type": "code",
      "execution_count": null,
      "metadata": {
        "id": "8apY-eF56Hjv"
      },
      "outputs": [],
      "source": [
        "import re\n",
        "import gdown\n",
        "import numpy as np\n",
        "import pandas as pd\n",
        "import seaborn as sns\n",
        "import matplotlib.pyplot as plt\n",
        "from sklearn.model_selection import train_test_split\n",
        "from sklearn import metrics\n",
        "from sklearn.preprocessing import StandardScaler\n",
        "from sklearn.model_selection import cross_val_score, KFold\n",
        "from sklearn.neighbors import KNeighborsClassifier\n",
        "from sklearn.linear_model import LogisticRegression\n",
        "from sklearn.naive_bayes import GaussianNB\n",
        "from sklearn.metrics import roc_curve, auc,roc_auc_score\n",
        "from sklearn.metrics import confusion_matrix, accuracy_score, precision_score, recall_score, f1_score\n"
      ]
    },
    {
      "cell_type": "markdown",
      "source": [
        "## Cargamos el dataset a usar\n",
        "\n",
        "En este caso se trata de un encuesta de salud alimenticia, mental, sexual, acompañamiento familiar, condiciones de vida, entre varios otros factores.\n",
        "Tres de esas preguntas hacen referencia a pensamientos o intentos de suicidio por parte de los chicos y chicas encuestadas.\n",
        "Nuestra hipótersis es que las la información de las respuestas en la encuesta de salud escolar tiene un poder predictivo en saber si los chicos pensaron alguna vez seriamente en quitarse la vida.\n",
        "Consideramos que un abordaje como este, por supuesto que con herramentas más complejas y llevado a cabo por profesionales con más experiencia en el tema, puede ser de importancia para la Salud pública, para detectar prematuramente a personas que estan pasando un mal momento en su vida e intentar contenerlas y ayudarlas a tiempo."
      ],
      "metadata": {
        "id": "N3TFOegj6V6d"
      }
    },
    {
      "cell_type": "code",
      "source": [
        "# Comensemos importando el dataset\n",
        "\n",
        "csv_url = \"https://drive.google.com/uc?id=1nkBC4vXcpUh7X0Qfs5CAJuo0XGBLbvYL\"\n",
        "output = \"/content/EMSE_DatosAbiertos.csv\"\n",
        "\n",
        "gdown.download(csv_url, output, quiet=False)\n",
        "data = pd.read_csv(output)"
      ],
      "metadata": {
        "colab": {
          "base_uri": "https://localhost:8080/"
        },
        "id": "GtQvDY9M6m-v",
        "outputId": "7c815d7c-9bf1-4c8d-f98a-f4914ffabdfc"
      },
      "execution_count": null,
      "outputs": [
        {
          "output_type": "stream",
          "name": "stderr",
          "text": [
            "Downloading...\n",
            "From: https://drive.google.com/uc?id=1nkBC4vXcpUh7X0Qfs5CAJuo0XGBLbvYL\n",
            "To: /content/EMSE_DatosAbiertos.csv\n",
            "100%|██████████| 108M/108M [00:01<00:00, 56.3MB/s] \n"
          ]
        }
      ]
    },
    {
      "cell_type": "code",
      "source": [
        "# Verificar los datos y veamos qué pinta tienen\n",
        "data.head()"
      ],
      "metadata": {
        "colab": {
          "base_uri": "https://localhost:8080/",
          "height": 235
        },
        "id": "y1EVfJw47nmR",
        "outputId": "c5ec5f1c-3814-419a-987a-9f318e4323f0"
      },
      "execution_count": null,
      "outputs": [
        {
          "output_type": "execute_result",
          "data": {
            "text/plain": [
              "  sitio  record   q1 texto_q1   q2   texto_q2   q3  \\\n",
              "0    AG       1  3.0  13 años  2.0   Femenino  2.0   \n",
              "1    AG       2  3.0  13 años  2.0   Femenino  2.0   \n",
              "2    AG       3  4.0  14 años  1.0  Masculino  4.0   \n",
              "3    AG       4  6.0  16 años  1.0  Masculino  2.0   \n",
              "4    AG       5  3.0  13 años  2.0   Femenino  2.0   \n",
              "\n",
              "                                            texto_q3    q4    q5  ...  \\\n",
              "0  9no grado nivel Primario/Polimodal o 2do año n...   NaN   NaN  ...   \n",
              "1  9no grado nivel Primario/Polimodal o 2do año n...   NaN   NaN  ...   \n",
              "2  2do año/11vo grado nivel Polimodal o 4to año n...  1.67  56.0  ...   \n",
              "3  9no grado nivel Primario/Polimodal o 2do año n...  1.73  70.0  ...   \n",
              "4  9no grado nivel Primario/Polimodal o 2do año n...   NaN   NaN  ...   \n",
              "\n",
              "   texto_qnpa5g qnpa7g  texto_qnpa7g qnpe3g  texto_qnpe3g qnpe5g  \\\n",
              "0            Si    1.0            Si    2.0            No    2.0   \n",
              "1            Si    2.0            No    2.0            No    2.0   \n",
              "2            Si    2.0            No    2.0            No    2.0   \n",
              "3            No    2.0            No    1.0            Si    1.0   \n",
              "4            No    2.0            No    2.0            No    2.0   \n",
              "\n",
              "   texto_qnpe5g  weight    stratum psu  \n",
              "0            No  457.09  201801010  19  \n",
              "1            No  457.09  201801010  19  \n",
              "2            No  261.44  201801010  19  \n",
              "3            Si  550.90  201801010  19  \n",
              "4            No  457.09  201801010  19  \n",
              "\n",
              "[5 rows x 309 columns]"
            ],
            "text/html": [
              "\n",
              "\n",
              "  <div id=\"df-f95631f3-c131-4a18-beb8-d8ca1d5820b0\">\n",
              "    <div class=\"colab-df-container\">\n",
              "      <div>\n",
              "<style scoped>\n",
              "    .dataframe tbody tr th:only-of-type {\n",
              "        vertical-align: middle;\n",
              "    }\n",
              "\n",
              "    .dataframe tbody tr th {\n",
              "        vertical-align: top;\n",
              "    }\n",
              "\n",
              "    .dataframe thead th {\n",
              "        text-align: right;\n",
              "    }\n",
              "</style>\n",
              "<table border=\"1\" class=\"dataframe\">\n",
              "  <thead>\n",
              "    <tr style=\"text-align: right;\">\n",
              "      <th></th>\n",
              "      <th>sitio</th>\n",
              "      <th>record</th>\n",
              "      <th>q1</th>\n",
              "      <th>texto_q1</th>\n",
              "      <th>q2</th>\n",
              "      <th>texto_q2</th>\n",
              "      <th>q3</th>\n",
              "      <th>texto_q3</th>\n",
              "      <th>q4</th>\n",
              "      <th>q5</th>\n",
              "      <th>...</th>\n",
              "      <th>texto_qnpa5g</th>\n",
              "      <th>qnpa7g</th>\n",
              "      <th>texto_qnpa7g</th>\n",
              "      <th>qnpe3g</th>\n",
              "      <th>texto_qnpe3g</th>\n",
              "      <th>qnpe5g</th>\n",
              "      <th>texto_qnpe5g</th>\n",
              "      <th>weight</th>\n",
              "      <th>stratum</th>\n",
              "      <th>psu</th>\n",
              "    </tr>\n",
              "  </thead>\n",
              "  <tbody>\n",
              "    <tr>\n",
              "      <th>0</th>\n",
              "      <td>AG</td>\n",
              "      <td>1</td>\n",
              "      <td>3.0</td>\n",
              "      <td>13 años</td>\n",
              "      <td>2.0</td>\n",
              "      <td>Femenino</td>\n",
              "      <td>2.0</td>\n",
              "      <td>9no grado nivel Primario/Polimodal o 2do año n...</td>\n",
              "      <td>NaN</td>\n",
              "      <td>NaN</td>\n",
              "      <td>...</td>\n",
              "      <td>Si</td>\n",
              "      <td>1.0</td>\n",
              "      <td>Si</td>\n",
              "      <td>2.0</td>\n",
              "      <td>No</td>\n",
              "      <td>2.0</td>\n",
              "      <td>No</td>\n",
              "      <td>457.09</td>\n",
              "      <td>201801010</td>\n",
              "      <td>19</td>\n",
              "    </tr>\n",
              "    <tr>\n",
              "      <th>1</th>\n",
              "      <td>AG</td>\n",
              "      <td>2</td>\n",
              "      <td>3.0</td>\n",
              "      <td>13 años</td>\n",
              "      <td>2.0</td>\n",
              "      <td>Femenino</td>\n",
              "      <td>2.0</td>\n",
              "      <td>9no grado nivel Primario/Polimodal o 2do año n...</td>\n",
              "      <td>NaN</td>\n",
              "      <td>NaN</td>\n",
              "      <td>...</td>\n",
              "      <td>Si</td>\n",
              "      <td>2.0</td>\n",
              "      <td>No</td>\n",
              "      <td>2.0</td>\n",
              "      <td>No</td>\n",
              "      <td>2.0</td>\n",
              "      <td>No</td>\n",
              "      <td>457.09</td>\n",
              "      <td>201801010</td>\n",
              "      <td>19</td>\n",
              "    </tr>\n",
              "    <tr>\n",
              "      <th>2</th>\n",
              "      <td>AG</td>\n",
              "      <td>3</td>\n",
              "      <td>4.0</td>\n",
              "      <td>14 años</td>\n",
              "      <td>1.0</td>\n",
              "      <td>Masculino</td>\n",
              "      <td>4.0</td>\n",
              "      <td>2do año/11vo grado nivel Polimodal o 4to año n...</td>\n",
              "      <td>1.67</td>\n",
              "      <td>56.0</td>\n",
              "      <td>...</td>\n",
              "      <td>Si</td>\n",
              "      <td>2.0</td>\n",
              "      <td>No</td>\n",
              "      <td>2.0</td>\n",
              "      <td>No</td>\n",
              "      <td>2.0</td>\n",
              "      <td>No</td>\n",
              "      <td>261.44</td>\n",
              "      <td>201801010</td>\n",
              "      <td>19</td>\n",
              "    </tr>\n",
              "    <tr>\n",
              "      <th>3</th>\n",
              "      <td>AG</td>\n",
              "      <td>4</td>\n",
              "      <td>6.0</td>\n",
              "      <td>16 años</td>\n",
              "      <td>1.0</td>\n",
              "      <td>Masculino</td>\n",
              "      <td>2.0</td>\n",
              "      <td>9no grado nivel Primario/Polimodal o 2do año n...</td>\n",
              "      <td>1.73</td>\n",
              "      <td>70.0</td>\n",
              "      <td>...</td>\n",
              "      <td>No</td>\n",
              "      <td>2.0</td>\n",
              "      <td>No</td>\n",
              "      <td>1.0</td>\n",
              "      <td>Si</td>\n",
              "      <td>1.0</td>\n",
              "      <td>Si</td>\n",
              "      <td>550.90</td>\n",
              "      <td>201801010</td>\n",
              "      <td>19</td>\n",
              "    </tr>\n",
              "    <tr>\n",
              "      <th>4</th>\n",
              "      <td>AG</td>\n",
              "      <td>5</td>\n",
              "      <td>3.0</td>\n",
              "      <td>13 años</td>\n",
              "      <td>2.0</td>\n",
              "      <td>Femenino</td>\n",
              "      <td>2.0</td>\n",
              "      <td>9no grado nivel Primario/Polimodal o 2do año n...</td>\n",
              "      <td>NaN</td>\n",
              "      <td>NaN</td>\n",
              "      <td>...</td>\n",
              "      <td>No</td>\n",
              "      <td>2.0</td>\n",
              "      <td>No</td>\n",
              "      <td>2.0</td>\n",
              "      <td>No</td>\n",
              "      <td>2.0</td>\n",
              "      <td>No</td>\n",
              "      <td>457.09</td>\n",
              "      <td>201801010</td>\n",
              "      <td>19</td>\n",
              "    </tr>\n",
              "  </tbody>\n",
              "</table>\n",
              "<p>5 rows × 309 columns</p>\n",
              "</div>\n",
              "      <button class=\"colab-df-convert\" onclick=\"convertToInteractive('df-f95631f3-c131-4a18-beb8-d8ca1d5820b0')\"\n",
              "              title=\"Convert this dataframe to an interactive table.\"\n",
              "              style=\"display:none;\">\n",
              "\n",
              "  <svg xmlns=\"http://www.w3.org/2000/svg\" height=\"24px\"viewBox=\"0 0 24 24\"\n",
              "       width=\"24px\">\n",
              "    <path d=\"M0 0h24v24H0V0z\" fill=\"none\"/>\n",
              "    <path d=\"M18.56 5.44l.94 2.06.94-2.06 2.06-.94-2.06-.94-.94-2.06-.94 2.06-2.06.94zm-11 1L8.5 8.5l.94-2.06 2.06-.94-2.06-.94L8.5 2.5l-.94 2.06-2.06.94zm10 10l.94 2.06.94-2.06 2.06-.94-2.06-.94-.94-2.06-.94 2.06-2.06.94z\"/><path d=\"M17.41 7.96l-1.37-1.37c-.4-.4-.92-.59-1.43-.59-.52 0-1.04.2-1.43.59L10.3 9.45l-7.72 7.72c-.78.78-.78 2.05 0 2.83L4 21.41c.39.39.9.59 1.41.59.51 0 1.02-.2 1.41-.59l7.78-7.78 2.81-2.81c.8-.78.8-2.07 0-2.86zM5.41 20L4 18.59l7.72-7.72 1.47 1.35L5.41 20z\"/>\n",
              "  </svg>\n",
              "      </button>\n",
              "\n",
              "\n",
              "\n",
              "    <div id=\"df-0f57ab2c-c277-4bb8-8703-43f5823e9e27\">\n",
              "      <button class=\"colab-df-quickchart\" onclick=\"quickchart('df-0f57ab2c-c277-4bb8-8703-43f5823e9e27')\"\n",
              "              title=\"Suggest charts.\"\n",
              "              style=\"display:none;\">\n",
              "\n",
              "<svg xmlns=\"http://www.w3.org/2000/svg\" height=\"24px\"viewBox=\"0 0 24 24\"\n",
              "     width=\"24px\">\n",
              "    <g>\n",
              "        <path d=\"M19 3H5c-1.1 0-2 .9-2 2v14c0 1.1.9 2 2 2h14c1.1 0 2-.9 2-2V5c0-1.1-.9-2-2-2zM9 17H7v-7h2v7zm4 0h-2V7h2v10zm4 0h-2v-4h2v4z\"/>\n",
              "    </g>\n",
              "</svg>\n",
              "      </button>\n",
              "    </div>\n",
              "\n",
              "<style>\n",
              "  .colab-df-quickchart {\n",
              "    background-color: #E8F0FE;\n",
              "    border: none;\n",
              "    border-radius: 50%;\n",
              "    cursor: pointer;\n",
              "    display: none;\n",
              "    fill: #1967D2;\n",
              "    height: 32px;\n",
              "    padding: 0 0 0 0;\n",
              "    width: 32px;\n",
              "  }\n",
              "\n",
              "  .colab-df-quickchart:hover {\n",
              "    background-color: #E2EBFA;\n",
              "    box-shadow: 0px 1px 2px rgba(60, 64, 67, 0.3), 0px 1px 3px 1px rgba(60, 64, 67, 0.15);\n",
              "    fill: #174EA6;\n",
              "  }\n",
              "\n",
              "  [theme=dark] .colab-df-quickchart {\n",
              "    background-color: #3B4455;\n",
              "    fill: #D2E3FC;\n",
              "  }\n",
              "\n",
              "  [theme=dark] .colab-df-quickchart:hover {\n",
              "    background-color: #434B5C;\n",
              "    box-shadow: 0px 1px 3px 1px rgba(0, 0, 0, 0.15);\n",
              "    filter: drop-shadow(0px 1px 2px rgba(0, 0, 0, 0.3));\n",
              "    fill: #FFFFFF;\n",
              "  }\n",
              "</style>\n",
              "\n",
              "    <script>\n",
              "      async function quickchart(key) {\n",
              "        const containerElement = document.querySelector('#' + key);\n",
              "        const charts = await google.colab.kernel.invokeFunction(\n",
              "            'suggestCharts', [key], {});\n",
              "      }\n",
              "    </script>\n",
              "\n",
              "      <script>\n",
              "\n",
              "function displayQuickchartButton(domScope) {\n",
              "  let quickchartButtonEl =\n",
              "    domScope.querySelector('#df-0f57ab2c-c277-4bb8-8703-43f5823e9e27 button.colab-df-quickchart');\n",
              "  quickchartButtonEl.style.display =\n",
              "    google.colab.kernel.accessAllowed ? 'block' : 'none';\n",
              "}\n",
              "\n",
              "        displayQuickchartButton(document);\n",
              "      </script>\n",
              "      <style>\n",
              "    .colab-df-container {\n",
              "      display:flex;\n",
              "      flex-wrap:wrap;\n",
              "      gap: 12px;\n",
              "    }\n",
              "\n",
              "    .colab-df-convert {\n",
              "      background-color: #E8F0FE;\n",
              "      border: none;\n",
              "      border-radius: 50%;\n",
              "      cursor: pointer;\n",
              "      display: none;\n",
              "      fill: #1967D2;\n",
              "      height: 32px;\n",
              "      padding: 0 0 0 0;\n",
              "      width: 32px;\n",
              "    }\n",
              "\n",
              "    .colab-df-convert:hover {\n",
              "      background-color: #E2EBFA;\n",
              "      box-shadow: 0px 1px 2px rgba(60, 64, 67, 0.3), 0px 1px 3px 1px rgba(60, 64, 67, 0.15);\n",
              "      fill: #174EA6;\n",
              "    }\n",
              "\n",
              "    [theme=dark] .colab-df-convert {\n",
              "      background-color: #3B4455;\n",
              "      fill: #D2E3FC;\n",
              "    }\n",
              "\n",
              "    [theme=dark] .colab-df-convert:hover {\n",
              "      background-color: #434B5C;\n",
              "      box-shadow: 0px 1px 3px 1px rgba(0, 0, 0, 0.15);\n",
              "      filter: drop-shadow(0px 1px 2px rgba(0, 0, 0, 0.3));\n",
              "      fill: #FFFFFF;\n",
              "    }\n",
              "  </style>\n",
              "\n",
              "      <script>\n",
              "        const buttonEl =\n",
              "          document.querySelector('#df-f95631f3-c131-4a18-beb8-d8ca1d5820b0 button.colab-df-convert');\n",
              "        buttonEl.style.display =\n",
              "          google.colab.kernel.accessAllowed ? 'block' : 'none';\n",
              "\n",
              "        async function convertToInteractive(key) {\n",
              "          const element = document.querySelector('#df-f95631f3-c131-4a18-beb8-d8ca1d5820b0');\n",
              "          const dataTable =\n",
              "            await google.colab.kernel.invokeFunction('convertToInteractive',\n",
              "                                                     [key], {});\n",
              "          if (!dataTable) return;\n",
              "\n",
              "          const docLinkHtml = 'Like what you see? Visit the ' +\n",
              "            '<a target=\"_blank\" href=https://colab.research.google.com/notebooks/data_table.ipynb>data table notebook</a>'\n",
              "            + ' to learn more about interactive tables.';\n",
              "          element.innerHTML = '';\n",
              "          dataTable['output_type'] = 'display_data';\n",
              "          await google.colab.output.renderOutput(dataTable, element);\n",
              "          const docLink = document.createElement('div');\n",
              "          docLink.innerHTML = docLinkHtml;\n",
              "          element.appendChild(docLink);\n",
              "        }\n",
              "      </script>\n",
              "    </div>\n",
              "  </div>\n"
            ]
          },
          "metadata": {},
          "execution_count": 3
        }
      ]
    },
    {
      "cell_type": "code",
      "source": [
        "data.shape"
      ],
      "metadata": {
        "colab": {
          "base_uri": "https://localhost:8080/"
        },
        "id": "kcWVobRYRnha",
        "outputId": "4b398e64-18a6-4550-835c-82a159f18afc"
      },
      "execution_count": null,
      "outputs": [
        {
          "output_type": "execute_result",
          "data": {
            "text/plain": [
              "(56981, 309)"
            ]
          },
          "metadata": {},
          "execution_count": 4
        }
      ]
    },
    {
      "cell_type": "markdown",
      "source": [
        "El dataset tiene 56981 entradas con 310 features; sin embargo algunas de las categorias cuentan con información están repetidas; las columnas correspondientes a preguntas cuya respuesta es en forma de texto, fueron convertidas a número por quienes crearon el dataset."
      ],
      "metadata": {
        "id": "aIm3tPQkRvjl"
      }
    },
    {
      "cell_type": "markdown",
      "source": [
        "La pregunta numero 24 del dataset es la refiere a: \"Durante los últimos 12 meses, ¿alguna vez consideraste seriamente la posibilidad de intentar suicidarte?\". Junto con la 25 y la 26 son las únicas tres preguntas que abordan este tema de manera directa.\n",
        "Veamos cómo se distribuyen los casos que responde de manera afirmativa o negativa frente a esta pregunta."
      ],
      "metadata": {
        "id": "7QktTIFq8hKe"
      }
    },
    {
      "cell_type": "code",
      "source": [
        "data.q24"
      ],
      "metadata": {
        "colab": {
          "base_uri": "https://localhost:8080/"
        },
        "id": "PcBEHEwpzPmU",
        "outputId": "06ec511c-e5ff-4fc2-e7e3-f5d5be627942"
      },
      "execution_count": null,
      "outputs": [
        {
          "output_type": "execute_result",
          "data": {
            "text/plain": [
              "0        1.0\n",
              "1        2.0\n",
              "2        NaN\n",
              "3        2.0\n",
              "4        2.0\n",
              "        ... \n",
              "56976    2.0\n",
              "56977    2.0\n",
              "56978    2.0\n",
              "56979    2.0\n",
              "56980    2.0\n",
              "Name: q24, Length: 56981, dtype: float64"
            ]
          },
          "metadata": {},
          "execution_count": 5
        }
      ]
    },
    {
      "cell_type": "markdown",
      "source": [
        "Las respuestas de la pregunta 24 están codificadas como \"1\" para \"Si\" o \"2\" para \"No\". Esto no es del agrado de algunas de las herramientas que utilizaremos en el TP (como las curvas ROC) asi que aprovechemos para hacer el reemplazo por una codificación más intuitiva: 0 = \"No\", 1 = \"Si\"."
      ],
      "metadata": {
        "id": "XDSq734p6UaE"
      }
    },
    {
      "cell_type": "code",
      "source": [
        "data['q24'] = data['q24'].replace({2.0: 0})"
      ],
      "metadata": {
        "id": "RzNR_Bos6Trh"
      },
      "execution_count": null,
      "outputs": []
    },
    {
      "cell_type": "code",
      "source": [
        "casos_por_tipo = data['q24'].value_counts().sort_index()\n",
        "\n",
        "# Crear el gráfico de barras\n",
        "plt.figure(figsize=(8, 6))\n",
        "sns.barplot(x=casos_por_tipo.index, y=casos_por_tipo.values, palette='coolwarm')\n",
        "plt.xlabel('Respuestas')\n",
        "plt.ylabel('Número de Respuestas Acumuladas')\n",
        "plt.title('Respuestas de cada tipo para la pregunta 24')\n",
        "plt.xticks(ticks=[0, 1], labels=['No', 'Si'])\n",
        "plt.tight_layout()\n",
        "plt.show()\n"
      ],
      "metadata": {
        "colab": {
          "base_uri": "https://localhost:8080/",
          "height": 607
        },
        "id": "AhRNwiY69j93",
        "outputId": "dc631fd4-b40d-4e52-ab64-cb34956205cf"
      },
      "execution_count": null,
      "outputs": [
        {
          "output_type": "display_data",
          "data": {
            "text/plain": [
              "<Figure size 800x600 with 1 Axes>"
            ],
            "image/png": "[encoded data removed]"
          },
          "metadata": {}
        }
      ]
    },
    {
      "cell_type": "code",
      "source": [
        "print(casos_por_tipo)\n",
        "print(casos_por_tipo[1]/(casos_por_tipo.sum()))"
      ],
      "metadata": {
        "colab": {
          "base_uri": "https://localhost:8080/"
        },
        "id": "Sais4KOM39YU",
        "outputId": "1d8f7639-9bd5-4e09-92de-4cba50f68e03"
      },
      "execution_count": null,
      "outputs": [
        {
          "output_type": "stream",
          "name": "stdout",
          "text": [
            "0.0    43666\n",
            "1.0    11962\n",
            "Name: q24, dtype: int64\n",
            "0.2150355935859639\n"
          ]
        }
      ]
    },
    {
      "cell_type": "markdown",
      "source": [
        "Podemos ver que mas del 20% de las chicos y chicos que contestaron la encuesta pensaron seriamente en suicidarse en los ultimos 12 meses."
      ],
      "metadata": {
        "id": "et8CxRA6ATeA"
      }
    },
    {
      "cell_type": "markdown",
      "source": [
        "Hagamos un poco de limpieza del dataset. Hay features que estan duplicadas: respuesta en texto, y su equivalente como respuesta codificada en números- Quedémonos solo con las respuestas numéricas. Esto es fácil de hacer porque afortunadamente todas las features con respuestas en forma de texto cuentan con la palabra \"texto\" en su encabezado."
      ],
      "metadata": {
        "id": "_UCu_bylQMqk"
      }
    },
    {
      "cell_type": "code",
      "source": [
        "data.columns"
      ],
      "metadata": {
        "colab": {
          "base_uri": "https://localhost:8080/"
        },
        "id": "br19xOenRQRo",
        "outputId": "309844a9-8fca-46bf-9140-ed279bfc39bb"
      },
      "execution_count": null,
      "outputs": [
        {
          "output_type": "execute_result",
          "data": {
            "text/plain": [
              "Index(['sitio', 'record', 'q1', 'texto_q1', 'q2', 'texto_q2', 'q3', 'texto_q3',\n",
              "       'q4', 'q5',\n",
              "       ...\n",
              "       'texto_qnpa5g', 'qnpa7g', 'texto_qnpa7g', 'qnpe3g', 'texto_qnpe3g',\n",
              "       'qnpe5g', 'texto_qnpe5g', 'weight', 'stratum', 'psu'],\n",
              "      dtype='object', length=309)"
            ]
          },
          "metadata": {},
          "execution_count": 9
        }
      ]
    },
    {
      "cell_type": "code",
      "source": [
        "# PASO IMPORTANTE, eliminamos las columas que tienen texto.\n",
        "# El dataset tiene info por duplicado, las columnas de \"texto\" (ej \"si\", \"no\", \"a veces\"; ya viene transformadas transformadas a números)\n",
        "\n",
        "data = data.filter(regex=r'^(?!.*texto).*$', axis=1)\n",
        "\n",
        "# Aprovechemos que estamos quitando columnas con texto y quitemos la columna \"sitio\" que solo dice \"AG\" (por Argentina) para todos los casos\n",
        "\n",
        "data = data.drop(['sitio'], axis=1)"
      ],
      "metadata": {
        "id": "Rh3i3MazQcI_"
      },
      "execution_count": null,
      "outputs": []
    },
    {
      "cell_type": "markdown",
      "source": [
        "Alguno de los algoritmos que utilizaremos, como KNN no soportan NaN. Por ello dropearemos las columnas con un alto porcentaje de nulos y luego las entradas que tengan al menos un nulo. Hacemos esto y en este orden porque si en primera instancia eliminaos las entradas con algún nulo, todas las filas son eliminadas."
      ],
      "metadata": {
        "id": "vIf-0_gpBexJ"
      }
    },
    {
      "cell_type": "code",
      "source": [
        "# Miremos un pantallazo qué cantidad de nulos presenta el dataset:\n",
        "\n",
        "def graficar_nulos(data):\n",
        "    null_percentages = data.isnull().sum() / len(data) * 100\n",
        "    fig, ax = plt.subplots(figsize=(8, 6))\n",
        "    sns.barplot(x=null_percentages.values, y=null_percentages.index, ax=ax)\n",
        "    ax.set_xlabel('Porcentaje de Nulos')\n",
        "    ax.set_ylabel('Columnas')\n",
        "    ax.set_title('Porcentaje de Valores Nulos por Columna')\n",
        "    ax.set_yticklabels([])\n",
        "    plt.show()\n",
        "\n",
        "graficar_nulos(data)"
      ],
      "metadata": {
        "colab": {
          "base_uri": "https://localhost:8080/",
          "height": 564
        },
        "id": "CHKkTMoqWjZs",
        "outputId": "9fa8cac4-0786-42e5-9d93-13d016435366"
      },
      "execution_count": null,
      "outputs": [
        {
          "output_type": "display_data",
          "data": {
            "text/plain": [
              "<Figure size 800x600 with 1 Axes>"
            ],
            "image/png": "[encoded data removed]"
          },
          "metadata": {}
        }
      ]
    },
    {
      "cell_type": "code",
      "source": [
        "#Exceptuando unas pocas columnas, en general no hay tantos nulos.\n",
        "\n",
        "porcentaje_no_nulos = data.notnull().mean()\n",
        "\n",
        "# Obtener las columnas con un porcentaje de NaN mayor al 20%\n",
        "\n",
        "columnas_altos_nulos = porcentaje_no_nulos[porcentaje_no_nulos < 0.8].index\n",
        "\n",
        "# Eliminar las columnas con un porcentaje de NaN mayor al 20%\n",
        "data_filtrado = data.drop(columnas_altos_nulos, axis=1)\n",
        "\n",
        "\n",
        "# Imprimir el DataFrame resultante\n",
        "print(data_filtrado)"
      ],
      "metadata": {
        "colab": {
          "base_uri": "https://localhost:8080/"
        },
        "id": "2mgBmOl0X5Py",
        "outputId": "85569e25-ad4c-43de-c1e5-20298b0d5b1d"
      },
      "execution_count": null,
      "outputs": [
        {
          "output_type": "stream",
          "name": "stdout",
          "text": [
            "       record   q1   q2   q3   q6  q10  q15  q16  q17  q18  ...  qnff3g  \\\n",
            "0           1  3.0  2.0  2.0  2.0  1.0  1.0  1.0  1.0  1.0  ...     2.0   \n",
            "1           2  3.0  2.0  2.0  1.0  1.0  1.0  1.0  1.0  1.0  ...     2.0   \n",
            "2           3  4.0  1.0  4.0  1.0  1.0  1.0  1.0  3.0  2.0  ...     2.0   \n",
            "3           4  6.0  1.0  2.0  1.0  4.0  1.0  3.0  1.0  1.0  ...     1.0   \n",
            "4           5  3.0  2.0  2.0  1.0  1.0  1.0  1.0  NaN  NaN  ...     2.0   \n",
            "...       ...  ...  ...  ...  ...  ...  ...  ...  ...  ...  ...     ...   \n",
            "56976   57091  6.0  1.0  5.0  4.0  1.0  1.0  4.0  2.0  3.0  ...     2.0   \n",
            "56977   57092  6.0  1.0  5.0  3.0  1.0  1.0  1.0  1.0  1.0  ...     2.0   \n",
            "56978   57093  6.0  1.0  NaN  1.0  1.0  1.0  1.0  1.0  1.0  ...     2.0   \n",
            "56979   57094  6.0  2.0  5.0  1.0  1.0  1.0  1.0  2.0  2.0  ...     2.0   \n",
            "56980   57095  6.0  2.0  5.0  2.0  1.0  1.0  1.0  NaN  NaN  ...     2.0   \n",
            "\n",
            "       qntob2g  qnnotb2g  qnpa5g  qnpa7g  qnpe3g  qnpe5g  weight    stratum  \\\n",
            "0          1.0       NaN     1.0     1.0     2.0     2.0  457.09  201801010   \n",
            "1          2.0       1.0     1.0     2.0     2.0     2.0  457.09  201801010   \n",
            "2          2.0       1.0     1.0     2.0     2.0     2.0  261.44  201801010   \n",
            "3          2.0       1.0     2.0     2.0     1.0     1.0  550.90  201801010   \n",
            "4          NaN       NaN     2.0     2.0     2.0     2.0  457.09  201801010   \n",
            "...        ...       ...     ...     ...     ...     ...     ...        ...   \n",
            "56976      2.0       1.0     1.0     1.0     1.0     2.0   48.28  201824003   \n",
            "56977      2.0       1.0     2.0     2.0     1.0     1.0   48.28  201824003   \n",
            "56978      2.0       1.0     1.0     2.0     2.0     2.0   48.28  201824003   \n",
            "56979      2.0       1.0     2.0     2.0     2.0     2.0   52.08  201824003   \n",
            "56980      2.0       1.0     2.0     2.0     1.0     1.0   52.08  201824003   \n",
            "\n",
            "       psu  \n",
            "0       19  \n",
            "1       19  \n",
            "2       19  \n",
            "3       19  \n",
            "4       19  \n",
            "...    ...  \n",
            "56976    5  \n",
            "56977    5  \n",
            "56978    5  \n",
            "56979    5  \n",
            "56980    5  \n",
            "\n",
            "[56981 rows x 133 columns]\n"
          ]
        }
      ]
    },
    {
      "cell_type": "code",
      "source": [
        "# Ahora si dropeamos las filas que tengan algun nulo\n",
        "\n",
        "data_sin_nulos = data_filtrado.dropna()\n",
        "data_sin_nulos.shape"
      ],
      "metadata": {
        "id": "Jo_PjQ5NYe7H",
        "colab": {
          "base_uri": "https://localhost:8080/"
        },
        "outputId": "b3ead25e-ddf9-44c8-c4ac-3e90f2394263"
      },
      "execution_count": null,
      "outputs": [
        {
          "output_type": "execute_result",
          "data": {
            "text/plain": [
              "(24774, 133)"
            ]
          },
          "metadata": {},
          "execution_count": 13
        }
      ]
    },
    {
      "cell_type": "code",
      "source": [
        "data_sin_nulos.q24.value_counts().unique"
      ],
      "metadata": {
        "colab": {
          "base_uri": "https://localhost:8080/"
        },
        "id": "a2iQuxDH5wUc",
        "outputId": "1fe49ddd-3dfd-4bfe-df2c-c17c21e7934f"
      },
      "execution_count": null,
      "outputs": [
        {
          "output_type": "execute_result",
          "data": {
            "text/plain": [
              "<bound method Series.unique of 0.0    19831\n",
              "1.0     4943\n",
              "Name: q24, dtype: int64>"
            ]
          },
          "metadata": {},
          "execution_count": 14
        }
      ]
    },
    {
      "cell_type": "code",
      "source": [
        "casos_por_tipo_limpio = data_sin_nulos['q24'].value_counts().sort_index(ascending=False)\n",
        "\n",
        "# Crear el gráfico de barras\n",
        "plt.figure(figsize=(8, 6))\n",
        "sns.barplot(x=casos_por_tipo_limpio.index, y=casos_por_tipo_limpio.values, palette='coolwarm')\n",
        "plt.xlabel('Respuestas')\n",
        "plt.ylabel('Número de Respuestas Acumuladas')\n",
        "plt.title('Respuestas de cada tipo para la pregunta 24')\n",
        "plt.xticks(ticks=[0, 1], labels=['No', 'Si'])\n",
        "plt.tight_layout()\n",
        "plt.show()"
      ],
      "metadata": {
        "colab": {
          "base_uri": "https://localhost:8080/",
          "height": 607
        },
        "id": "f-5NcoFGUb-L",
        "outputId": "30984e26-608f-456d-81c9-d793a1893178"
      },
      "execution_count": null,
      "outputs": [
        {
          "output_type": "display_data",
          "data": {
            "text/plain": [
              "<Figure size 800x600 with 1 Axes>"
            ],
            "image/png": "[encoded data removed]"
          },
          "metadata": {}
        }
      ]
    },
    {
      "cell_type": "markdown",
      "source": [
        "El resultado es un dataset más chico, unas 25 mil entradas, pero que muestra un desbalance equivalente al de un comienzo (una relación 5:1 entre las respuestas). Para generar un dataset más balanceado con el que trabajar decidimos quedarlos con todos los casos en los que la respuesta a la pregunta 24 fue afirmativa, y realizar un muestreo al azar (de tamaño igual al de respuestas afirmativas) entre los casos que contestaron \"No\"."
      ],
      "metadata": {
        "id": "nYlKNwk1Gt_X"
      }
    },
    {
      "cell_type": "code",
      "source": [
        "# Guardamos las respuestas por \"Si\"\n",
        "data_rta_si = data_sin_nulos[data_sin_nulos['q24'] == 1]\n",
        "data_rta_no = data_sin_nulos[data_sin_nulos['q24'] == 0]\n",
        "\n",
        "\n",
        "# muestreamos en los desaprobados\n",
        "data_submuestreo = data_rta_no.sample(n=data_rta_si.shape[0], random_state=1)\n",
        "data_balanceada = data_rta_si.append(data_submuestreo)\n",
        "\n",
        "# Ya que estamos, lo desordenamos\n",
        "data_balanceada = data_balanceada.sample(frac=1, random_state=42)"
      ],
      "metadata": {
        "colab": {
          "base_uri": "https://localhost:8080/"
        },
        "id": "rGLpvVnVGtrx",
        "outputId": "b98fc478-6fda-450c-f587-b6d11a55975b"
      },
      "execution_count": null,
      "outputs": [
        {
          "output_type": "stream",
          "name": "stderr",
          "text": [
            "<ipython-input-16-4f235c337f9a>:8: FutureWarning: The frame.append method is deprecated and will be removed from pandas in a future version. Use pandas.concat instead.\n",
            "  data_balanceada = data_rta_si.append(data_submuestreo)\n"
          ]
        }
      ]
    },
    {
      "cell_type": "code",
      "source": [
        "# Verificamos\n",
        "data_balanceada.q24.value_counts().unique"
      ],
      "metadata": {
        "colab": {
          "base_uri": "https://localhost:8080/"
        },
        "id": "In6zycyKH_q0",
        "outputId": "cfd2654c-023b-415a-a88c-e73d2146b8e5"
      },
      "execution_count": null,
      "outputs": [
        {
          "output_type": "execute_result",
          "data": {
            "text/plain": [
              "<bound method Series.unique of 1.0    4943\n",
              "0.0    4943\n",
              "Name: q24, dtype: int64>"
            ]
          },
          "metadata": {},
          "execution_count": 17
        }
      ]
    },
    {
      "cell_type": "code",
      "source": [
        "data_balanceada.head()"
      ],
      "metadata": {
        "colab": {
          "base_uri": "https://localhost:8080/",
          "height": 235
        },
        "id": "gq3vE4UWaMAg",
        "outputId": "68726426-101c-4ab1-cac3-58dca8243767"
      },
      "execution_count": null,
      "outputs": [
        {
          "output_type": "execute_result",
          "data": {
            "text/plain": [
              "       record   q1   q2   q3   q6  q10  q15  q16  q17  q18  ...  qnff3g  \\\n",
              "47928   48006  5.0  1.0  3.0  2.0  1.0  1.0  3.0  4.0  8.0  ...     2.0   \n",
              "19871   20104  6.0  2.0  4.0  1.0  1.0  1.0  1.0  1.0  1.0  ...     2.0   \n",
              "34973   35235  4.0  2.0  2.0  3.0  2.0  1.0  2.0  2.0  4.0  ...     2.0   \n",
              "8154     8376  4.0  2.0  2.0  1.0  1.0  1.0  1.0  1.0  1.0  ...     2.0   \n",
              "28        236  3.0  2.0  2.0  1.0  4.0  1.0  1.0  1.0  1.0  ...     1.0   \n",
              "\n",
              "       qntob2g  qnnotb2g  qnpa5g  qnpa7g  qnpe3g  qnpe5g  weight    stratum  \\\n",
              "47928      1.0       2.0     2.0     2.0     2.0     2.0   50.74  201821001   \n",
              "19871      2.0       1.0     2.0     2.0     2.0     2.0   14.94  201810001   \n",
              "34973      1.0       2.0     2.0     2.0     2.0     2.0   30.11  201816007   \n",
              "8154       2.0       1.0     2.0     2.0     1.0     1.0   16.97  201804001   \n",
              "28         2.0       1.0     2.0     2.0     2.0     2.0  402.20  201801007   \n",
              "\n",
              "       psu  \n",
              "47928    2  \n",
              "19871    2  \n",
              "34973   13  \n",
              "8154     1  \n",
              "28      14  \n",
              "\n",
              "[5 rows x 133 columns]"
            ],
            "text/html": [
              "\n",
              "\n",
              "  <div id=\"df-876b89e0-5ea0-4cda-b5b7-c8d31dd8e2b0\">\n",
              "    <div class=\"colab-df-container\">\n",
              "      <div>\n",
              "<style scoped>\n",
              "    .dataframe tbody tr th:only-of-type {\n",
              "        vertical-align: middle;\n",
              "    }\n",
              "\n",
              "    .dataframe tbody tr th {\n",
              "        vertical-align: top;\n",
              "    }\n",
              "\n",
              "    .dataframe thead th {\n",
              "        text-align: right;\n",
              "    }\n",
              "</style>\n",
              "<table border=\"1\" class=\"dataframe\">\n",
              "  <thead>\n",
              "    <tr style=\"text-align: right;\">\n",
              "      <th></th>\n",
              "      <th>record</th>\n",
              "      <th>q1</th>\n",
              "      <th>q2</th>\n",
              "      <th>q3</th>\n",
              "      <th>q6</th>\n",
              "      <th>q10</th>\n",
              "      <th>q15</th>\n",
              "      <th>q16</th>\n",
              "      <th>q17</th>\n",
              "      <th>q18</th>\n",
              "      <th>...</th>\n",
              "      <th>qnff3g</th>\n",
              "      <th>qntob2g</th>\n",
              "      <th>qnnotb2g</th>\n",
              "      <th>qnpa5g</th>\n",
              "      <th>qnpa7g</th>\n",
              "      <th>qnpe3g</th>\n",
              "      <th>qnpe5g</th>\n",
              "      <th>weight</th>\n",
              "      <th>stratum</th>\n",
              "      <th>psu</th>\n",
              "    </tr>\n",
              "  </thead>\n",
              "  <tbody>\n",
              "    <tr>\n",
              "      <th>47928</th>\n",
              "      <td>48006</td>\n",
              "      <td>5.0</td>\n",
              "      <td>1.0</td>\n",
              "      <td>3.0</td>\n",
              "      <td>2.0</td>\n",
              "      <td>1.0</td>\n",
              "      <td>1.0</td>\n",
              "      <td>3.0</td>\n",
              "      <td>4.0</td>\n",
              "      <td>8.0</td>\n",
              "      <td>...</td>\n",
              "      <td>2.0</td>\n",
              "      <td>1.0</td>\n",
              "      <td>2.0</td>\n",
              "      <td>2.0</td>\n",
              "      <td>2.0</td>\n",
              "      <td>2.0</td>\n",
              "      <td>2.0</td>\n",
              "      <td>50.74</td>\n",
              "      <td>201821001</td>\n",
              "      <td>2</td>\n",
              "    </tr>\n",
              "    <tr>\n",
              "      <th>19871</th>\n",
              "      <td>20104</td>\n",
              "      <td>6.0</td>\n",
              "      <td>2.0</td>\n",
              "      <td>4.0</td>\n",
              "      <td>1.0</td>\n",
              "      <td>1.0</td>\n",
              "      <td>1.0</td>\n",
              "      <td>1.0</td>\n",
              "      <td>1.0</td>\n",
              "      <td>1.0</td>\n",
              "      <td>...</td>\n",
              "      <td>2.0</td>\n",
              "      <td>2.0</td>\n",
              "      <td>1.0</td>\n",
              "      <td>2.0</td>\n",
              "      <td>2.0</td>\n",
              "      <td>2.0</td>\n",
              "      <td>2.0</td>\n",
              "      <td>14.94</td>\n",
              "      <td>201810001</td>\n",
              "      <td>2</td>\n",
              "    </tr>\n",
              "    <tr>\n",
              "      <th>34973</th>\n",
              "      <td>35235</td>\n",
              "      <td>4.0</td>\n",
              "      <td>2.0</td>\n",
              "      <td>2.0</td>\n",
              "      <td>3.0</td>\n",
              "      <td>2.0</td>\n",
              "      <td>1.0</td>\n",
              "      <td>2.0</td>\n",
              "      <td>2.0</td>\n",
              "      <td>4.0</td>\n",
              "      <td>...</td>\n",
              "      <td>2.0</td>\n",
              "      <td>1.0</td>\n",
              "      <td>2.0</td>\n",
              "      <td>2.0</td>\n",
              "      <td>2.0</td>\n",
              "      <td>2.0</td>\n",
              "      <td>2.0</td>\n",
              "      <td>30.11</td>\n",
              "      <td>201816007</td>\n",
              "      <td>13</td>\n",
              "    </tr>\n",
              "    <tr>\n",
              "      <th>8154</th>\n",
              "      <td>8376</td>\n",
              "      <td>4.0</td>\n",
              "      <td>2.0</td>\n",
              "      <td>2.0</td>\n",
              "      <td>1.0</td>\n",
              "      <td>1.0</td>\n",
              "      <td>1.0</td>\n",
              "      <td>1.0</td>\n",
              "      <td>1.0</td>\n",
              "      <td>1.0</td>\n",
              "      <td>...</td>\n",
              "      <td>2.0</td>\n",
              "      <td>2.0</td>\n",
              "      <td>1.0</td>\n",
              "      <td>2.0</td>\n",
              "      <td>2.0</td>\n",
              "      <td>1.0</td>\n",
              "      <td>1.0</td>\n",
              "      <td>16.97</td>\n",
              "      <td>201804001</td>\n",
              "      <td>1</td>\n",
              "    </tr>\n",
              "    <tr>\n",
              "      <th>28</th>\n",
              "      <td>236</td>\n",
              "      <td>3.0</td>\n",
              "      <td>2.0</td>\n",
              "      <td>2.0</td>\n",
              "      <td>1.0</td>\n",
              "      <td>4.0</td>\n",
              "      <td>1.0</td>\n",
              "      <td>1.0</td>\n",
              "      <td>1.0</td>\n",
              "      <td>1.0</td>\n",
              "      <td>...</td>\n",
              "      <td>1.0</td>\n",
              "      <td>2.0</td>\n",
              "      <td>1.0</td>\n",
              "      <td>2.0</td>\n",
              "      <td>2.0</td>\n",
              "      <td>2.0</td>\n",
              "      <td>2.0</td>\n",
              "      <td>402.20</td>\n",
              "      <td>201801007</td>\n",
              "      <td>14</td>\n",
              "    </tr>\n",
              "  </tbody>\n",
              "</table>\n",
              "<p>5 rows × 133 columns</p>\n",
              "</div>\n",
              "      <button class=\"colab-df-convert\" onclick=\"convertToInteractive('df-876b89e0-5ea0-4cda-b5b7-c8d31dd8e2b0')\"\n",
              "              title=\"Convert this dataframe to an interactive table.\"\n",
              "              style=\"display:none;\">\n",
              "\n",
              "  <svg xmlns=\"http://www.w3.org/2000/svg\" height=\"24px\"viewBox=\"0 0 24 24\"\n",
              "       width=\"24px\">\n",
              "    <path d=\"M0 0h24v24H0V0z\" fill=\"none\"/>\n",
              "    <path d=\"M18.56 5.44l.94 2.06.94-2.06 2.06-.94-2.06-.94-.94-2.06-.94 2.06-2.06.94zm-11 1L8.5 8.5l.94-2.06 2.06-.94-2.06-.94L8.5 2.5l-.94 2.06-2.06.94zm10 10l.94 2.06.94-2.06 2.06-.94-2.06-.94-.94-2.06-.94 2.06-2.06.94z\"/><path d=\"M17.41 7.96l-1.37-1.37c-.4-.4-.92-.59-1.43-.59-.52 0-1.04.2-1.43.59L10.3 9.45l-7.72 7.72c-.78.78-.78 2.05 0 2.83L4 21.41c.39.39.9.59 1.41.59.51 0 1.02-.2 1.41-.59l7.78-7.78 2.81-2.81c.8-.78.8-2.07 0-2.86zM5.41 20L4 18.59l7.72-7.72 1.47 1.35L5.41 20z\"/>\n",
              "  </svg>\n",
              "      </button>\n",
              "\n",
              "\n",
              "\n",
              "    <div id=\"df-2b950007-4209-4a60-9665-4d472431bb4c\">\n",
              "      <button class=\"colab-df-quickchart\" onclick=\"quickchart('df-2b950007-4209-4a60-9665-4d472431bb4c')\"\n",
              "              title=\"Suggest charts.\"\n",
              "              style=\"display:none;\">\n",
              "\n",
              "<svg xmlns=\"http://www.w3.org/2000/svg\" height=\"24px\"viewBox=\"0 0 24 24\"\n",
              "     width=\"24px\">\n",
              "    <g>\n",
              "        <path d=\"M19 3H5c-1.1 0-2 .9-2 2v14c0 1.1.9 2 2 2h14c1.1 0 2-.9 2-2V5c0-1.1-.9-2-2-2zM9 17H7v-7h2v7zm4 0h-2V7h2v10zm4 0h-2v-4h2v4z\"/>\n",
              "    </g>\n",
              "</svg>\n",
              "      </button>\n",
              "    </div>\n",
              "\n",
              "<style>\n",
              "  .colab-df-quickchart {\n",
              "    background-color: #E8F0FE;\n",
              "    border: none;\n",
              "    border-radius: 50%;\n",
              "    cursor: pointer;\n",
              "    display: none;\n",
              "    fill: #1967D2;\n",
              "    height: 32px;\n",
              "    padding: 0 0 0 0;\n",
              "    width: 32px;\n",
              "  }\n",
              "\n",
              "  .colab-df-quickchart:hover {\n",
              "    background-color: #E2EBFA;\n",
              "    box-shadow: 0px 1px 2px rgba(60, 64, 67, 0.3), 0px 1px 3px 1px rgba(60, 64, 67, 0.15);\n",
              "    fill: #174EA6;\n",
              "  }\n",
              "\n",
              "  [theme=dark] .colab-df-quickchart {\n",
              "    background-color: #3B4455;\n",
              "    fill: #D2E3FC;\n",
              "  }\n",
              "\n",
              "  [theme=dark] .colab-df-quickchart:hover {\n",
              "    background-color: #434B5C;\n",
              "    box-shadow: 0px 1px 3px 1px rgba(0, 0, 0, 0.15);\n",
              "    filter: drop-shadow(0px 1px 2px rgba(0, 0, 0, 0.3));\n",
              "    fill: #FFFFFF;\n",
              "  }\n",
              "</style>\n",
              "\n",
              "    <script>\n",
              "      async function quickchart(key) {\n",
              "        const containerElement = document.querySelector('#' + key);\n",
              "        const charts = await google.colab.kernel.invokeFunction(\n",
              "            'suggestCharts', [key], {});\n",
              "      }\n",
              "    </script>\n",
              "\n",
              "      <script>\n",
              "\n",
              "function displayQuickchartButton(domScope) {\n",
              "  let quickchartButtonEl =\n",
              "    domScope.querySelector('#df-2b950007-4209-4a60-9665-4d472431bb4c button.colab-df-quickchart');\n",
              "  quickchartButtonEl.style.display =\n",
              "    google.colab.kernel.accessAllowed ? 'block' : 'none';\n",
              "}\n",
              "\n",
              "        displayQuickchartButton(document);\n",
              "      </script>\n",
              "      <style>\n",
              "    .colab-df-container {\n",
              "      display:flex;\n",
              "      flex-wrap:wrap;\n",
              "      gap: 12px;\n",
              "    }\n",
              "\n",
              "    .colab-df-convert {\n",
              "      background-color: #E8F0FE;\n",
              "      border: none;\n",
              "      border-radius: 50%;\n",
              "      cursor: pointer;\n",
              "      display: none;\n",
              "      fill: #1967D2;\n",
              "      height: 32px;\n",
              "      padding: 0 0 0 0;\n",
              "      width: 32px;\n",
              "    }\n",
              "\n",
              "    .colab-df-convert:hover {\n",
              "      background-color: #E2EBFA;\n",
              "      box-shadow: 0px 1px 2px rgba(60, 64, 67, 0.3), 0px 1px 3px 1px rgba(60, 64, 67, 0.15);\n",
              "      fill: #174EA6;\n",
              "    }\n",
              "\n",
              "    [theme=dark] .colab-df-convert {\n",
              "      background-color: #3B4455;\n",
              "      fill: #D2E3FC;\n",
              "    }\n",
              "\n",
              "    [theme=dark] .colab-df-convert:hover {\n",
              "      background-color: #434B5C;\n",
              "      box-shadow: 0px 1px 3px 1px rgba(0, 0, 0, 0.15);\n",
              "      filter: drop-shadow(0px 1px 2px rgba(0, 0, 0, 0.3));\n",
              "      fill: #FFFFFF;\n",
              "    }\n",
              "  </style>\n",
              "\n",
              "      <script>\n",
              "        const buttonEl =\n",
              "          document.querySelector('#df-876b89e0-5ea0-4cda-b5b7-c8d31dd8e2b0 button.colab-df-convert');\n",
              "        buttonEl.style.display =\n",
              "          google.colab.kernel.accessAllowed ? 'block' : 'none';\n",
              "\n",
              "        async function convertToInteractive(key) {\n",
              "          const element = document.querySelector('#df-876b89e0-5ea0-4cda-b5b7-c8d31dd8e2b0');\n",
              "          const dataTable =\n",
              "            await google.colab.kernel.invokeFunction('convertToInteractive',\n",
              "                                                     [key], {});\n",
              "          if (!dataTable) return;\n",
              "\n",
              "          const docLinkHtml = 'Like what you see? Visit the ' +\n",
              "            '<a target=\"_blank\" href=https://colab.research.google.com/notebooks/data_table.ipynb>data table notebook</a>'\n",
              "            + ' to learn more about interactive tables.';\n",
              "          element.innerHTML = '';\n",
              "          dataTable['output_type'] = 'display_data';\n",
              "          await google.colab.output.renderOutput(dataTable, element);\n",
              "          const docLink = document.createElement('div');\n",
              "          docLink.innerHTML = docLinkHtml;\n",
              "          element.appendChild(docLink);\n",
              "        }\n",
              "      </script>\n",
              "    </div>\n",
              "  </div>\n"
            ]
          },
          "metadata": {},
          "execution_count": 18
        }
      ]
    },
    {
      "cell_type": "markdown",
      "source": [
        "El dataset está balanceado con 4953 casos para cada tipo de respuesta.\n",
        "\n",
        "Evaluemos si hay alguna feature que tenga alto grado de correlación con la variable de clasificación."
      ],
      "metadata": {
        "id": "XEQ9TiXGNQNB"
      }
    },
    {
      "cell_type": "code",
      "source": [
        "correlation_matrix = data_balanceada.corr()\n",
        "\n",
        "correlation_with_target = correlation_matrix[\"q24\"].sort_values(ascending=False)\n",
        "top_10_correlated = correlation_with_target.head(10)\n",
        "print(top_10_correlated)\n",
        "\n",
        "# Grafiquemos\n",
        "\n",
        "fig, ax = plt.subplots(figsize=(16, 6))\n",
        "ax.plot(correlation_with_target.index, correlation_with_target.values, marker='o', linestyle='-', color='b')\n",
        "ax.set_xlabel('Características')\n",
        "ax.set_ylabel('Correlación')\n",
        "ax.set_title('Curva de Correlación de features la pregunta 24')\n",
        "ax.grid(True)\n",
        "plt.xticks(rotation=90)\n",
        "plt.show()"
      ],
      "metadata": {
        "colab": {
          "base_uri": "https://localhost:8080/",
          "height": 818
        },
        "id": "3VOIzUEAaXzT",
        "outputId": "54b3782b-9ae9-49b7-c9e4-1ee149b5b2f6"
      },
      "execution_count": null,
      "outputs": [
        {
          "output_type": "stream",
          "name": "stdout",
          "text": [
            "q24         1.000000\n",
            "q22         0.479137\n",
            "q26         0.443837\n",
            "q23         0.382852\n",
            "q80         0.371182\n",
            "qn80        0.330220\n",
            "qn56        0.260009\n",
            "q31         0.234737\n",
            "q2          0.215855\n",
            "qnnotb2g    0.207822\n",
            "Name: q24, dtype: float64\n"
          ]
        },
        {
          "output_type": "display_data",
          "data": {
            "text/plain": [
              "<Figure size 1600x600 with 1 Axes>"
            ],
            "image/png": "[encoded data removed]"
          },
          "metadata": {}
        }
      ]
    },
    {
      "cell_type": "markdown",
      "source": [
        "Como es de esperar las preguntas que tambien abordan el suicidio tienen un alto grado de correlación con la pregunta target, como son el caso de la pregunta 25 y 26 que consultan \"Durante los últimos 12 meses ¿hiciste algún plan de cómo intentarías suicidarte?\" y \"Durante los últimos 12 meses ¿cuántas veces intentaste realmente suicidarte?\". Estas preguntas serán removidas del dataset final de análisis. Sin embargo otras preguntas como la 22, que muestra tambien un alto grado de correlación y que explora \"Durante los últimos 12 meses ¿con qué frecuencia te sentiste solo o sola?\" nos pareció interesante conservarla.\n",
        "Asimismo, removimos las features \"psu\", \"record\" y \"stratum\" por ser elementos y etapas del proceso de selección de muestras representativas de una población más grande."
      ],
      "metadata": {
        "id": "0eCVgmT0Db2Y"
      }
    },
    {
      "cell_type": "code",
      "source": [
        "# Aprovechamos y además de dropear las columnas con alto grado de correlación, definimos el dataset de features\n",
        "X = data_balanceada.drop(['psu', 'record', 'stratum', 'q24','qn24','q25','qn25', 'q26', 'qn26'], axis=1)\n",
        "X.head()"
      ],
      "metadata": {
        "colab": {
          "base_uri": "https://localhost:8080/",
          "height": 235
        },
        "id": "t7wCgcmNVI7f",
        "outputId": "db4326a1-8c25-46ee-e554-c41b2dd6b987"
      },
      "execution_count": null,
      "outputs": [
        {
          "output_type": "execute_result",
          "data": {
            "text/plain": [
              "        q1   q2   q3   q6  q10  q15  q16  q17  q18  q19  ...  qnff1g  qnff2g  \\\n",
              "47928  5.0  1.0  3.0  2.0  1.0  1.0  3.0  4.0  8.0  8.0  ...     2.0     2.0   \n",
              "19871  6.0  2.0  4.0  1.0  1.0  1.0  1.0  1.0  1.0  1.0  ...     2.0     2.0   \n",
              "34973  4.0  2.0  2.0  3.0  2.0  1.0  2.0  2.0  4.0  2.0  ...     1.0     2.0   \n",
              "8154   4.0  2.0  2.0  1.0  1.0  1.0  1.0  1.0  1.0  1.0  ...     2.0     2.0   \n",
              "28     3.0  2.0  2.0  1.0  4.0  1.0  1.0  1.0  1.0  1.0  ...     1.0     1.0   \n",
              "\n",
              "       qnff3g  qntob2g  qnnotb2g  qnpa5g  qnpa7g  qnpe3g  qnpe5g  weight  \n",
              "47928     2.0      1.0       2.0     2.0     2.0     2.0     2.0   50.74  \n",
              "19871     2.0      2.0       1.0     2.0     2.0     2.0     2.0   14.94  \n",
              "34973     2.0      1.0       2.0     2.0     2.0     2.0     2.0   30.11  \n",
              "8154      2.0      2.0       1.0     2.0     2.0     1.0     1.0   16.97  \n",
              "28        1.0      2.0       1.0     2.0     2.0     2.0     2.0  402.20  \n",
              "\n",
              "[5 rows x 124 columns]"
            ],
            "text/html": [
              "\n",
              "\n",
              "  <div id=\"df-b6caf41b-21dd-4225-8d63-8d9a5a87518f\">\n",
              "    <div class=\"colab-df-container\">\n",
              "      <div>\n",
              "<style scoped>\n",
              "    .dataframe tbody tr th:only-of-type {\n",
              "        vertical-align: middle;\n",
              "    }\n",
              "\n",
              "    .dataframe tbody tr th {\n",
              "        vertical-align: top;\n",
              "    }\n",
              "\n",
              "    .dataframe thead th {\n",
              "        text-align: right;\n",
              "    }\n",
              "</style>\n",
              "<table border=\"1\" class=\"dataframe\">\n",
              "  <thead>\n",
              "    <tr style=\"text-align: right;\">\n",
              "      <th></th>\n",
              "      <th>q1</th>\n",
              "      <th>q2</th>\n",
              "      <th>q3</th>\n",
              "      <th>q6</th>\n",
              "      <th>q10</th>\n",
              "      <th>q15</th>\n",
              "      <th>q16</th>\n",
              "      <th>q17</th>\n",
              "      <th>q18</th>\n",
              "      <th>q19</th>\n",
              "      <th>...</th>\n",
              "      <th>qnff1g</th>\n",
              "      <th>qnff2g</th>\n",
              "      <th>qnff3g</th>\n",
              "      <th>qntob2g</th>\n",
              "      <th>qnnotb2g</th>\n",
              "      <th>qnpa5g</th>\n",
              "      <th>qnpa7g</th>\n",
              "      <th>qnpe3g</th>\n",
              "      <th>qnpe5g</th>\n",
              "      <th>weight</th>\n",
              "    </tr>\n",
              "  </thead>\n",
              "  <tbody>\n",
              "    <tr>\n",
              "      <th>47928</th>\n",
              "      <td>5.0</td>\n",
              "      <td>1.0</td>\n",
              "      <td>3.0</td>\n",
              "      <td>2.0</td>\n",
              "      <td>1.0</td>\n",
              "      <td>1.0</td>\n",
              "      <td>3.0</td>\n",
              "      <td>4.0</td>\n",
              "      <td>8.0</td>\n",
              "      <td>8.0</td>\n",
              "      <td>...</td>\n",
              "      <td>2.0</td>\n",
              "      <td>2.0</td>\n",
              "      <td>2.0</td>\n",
              "      <td>1.0</td>\n",
              "      <td>2.0</td>\n",
              "      <td>2.0</td>\n",
              "      <td>2.0</td>\n",
              "      <td>2.0</td>\n",
              "      <td>2.0</td>\n",
              "      <td>50.74</td>\n",
              "    </tr>\n",
              "    <tr>\n",
              "      <th>19871</th>\n",
              "      <td>6.0</td>\n",
              "      <td>2.0</td>\n",
              "      <td>4.0</td>\n",
              "      <td>1.0</td>\n",
              "      <td>1.0</td>\n",
              "      <td>1.0</td>\n",
              "      <td>1.0</td>\n",
              "      <td>1.0</td>\n",
              "      <td>1.0</td>\n",
              "      <td>1.0</td>\n",
              "      <td>...</td>\n",
              "      <td>2.0</td>\n",
              "      <td>2.0</td>\n",
              "      <td>2.0</td>\n",
              "      <td>2.0</td>\n",
              "      <td>1.0</td>\n",
              "      <td>2.0</td>\n",
              "      <td>2.0</td>\n",
              "      <td>2.0</td>\n",
              "      <td>2.0</td>\n",
              "      <td>14.94</td>\n",
              "    </tr>\n",
              "    <tr>\n",
              "      <th>34973</th>\n",
              "      <td>4.0</td>\n",
              "      <td>2.0</td>\n",
              "      <td>2.0</td>\n",
              "      <td>3.0</td>\n",
              "      <td>2.0</td>\n",
              "      <td>1.0</td>\n",
              "      <td>2.0</td>\n",
              "      <td>2.0</td>\n",
              "      <td>4.0</td>\n",
              "      <td>2.0</td>\n",
              "      <td>...</td>\n",
              "      <td>1.0</td>\n",
              "      <td>2.0</td>\n",
              "      <td>2.0</td>\n",
              "      <td>1.0</td>\n",
              "      <td>2.0</td>\n",
              "      <td>2.0</td>\n",
              "      <td>2.0</td>\n",
              "      <td>2.0</td>\n",
              "      <td>2.0</td>\n",
              "      <td>30.11</td>\n",
              "    </tr>\n",
              "    <tr>\n",
              "      <th>8154</th>\n",
              "      <td>4.0</td>\n",
              "      <td>2.0</td>\n",
              "      <td>2.0</td>\n",
              "      <td>1.0</td>\n",
              "      <td>1.0</td>\n",
              "      <td>1.0</td>\n",
              "      <td>1.0</td>\n",
              "      <td>1.0</td>\n",
              "      <td>1.0</td>\n",
              "      <td>1.0</td>\n",
              "      <td>...</td>\n",
              "      <td>2.0</td>\n",
              "      <td>2.0</td>\n",
              "      <td>2.0</td>\n",
              "      <td>2.0</td>\n",
              "      <td>1.0</td>\n",
              "      <td>2.0</td>\n",
              "      <td>2.0</td>\n",
              "      <td>1.0</td>\n",
              "      <td>1.0</td>\n",
              "      <td>16.97</td>\n",
              "    </tr>\n",
              "    <tr>\n",
              "      <th>28</th>\n",
              "      <td>3.0</td>\n",
              "      <td>2.0</td>\n",
              "      <td>2.0</td>\n",
              "      <td>1.0</td>\n",
              "      <td>4.0</td>\n",
              "      <td>1.0</td>\n",
              "      <td>1.0</td>\n",
              "      <td>1.0</td>\n",
              "      <td>1.0</td>\n",
              "      <td>1.0</td>\n",
              "      <td>...</td>\n",
              "      <td>1.0</td>\n",
              "      <td>1.0</td>\n",
              "      <td>1.0</td>\n",
              "      <td>2.0</td>\n",
              "      <td>1.0</td>\n",
              "      <td>2.0</td>\n",
              "      <td>2.0</td>\n",
              "      <td>2.0</td>\n",
              "      <td>2.0</td>\n",
              "      <td>402.20</td>\n",
              "    </tr>\n",
              "  </tbody>\n",
              "</table>\n",
              "<p>5 rows × 124 columns</p>\n",
              "</div>\n",
              "      <button class=\"colab-df-convert\" onclick=\"convertToInteractive('df-b6caf41b-21dd-4225-8d63-8d9a5a87518f')\"\n",
              "              title=\"Convert this dataframe to an interactive table.\"\n",
              "              style=\"display:none;\">\n",
              "\n",
              "  <svg xmlns=\"http://www.w3.org/2000/svg\" height=\"24px\"viewBox=\"0 0 24 24\"\n",
              "       width=\"24px\">\n",
              "    <path d=\"M0 0h24v24H0V0z\" fill=\"none\"/>\n",
              "    <path d=\"M18.56 5.44l.94 2.06.94-2.06 2.06-.94-2.06-.94-.94-2.06-.94 2.06-2.06.94zm-11 1L8.5 8.5l.94-2.06 2.06-.94-2.06-.94L8.5 2.5l-.94 2.06-2.06.94zm10 10l.94 2.06.94-2.06 2.06-.94-2.06-.94-.94-2.06-.94 2.06-2.06.94z\"/><path d=\"M17.41 7.96l-1.37-1.37c-.4-.4-.92-.59-1.43-.59-.52 0-1.04.2-1.43.59L10.3 9.45l-7.72 7.72c-.78.78-.78 2.05 0 2.83L4 21.41c.39.39.9.59 1.41.59.51 0 1.02-.2 1.41-.59l7.78-7.78 2.81-2.81c.8-.78.8-2.07 0-2.86zM5.41 20L4 18.59l7.72-7.72 1.47 1.35L5.41 20z\"/>\n",
              "  </svg>\n",
              "      </button>\n",
              "\n",
              "\n",
              "\n",
              "    <div id=\"df-863f3ad4-e919-48d9-a5c9-de8db685e224\">\n",
              "      <button class=\"colab-df-quickchart\" onclick=\"quickchart('df-863f3ad4-e919-48d9-a5c9-de8db685e224')\"\n",
              "              title=\"Suggest charts.\"\n",
              "              style=\"display:none;\">\n",
              "\n",
              "<svg xmlns=\"http://www.w3.org/2000/svg\" height=\"24px\"viewBox=\"0 0 24 24\"\n",
              "     width=\"24px\">\n",
              "    <g>\n",
              "        <path d=\"M19 3H5c-1.1 0-2 .9-2 2v14c0 1.1.9 2 2 2h14c1.1 0 2-.9 2-2V5c0-1.1-.9-2-2-2zM9 17H7v-7h2v7zm4 0h-2V7h2v10zm4 0h-2v-4h2v4z\"/>\n",
              "    </g>\n",
              "</svg>\n",
              "      </button>\n",
              "    </div>\n",
              "\n",
              "<style>\n",
              "  .colab-df-quickchart {\n",
              "    background-color: #E8F0FE;\n",
              "    border: none;\n",
              "    border-radius: 50%;\n",
              "    cursor: pointer;\n",
              "    display: none;\n",
              "    fill: #1967D2;\n",
              "    height: 32px;\n",
              "    padding: 0 0 0 0;\n",
              "    width: 32px;\n",
              "  }\n",
              "\n",
              "  .colab-df-quickchart:hover {\n",
              "    background-color: #E2EBFA;\n",
              "    box-shadow: 0px 1px 2px rgba(60, 64, 67, 0.3), 0px 1px 3px 1px rgba(60, 64, 67, 0.15);\n",
              "    fill: #174EA6;\n",
              "  }\n",
              "\n",
              "  [theme=dark] .colab-df-quickchart {\n",
              "    background-color: #3B4455;\n",
              "    fill: #D2E3FC;\n",
              "  }\n",
              "\n",
              "  [theme=dark] .colab-df-quickchart:hover {\n",
              "    background-color: #434B5C;\n",
              "    box-shadow: 0px 1px 3px 1px rgba(0, 0, 0, 0.15);\n",
              "    filter: drop-shadow(0px 1px 2px rgba(0, 0, 0, 0.3));\n",
              "    fill: #FFFFFF;\n",
              "  }\n",
              "</style>\n",
              "\n",
              "    <script>\n",
              "      async function quickchart(key) {\n",
              "        const containerElement = document.querySelector('#' + key);\n",
              "        const charts = await google.colab.kernel.invokeFunction(\n",
              "            'suggestCharts', [key], {});\n",
              "      }\n",
              "    </script>\n",
              "\n",
              "      <script>\n",
              "\n",
              "function displayQuickchartButton(domScope) {\n",
              "  let quickchartButtonEl =\n",
              "    domScope.querySelector('#df-863f3ad4-e919-48d9-a5c9-de8db685e224 button.colab-df-quickchart');\n",
              "  quickchartButtonEl.style.display =\n",
              "    google.colab.kernel.accessAllowed ? 'block' : 'none';\n",
              "}\n",
              "\n",
              "        displayQuickchartButton(document);\n",
              "      </script>\n",
              "      <style>\n",
              "    .colab-df-container {\n",
              "      display:flex;\n",
              "      flex-wrap:wrap;\n",
              "      gap: 12px;\n",
              "    }\n",
              "\n",
              "    .colab-df-convert {\n",
              "      background-color: #E8F0FE;\n",
              "      border: none;\n",
              "      border-radius: 50%;\n",
              "      cursor: pointer;\n",
              "      display: none;\n",
              "      fill: #1967D2;\n",
              "      height: 32px;\n",
              "      padding: 0 0 0 0;\n",
              "      width: 32px;\n",
              "    }\n",
              "\n",
              "    .colab-df-convert:hover {\n",
              "      background-color: #E2EBFA;\n",
              "      box-shadow: 0px 1px 2px rgba(60, 64, 67, 0.3), 0px 1px 3px 1px rgba(60, 64, 67, 0.15);\n",
              "      fill: #174EA6;\n",
              "    }\n",
              "\n",
              "    [theme=dark] .colab-df-convert {\n",
              "      background-color: #3B4455;\n",
              "      fill: #D2E3FC;\n",
              "    }\n",
              "\n",
              "    [theme=dark] .colab-df-convert:hover {\n",
              "      background-color: #434B5C;\n",
              "      box-shadow: 0px 1px 3px 1px rgba(0, 0, 0, 0.15);\n",
              "      filter: drop-shadow(0px 1px 2px rgba(0, 0, 0, 0.3));\n",
              "      fill: #FFFFFF;\n",
              "    }\n",
              "  </style>\n",
              "\n",
              "      <script>\n",
              "        const buttonEl =\n",
              "          document.querySelector('#df-b6caf41b-21dd-4225-8d63-8d9a5a87518f button.colab-df-convert');\n",
              "        buttonEl.style.display =\n",
              "          google.colab.kernel.accessAllowed ? 'block' : 'none';\n",
              "\n",
              "        async function convertToInteractive(key) {\n",
              "          const element = document.querySelector('#df-b6caf41b-21dd-4225-8d63-8d9a5a87518f');\n",
              "          const dataTable =\n",
              "            await google.colab.kernel.invokeFunction('convertToInteractive',\n",
              "                                                     [key], {});\n",
              "          if (!dataTable) return;\n",
              "\n",
              "          const docLinkHtml = 'Like what you see? Visit the ' +\n",
              "            '<a target=\"_blank\" href=https://colab.research.google.com/notebooks/data_table.ipynb>data table notebook</a>'\n",
              "            + ' to learn more about interactive tables.';\n",
              "          element.innerHTML = '';\n",
              "          dataTable['output_type'] = 'display_data';\n",
              "          await google.colab.output.renderOutput(dataTable, element);\n",
              "          const docLink = document.createElement('div');\n",
              "          docLink.innerHTML = docLinkHtml;\n",
              "          element.appendChild(docLink);\n",
              "        }\n",
              "      </script>\n",
              "    </div>\n",
              "  </div>\n"
            ]
          },
          "metadata": {},
          "execution_count": 20
        }
      ]
    },
    {
      "cell_type": "code",
      "source": [
        "# Y la serie target\n",
        "\n",
        "y = data_balanceada['q24']\n",
        "y.head()"
      ],
      "metadata": {
        "colab": {
          "base_uri": "https://localhost:8080/"
        },
        "id": "m34FV4IHVZyH",
        "outputId": "025f203b-3f2c-45d5-8ef2-94519f92e6b2"
      },
      "execution_count": null,
      "outputs": [
        {
          "output_type": "execute_result",
          "data": {
            "text/plain": [
              "47928    1.0\n",
              "19871    0.0\n",
              "34973    1.0\n",
              "8154     1.0\n",
              "28       0.0\n",
              "Name: q24, dtype: float64"
            ]
          },
          "metadata": {},
          "execution_count": 21
        }
      ]
    },
    {
      "cell_type": "code",
      "source": [
        "# Realizamos el split entre training y test\n",
        "X_train, X_test, y_train, y_test = train_test_split(X, y, random_state = 1)"
      ],
      "metadata": {
        "id": "i37zfjXRVcDo"
      },
      "execution_count": null,
      "outputs": []
    },
    {
      "cell_type": "code",
      "source": [
        "X_train"
      ],
      "metadata": {
        "colab": {
          "base_uri": "https://localhost:8080/",
          "height": 423
        },
        "id": "j4k2SuAucQNo",
        "outputId": "2c59a099-2d23-4e18-9743-d80242916e01"
      },
      "execution_count": null,
      "outputs": [
        {
          "output_type": "execute_result",
          "data": {
            "text/plain": [
              "        q1   q2   q3   q6  q10  q15  q16  q17  q18  q19  ...  qnff1g  qnff2g  \\\n",
              "34109  6.0  1.0  3.0  1.0  1.0  1.0  1.0  1.0  1.0  1.0  ...     2.0     2.0   \n",
              "84     5.0  1.0  5.0  1.0  1.0  4.0  2.0  1.0  1.0  1.0  ...     2.0     2.0   \n",
              "19990  7.0  2.0  5.0  1.0  1.0  1.0  1.0  2.0  8.0  8.0  ...     2.0     2.0   \n",
              "19053  6.0  2.0  4.0  2.0  2.0  2.0  1.0  1.0  1.0  1.0  ...     1.0     2.0   \n",
              "7512   4.0  2.0  3.0  1.0  1.0  1.0  1.0  1.0  1.0  1.0  ...     2.0     2.0   \n",
              "...    ...  ...  ...  ...  ...  ...  ...  ...  ...  ...  ...     ...     ...   \n",
              "31424  6.0  2.0  5.0  1.0  4.0  1.0  1.0  1.0  1.0  1.0  ...     1.0     1.0   \n",
              "32165  7.0  1.0  5.0  2.0  1.0  3.0  3.0  2.0  2.0  8.0  ...     2.0     2.0   \n",
              "10889  5.0  2.0  3.0  1.0  1.0  1.0  1.0  4.0  8.0  8.0  ...     2.0     2.0   \n",
              "46320  6.0  2.0  3.0  3.0  1.0  1.0  1.0  7.0  2.0  3.0  ...     2.0     2.0   \n",
              "53639  4.0  2.0  3.0  1.0  3.0  1.0  1.0  3.0  8.0  1.0  ...     1.0     1.0   \n",
              "\n",
              "       qnff3g  qntob2g  qnnotb2g  qnpa5g  qnpa7g  qnpe3g  qnpe5g  weight  \n",
              "34109     2.0      2.0       1.0     1.0     1.0     2.0     2.0   38.44  \n",
              "84        2.0      2.0       1.0     2.0     2.0     1.0     1.0  430.23  \n",
              "19990     2.0      2.0       1.0     2.0     2.0     1.0     1.0   26.94  \n",
              "19053     2.0      2.0       1.0     2.0     2.0     1.0     1.0   24.68  \n",
              "7512      2.0      1.0       2.0     2.0     2.0     1.0     1.0   21.92  \n",
              "...       ...      ...       ...     ...     ...     ...     ...     ...  \n",
              "31424     1.0      2.0       1.0     2.0     2.0     2.0     2.0   34.79  \n",
              "32165     2.0      2.0       1.0     1.0     1.0     1.0     1.0   25.35  \n",
              "10889     2.0      2.0       1.0     2.0     2.0     2.0     2.0   68.00  \n",
              "46320     2.0      2.0       1.0     2.0     2.0     1.0     1.0   94.73  \n",
              "53639     2.0      2.0       1.0     1.0     1.0     1.0     1.0    4.92  \n",
              "\n",
              "[7414 rows x 124 columns]"
            ],
            "text/html": [
              "\n",
              "\n",
              "  <div id=\"df-038a0611-af98-45af-9985-e168bf9c8a8a\">\n",
              "    <div class=\"colab-df-container\">\n",
              "      <div>\n",
              "<style scoped>\n",
              "    .dataframe tbody tr th:only-of-type {\n",
              "        vertical-align: middle;\n",
              "    }\n",
              "\n",
              "    .dataframe tbody tr th {\n",
              "        vertical-align: top;\n",
              "    }\n",
              "\n",
              "    .dataframe thead th {\n",
              "        text-align: right;\n",
              "    }\n",
              "</style>\n",
              "<table border=\"1\" class=\"dataframe\">\n",
              "  <thead>\n",
              "    <tr style=\"text-align: right;\">\n",
              "      <th></th>\n",
              "      <th>q1</th>\n",
              "      <th>q2</th>\n",
              "      <th>q3</th>\n",
              "      <th>q6</th>\n",
              "      <th>q10</th>\n",
              "      <th>q15</th>\n",
              "      <th>q16</th>\n",
              "      <th>q17</th>\n",
              "      <th>q18</th>\n",
              "      <th>q19</th>\n",
              "      <th>...</th>\n",
              "      <th>qnff1g</th>\n",
              "      <th>qnff2g</th>\n",
              "      <th>qnff3g</th>\n",
              "      <th>qntob2g</th>\n",
              "      <th>qnnotb2g</th>\n",
              "      <th>qnpa5g</th>\n",
              "      <th>qnpa7g</th>\n",
              "      <th>qnpe3g</th>\n",
              "      <th>qnpe5g</th>\n",
              "      <th>weight</th>\n",
              "    </tr>\n",
              "  </thead>\n",
              "  <tbody>\n",
              "    <tr>\n",
              "      <th>34109</th>\n",
              "      <td>6.0</td>\n",
              "      <td>1.0</td>\n",
              "      <td>3.0</td>\n",
              "      <td>1.0</td>\n",
              "      <td>1.0</td>\n",
              "      <td>1.0</td>\n",
              "      <td>1.0</td>\n",
              "      <td>1.0</td>\n",
              "      <td>1.0</td>\n",
              "      <td>1.0</td>\n",
              "      <td>...</td>\n",
              "      <td>2.0</td>\n",
              "      <td>2.0</td>\n",
              "      <td>2.0</td>\n",
              "      <td>2.0</td>\n",
              "      <td>1.0</td>\n",
              "      <td>1.0</td>\n",
              "      <td>1.0</td>\n",
              "      <td>2.0</td>\n",
              "      <td>2.0</td>\n",
              "      <td>38.44</td>\n",
              "    </tr>\n",
              "    <tr>\n",
              "      <th>84</th>\n",
              "      <td>5.0</td>\n",
              "      <td>1.0</td>\n",
              "      <td>5.0</td>\n",
              "      <td>1.0</td>\n",
              "      <td>1.0</td>\n",
              "      <td>4.0</td>\n",
              "      <td>2.0</td>\n",
              "      <td>1.0</td>\n",
              "      <td>1.0</td>\n",
              "      <td>1.0</td>\n",
              "      <td>...</td>\n",
              "      <td>2.0</td>\n",
              "      <td>2.0</td>\n",
              "      <td>2.0</td>\n",
              "      <td>2.0</td>\n",
              "      <td>1.0</td>\n",
              "      <td>2.0</td>\n",
              "      <td>2.0</td>\n",
              "      <td>1.0</td>\n",
              "      <td>1.0</td>\n",
              "      <td>430.23</td>\n",
              "    </tr>\n",
              "    <tr>\n",
              "      <th>19990</th>\n",
              "      <td>7.0</td>\n",
              "      <td>2.0</td>\n",
              "      <td>5.0</td>\n",
              "      <td>1.0</td>\n",
              "      <td>1.0</td>\n",
              "      <td>1.0</td>\n",
              "      <td>1.0</td>\n",
              "      <td>2.0</td>\n",
              "      <td>8.0</td>\n",
              "      <td>8.0</td>\n",
              "      <td>...</td>\n",
              "      <td>2.0</td>\n",
              "      <td>2.0</td>\n",
              "      <td>2.0</td>\n",
              "      <td>2.0</td>\n",
              "      <td>1.0</td>\n",
              "      <td>2.0</td>\n",
              "      <td>2.0</td>\n",
              "      <td>1.0</td>\n",
              "      <td>1.0</td>\n",
              "      <td>26.94</td>\n",
              "    </tr>\n",
              "    <tr>\n",
              "      <th>19053</th>\n",
              "      <td>6.0</td>\n",
              "      <td>2.0</td>\n",
              "      <td>4.0</td>\n",
              "      <td>2.0</td>\n",
              "      <td>2.0</td>\n",
              "      <td>2.0</td>\n",
              "      <td>1.0</td>\n",
              "      <td>1.0</td>\n",
              "      <td>1.0</td>\n",
              "      <td>1.0</td>\n",
              "      <td>...</td>\n",
              "      <td>1.0</td>\n",
              "      <td>2.0</td>\n",
              "      <td>2.0</td>\n",
              "      <td>2.0</td>\n",
              "      <td>1.0</td>\n",
              "      <td>2.0</td>\n",
              "      <td>2.0</td>\n",
              "      <td>1.0</td>\n",
              "      <td>1.0</td>\n",
              "      <td>24.68</td>\n",
              "    </tr>\n",
              "    <tr>\n",
              "      <th>7512</th>\n",
              "      <td>4.0</td>\n",
              "      <td>2.0</td>\n",
              "      <td>3.0</td>\n",
              "      <td>1.0</td>\n",
              "      <td>1.0</td>\n",
              "      <td>1.0</td>\n",
              "      <td>1.0</td>\n",
              "      <td>1.0</td>\n",
              "      <td>1.0</td>\n",
              "      <td>1.0</td>\n",
              "      <td>...</td>\n",
              "      <td>2.0</td>\n",
              "      <td>2.0</td>\n",
              "      <td>2.0</td>\n",
              "      <td>1.0</td>\n",
              "      <td>2.0</td>\n",
              "      <td>2.0</td>\n",
              "      <td>2.0</td>\n",
              "      <td>1.0</td>\n",
              "      <td>1.0</td>\n",
              "      <td>21.92</td>\n",
              "    </tr>\n",
              "    <tr>\n",
              "      <th>...</th>\n",
              "      <td>...</td>\n",
              "      <td>...</td>\n",
              "      <td>...</td>\n",
              "      <td>...</td>\n",
              "      <td>...</td>\n",
              "      <td>...</td>\n",
              "      <td>...</td>\n",
              "      <td>...</td>\n",
              "      <td>...</td>\n",
              "      <td>...</td>\n",
              "      <td>...</td>\n",
              "      <td>...</td>\n",
              "      <td>...</td>\n",
              "      <td>...</td>\n",
              "      <td>...</td>\n",
              "      <td>...</td>\n",
              "      <td>...</td>\n",
              "      <td>...</td>\n",
              "      <td>...</td>\n",
              "      <td>...</td>\n",
              "      <td>...</td>\n",
              "    </tr>\n",
              "    <tr>\n",
              "      <th>31424</th>\n",
              "      <td>6.0</td>\n",
              "      <td>2.0</td>\n",
              "      <td>5.0</td>\n",
              "      <td>1.0</td>\n",
              "      <td>4.0</td>\n",
              "      <td>1.0</td>\n",
              "      <td>1.0</td>\n",
              "      <td>1.0</td>\n",
              "      <td>1.0</td>\n",
              "      <td>1.0</td>\n",
              "      <td>...</td>\n",
              "      <td>1.0</td>\n",
              "      <td>1.0</td>\n",
              "      <td>1.0</td>\n",
              "      <td>2.0</td>\n",
              "      <td>1.0</td>\n",
              "      <td>2.0</td>\n",
              "      <td>2.0</td>\n",
              "      <td>2.0</td>\n",
              "      <td>2.0</td>\n",
              "      <td>34.79</td>\n",
              "    </tr>\n",
              "    <tr>\n",
              "      <th>32165</th>\n",
              "      <td>7.0</td>\n",
              "      <td>1.0</td>\n",
              "      <td>5.0</td>\n",
              "      <td>2.0</td>\n",
              "      <td>1.0</td>\n",
              "      <td>3.0</td>\n",
              "      <td>3.0</td>\n",
              "      <td>2.0</td>\n",
              "      <td>2.0</td>\n",
              "      <td>8.0</td>\n",
              "      <td>...</td>\n",
              "      <td>2.0</td>\n",
              "      <td>2.0</td>\n",
              "      <td>2.0</td>\n",
              "      <td>2.0</td>\n",
              "      <td>1.0</td>\n",
              "      <td>1.0</td>\n",
              "      <td>1.0</td>\n",
              "      <td>1.0</td>\n",
              "      <td>1.0</td>\n",
              "      <td>25.35</td>\n",
              "    </tr>\n",
              "    <tr>\n",
              "      <th>10889</th>\n",
              "      <td>5.0</td>\n",
              "      <td>2.0</td>\n",
              "      <td>3.0</td>\n",
              "      <td>1.0</td>\n",
              "      <td>1.0</td>\n",
              "      <td>1.0</td>\n",
              "      <td>1.0</td>\n",
              "      <td>4.0</td>\n",
              "      <td>8.0</td>\n",
              "      <td>8.0</td>\n",
              "      <td>...</td>\n",
              "      <td>2.0</td>\n",
              "      <td>2.0</td>\n",
              "      <td>2.0</td>\n",
              "      <td>2.0</td>\n",
              "      <td>1.0</td>\n",
              "      <td>2.0</td>\n",
              "      <td>2.0</td>\n",
              "      <td>2.0</td>\n",
              "      <td>2.0</td>\n",
              "      <td>68.00</td>\n",
              "    </tr>\n",
              "    <tr>\n",
              "      <th>46320</th>\n",
              "      <td>6.0</td>\n",
              "      <td>2.0</td>\n",
              "      <td>3.0</td>\n",
              "      <td>3.0</td>\n",
              "      <td>1.0</td>\n",
              "      <td>1.0</td>\n",
              "      <td>1.0</td>\n",
              "      <td>7.0</td>\n",
              "      <td>2.0</td>\n",
              "      <td>3.0</td>\n",
              "      <td>...</td>\n",
              "      <td>2.0</td>\n",
              "      <td>2.0</td>\n",
              "      <td>2.0</td>\n",
              "      <td>2.0</td>\n",
              "      <td>1.0</td>\n",
              "      <td>2.0</td>\n",
              "      <td>2.0</td>\n",
              "      <td>1.0</td>\n",
              "      <td>1.0</td>\n",
              "      <td>94.73</td>\n",
              "    </tr>\n",
              "    <tr>\n",
              "      <th>53639</th>\n",
              "      <td>4.0</td>\n",
              "      <td>2.0</td>\n",
              "      <td>3.0</td>\n",
              "      <td>1.0</td>\n",
              "      <td>3.0</td>\n",
              "      <td>1.0</td>\n",
              "      <td>1.0</td>\n",
              "      <td>3.0</td>\n",
              "      <td>8.0</td>\n",
              "      <td>1.0</td>\n",
              "      <td>...</td>\n",
              "      <td>1.0</td>\n",
              "      <td>1.0</td>\n",
              "      <td>2.0</td>\n",
              "      <td>2.0</td>\n",
              "      <td>1.0</td>\n",
              "      <td>1.0</td>\n",
              "      <td>1.0</td>\n",
              "      <td>1.0</td>\n",
              "      <td>1.0</td>\n",
              "      <td>4.92</td>\n",
              "    </tr>\n",
              "  </tbody>\n",
              "</table>\n",
              "<p>7414 rows × 124 columns</p>\n",
              "</div>\n",
              "      <button class=\"colab-df-convert\" onclick=\"convertToInteractive('df-038a0611-af98-45af-9985-e168bf9c8a8a')\"\n",
              "              title=\"Convert this dataframe to an interactive table.\"\n",
              "              style=\"display:none;\">\n",
              "\n",
              "  <svg xmlns=\"http://www.w3.org/2000/svg\" height=\"24px\"viewBox=\"0 0 24 24\"\n",
              "       width=\"24px\">\n",
              "    <path d=\"M0 0h24v24H0V0z\" fill=\"none\"/>\n",
              "    <path d=\"M18.56 5.44l.94 2.06.94-2.06 2.06-.94-2.06-.94-.94-2.06-.94 2.06-2.06.94zm-11 1L8.5 8.5l.94-2.06 2.06-.94-2.06-.94L8.5 2.5l-.94 2.06-2.06.94zm10 10l.94 2.06.94-2.06 2.06-.94-2.06-.94-.94-2.06-.94 2.06-2.06.94z\"/><path d=\"M17.41 7.96l-1.37-1.37c-.4-.4-.92-.59-1.43-.59-.52 0-1.04.2-1.43.59L10.3 9.45l-7.72 7.72c-.78.78-.78 2.05 0 2.83L4 21.41c.39.39.9.59 1.41.59.51 0 1.02-.2 1.41-.59l7.78-7.78 2.81-2.81c.8-.78.8-2.07 0-2.86zM5.41 20L4 18.59l7.72-7.72 1.47 1.35L5.41 20z\"/>\n",
              "  </svg>\n",
              "      </button>\n",
              "\n",
              "\n",
              "\n",
              "    <div id=\"df-d155e377-61f8-4d8f-bc57-8c6f03b9467a\">\n",
              "      <button class=\"colab-df-quickchart\" onclick=\"quickchart('df-d155e377-61f8-4d8f-bc57-8c6f03b9467a')\"\n",
              "              title=\"Suggest charts.\"\n",
              "              style=\"display:none;\">\n",
              "\n",
              "<svg xmlns=\"http://www.w3.org/2000/svg\" height=\"24px\"viewBox=\"0 0 24 24\"\n",
              "     width=\"24px\">\n",
              "    <g>\n",
              "        <path d=\"M19 3H5c-1.1 0-2 .9-2 2v14c0 1.1.9 2 2 2h14c1.1 0 2-.9 2-2V5c0-1.1-.9-2-2-2zM9 17H7v-7h2v7zm4 0h-2V7h2v10zm4 0h-2v-4h2v4z\"/>\n",
              "    </g>\n",
              "</svg>\n",
              "      </button>\n",
              "    </div>\n",
              "\n",
              "<style>\n",
              "  .colab-df-quickchart {\n",
              "    background-color: #E8F0FE;\n",
              "    border: none;\n",
              "    border-radius: 50%;\n",
              "    cursor: pointer;\n",
              "    display: none;\n",
              "    fill: #1967D2;\n",
              "    height: 32px;\n",
              "    padding: 0 0 0 0;\n",
              "    width: 32px;\n",
              "  }\n",
              "\n",
              "  .colab-df-quickchart:hover {\n",
              "    background-color: #E2EBFA;\n",
              "    box-shadow: 0px 1px 2px rgba(60, 64, 67, 0.3), 0px 1px 3px 1px rgba(60, 64, 67, 0.15);\n",
              "    fill: #174EA6;\n",
              "  }\n",
              "\n",
              "  [theme=dark] .colab-df-quickchart {\n",
              "    background-color: #3B4455;\n",
              "    fill: #D2E3FC;\n",
              "  }\n",
              "\n",
              "  [theme=dark] .colab-df-quickchart:hover {\n",
              "    background-color: #434B5C;\n",
              "    box-shadow: 0px 1px 3px 1px rgba(0, 0, 0, 0.15);\n",
              "    filter: drop-shadow(0px 1px 2px rgba(0, 0, 0, 0.3));\n",
              "    fill: #FFFFFF;\n",
              "  }\n",
              "</style>\n",
              "\n",
              "    <script>\n",
              "      async function quickchart(key) {\n",
              "        const containerElement = document.querySelector('#' + key);\n",
              "        const charts = await google.colab.kernel.invokeFunction(\n",
              "            'suggestCharts', [key], {});\n",
              "      }\n",
              "    </script>\n",
              "\n",
              "      <script>\n",
              "\n",
              "function displayQuickchartButton(domScope) {\n",
              "  let quickchartButtonEl =\n",
              "    domScope.querySelector('#df-d155e377-61f8-4d8f-bc57-8c6f03b9467a button.colab-df-quickchart');\n",
              "  quickchartButtonEl.style.display =\n",
              "    google.colab.kernel.accessAllowed ? 'block' : 'none';\n",
              "}\n",
              "\n",
              "        displayQuickchartButton(document);\n",
              "      </script>\n",
              "      <style>\n",
              "    .colab-df-container {\n",
              "      display:flex;\n",
              "      flex-wrap:wrap;\n",
              "      gap: 12px;\n",
              "    }\n",
              "\n",
              "    .colab-df-convert {\n",
              "      background-color: #E8F0FE;\n",
              "      border: none;\n",
              "      border-radius: 50%;\n",
              "      cursor: pointer;\n",
              "      display: none;\n",
              "      fill: #1967D2;\n",
              "      height: 32px;\n",
              "      padding: 0 0 0 0;\n",
              "      width: 32px;\n",
              "    }\n",
              "\n",
              "    .colab-df-convert:hover {\n",
              "      background-color: #E2EBFA;\n",
              "      box-shadow: 0px 1px 2px rgba(60, 64, 67, 0.3), 0px 1px 3px 1px rgba(60, 64, 67, 0.15);\n",
              "      fill: #174EA6;\n",
              "    }\n",
              "\n",
              "    [theme=dark] .colab-df-convert {\n",
              "      background-color: #3B4455;\n",
              "      fill: #D2E3FC;\n",
              "    }\n",
              "\n",
              "    [theme=dark] .colab-df-convert:hover {\n",
              "      background-color: #434B5C;\n",
              "      box-shadow: 0px 1px 3px 1px rgba(0, 0, 0, 0.15);\n",
              "      filter: drop-shadow(0px 1px 2px rgba(0, 0, 0, 0.3));\n",
              "      fill: #FFFFFF;\n",
              "    }\n",
              "  </style>\n",
              "\n",
              "      <script>\n",
              "        const buttonEl =\n",
              "          document.querySelector('#df-038a0611-af98-45af-9985-e168bf9c8a8a button.colab-df-convert');\n",
              "        buttonEl.style.display =\n",
              "          google.colab.kernel.accessAllowed ? 'block' : 'none';\n",
              "\n",
              "        async function convertToInteractive(key) {\n",
              "          const element = document.querySelector('#df-038a0611-af98-45af-9985-e168bf9c8a8a');\n",
              "          const dataTable =\n",
              "            await google.colab.kernel.invokeFunction('convertToInteractive',\n",
              "                                                     [key], {});\n",
              "          if (!dataTable) return;\n",
              "\n",
              "          const docLinkHtml = 'Like what you see? Visit the ' +\n",
              "            '<a target=\"_blank\" href=https://colab.research.google.com/notebooks/data_table.ipynb>data table notebook</a>'\n",
              "            + ' to learn more about interactive tables.';\n",
              "          element.innerHTML = '';\n",
              "          dataTable['output_type'] = 'display_data';\n",
              "          await google.colab.output.renderOutput(dataTable, element);\n",
              "          const docLink = document.createElement('div');\n",
              "          docLink.innerHTML = docLinkHtml;\n",
              "          element.appendChild(docLink);\n",
              "        }\n",
              "      </script>\n",
              "    </div>\n",
              "  </div>\n"
            ]
          },
          "metadata": {},
          "execution_count": 23
        }
      ]
    },
    {
      "cell_type": "code",
      "source": [
        "# Y estandarizamos los dataset para dejarlos preparados para la aplicación de los modelos.\n",
        "# Siendo que algunos de ellos se basan en distancias o cuentan con regularización, este paso es particularmente importante.\n",
        "\n",
        "scaler = StandardScaler()\n",
        "X_train = scaler.fit_transform(X_train)\n",
        "X_test = scaler.transform(X_test)"
      ],
      "metadata": {
        "id": "NRAMwFI1E4u_"
      },
      "execution_count": null,
      "outputs": []
    },
    {
      "cell_type": "markdown",
      "source": [
        "## KNN\n",
        "\n",
        "Empecemos a aplicar modelos de clasificación, comenzando por KNN"
      ],
      "metadata": {
        "id": "4XzlTUaKV8fj"
      }
    },
    {
      "cell_type": "markdown",
      "source": [
        "El único hiperparámetro de KNN es el número vecinos que se evaluan. Asi que vamos a crear una función que mediante el uso de cross correlation itere entre los K posibles dentro de un rango y se quede con alquen que mejor desempeño tenga."
      ],
      "metadata": {
        "id": "uvJPu380Fksy"
      }
    },
    {
      "cell_type": "code",
      "source": [
        "def scores_knn_k (X, y, start, stop, step):\n",
        "\n",
        "    # Creamos una lista de diccionarios\n",
        "    scores_para_df = []\n",
        "\n",
        "    for i in range(start,stop,step):\n",
        "\n",
        "        # En cada iteración, instanciamos el modelo con un hiperparámetro distinto\n",
        "        model = KNeighborsClassifier(n_neighbors=i)\n",
        "\n",
        "        # cross_val_scores nos devuelve un array de 10 resultados, uno por cada fold que hizo automáticamente CV\n",
        "        kf = KFold(n_splits=10, shuffle=True, random_state=10)\n",
        "        cv_scores = cross_val_score(model, X, y, cv=kf)\n",
        "\n",
        "        # Para cada valor de n_neighbours, creamos un diccionario con el valor de n_neighbours y la media y el desvío de los scores\n",
        "        dict_row_score = {'score_medio':np.mean(cv_scores),'score_std':np.std(cv_scores),'n_neighbours':i}\n",
        "\n",
        "        # Guardamos cada uno en la lista de diccionarios\n",
        "        scores_para_df.append(dict_row_score)\n",
        "\n",
        "    # Creamos el DF a partir de la lista de resultados\n",
        "    df_scores = pd.DataFrame(scores_para_df)\n",
        "\n",
        "    # Incorporamos los límites inferior y superior, restando y sumando el valor del desvío estándar, respectivamente\n",
        "    df_scores['limite_inferior'] = df_scores['score_medio'] - df_scores['score_std']\n",
        "    df_scores['limite_superior'] = df_scores['score_medio'] + df_scores['score_std']\n",
        "\n",
        "    # Retornamos el DF\n",
        "    return df_scores"
      ],
      "metadata": {
        "id": "BFS1PgW7WomG"
      },
      "execution_count": null,
      "outputs": []
    },
    {
      "cell_type": "code",
      "source": [
        "df_scores_k = scores_knn_k(X_train, y_train, 1, 21, 1)"
      ],
      "metadata": {
        "id": "e-YjU73vWx2O"
      },
      "execution_count": null,
      "outputs": []
    },
    {
      "cell_type": "code",
      "source": [
        "df_scores_k"
      ],
      "metadata": {
        "colab": {
          "base_uri": "https://localhost:8080/",
          "height": 676
        },
        "id": "VsS_SdF1SyDm",
        "outputId": "cbe990ed-7aff-40f8-ad26-bd0a8da87ff9"
      },
      "execution_count": null,
      "outputs": [
        {
          "output_type": "execute_result",
          "data": {
            "text/plain": [
              "    score_medio  score_std  n_neighbours  limite_inferior  limite_superior\n",
              "0      0.652143   0.022748             1         0.629395         0.674892\n",
              "1      0.629482   0.026782             2         0.602700         0.656264\n",
              "2      0.679526   0.023168             3         0.656358         0.702694\n",
              "3      0.658078   0.025500             4         0.632578         0.683577\n",
              "4      0.691934   0.020222             5         0.671712         0.712156\n",
              "5      0.672645   0.017676             6         0.654970         0.690321\n",
              "6      0.695172   0.019779             7         0.675393         0.714952\n",
              "7      0.679927   0.024140             8         0.655787         0.704068\n",
              "8      0.699621   0.021368             9         0.678253         0.720989\n",
              "9      0.686132   0.017921            10         0.668211         0.704052\n",
              "10     0.704073   0.017482            11         0.686590         0.721555\n",
              "11     0.690179   0.014529            12         0.675650         0.704708\n",
              "12     0.706365   0.013972            13         0.692393         0.720337\n",
              "13     0.692877   0.014589            14         0.678288         0.707465\n",
              "14     0.706233   0.017412            15         0.688822         0.723645\n",
              "15     0.695576   0.016873            16         0.678703         0.712449\n",
              "16     0.707579   0.018850            17         0.688730         0.726429\n",
              "17     0.697329   0.017913            18         0.679416         0.715242\n",
              "18     0.707580   0.017323            19         0.690257         0.724903\n",
              "19     0.699220   0.021020            20         0.678200         0.720240"
            ],
            "text/html": [
              "\n",
              "\n",
              "  <div id=\"df-1f93ee24-208d-4c6e-8795-1dab6e5be53d\">\n",
              "    <div class=\"colab-df-container\">\n",
              "      <div>\n",
              "<style scoped>\n",
              "    .dataframe tbody tr th:only-of-type {\n",
              "        vertical-align: middle;\n",
              "    }\n",
              "\n",
              "    .dataframe tbody tr th {\n",
              "        vertical-align: top;\n",
              "    }\n",
              "\n",
              "    .dataframe thead th {\n",
              "        text-align: right;\n",
              "    }\n",
              "</style>\n",
              "<table border=\"1\" class=\"dataframe\">\n",
              "  <thead>\n",
              "    <tr style=\"text-align: right;\">\n",
              "      <th></th>\n",
              "      <th>score_medio</th>\n",
              "      <th>score_std</th>\n",
              "      <th>n_neighbours</th>\n",
              "      <th>limite_inferior</th>\n",
              "      <th>limite_superior</th>\n",
              "    </tr>\n",
              "  </thead>\n",
              "  <tbody>\n",
              "    <tr>\n",
              "      <th>0</th>\n",
              "      <td>0.652143</td>\n",
              "      <td>0.022748</td>\n",
              "      <td>1</td>\n",
              "      <td>0.629395</td>\n",
              "      <td>0.674892</td>\n",
              "    </tr>\n",
              "    <tr>\n",
              "      <th>1</th>\n",
              "      <td>0.629482</td>\n",
              "      <td>0.026782</td>\n",
              "      <td>2</td>\n",
              "      <td>0.602700</td>\n",
              "      <td>0.656264</td>\n",
              "    </tr>\n",
              "    <tr>\n",
              "      <th>2</th>\n",
              "      <td>0.679526</td>\n",
              "      <td>0.023168</td>\n",
              "      <td>3</td>\n",
              "      <td>0.656358</td>\n",
              "      <td>0.702694</td>\n",
              "    </tr>\n",
              "    <tr>\n",
              "      <th>3</th>\n",
              "      <td>0.658078</td>\n",
              "      <td>0.025500</td>\n",
              "      <td>4</td>\n",
              "      <td>0.632578</td>\n",
              "      <td>0.683577</td>\n",
              "    </tr>\n",
              "    <tr>\n",
              "      <th>4</th>\n",
              "      <td>0.691934</td>\n",
              "      <td>0.020222</td>\n",
              "      <td>5</td>\n",
              "      <td>0.671712</td>\n",
              "      <td>0.712156</td>\n",
              "    </tr>\n",
              "    <tr>\n",
              "      <th>5</th>\n",
              "      <td>0.672645</td>\n",
              "      <td>0.017676</td>\n",
              "      <td>6</td>\n",
              "      <td>0.654970</td>\n",
              "      <td>0.690321</td>\n",
              "    </tr>\n",
              "    <tr>\n",
              "      <th>6</th>\n",
              "      <td>0.695172</td>\n",
              "      <td>0.019779</td>\n",
              "      <td>7</td>\n",
              "      <td>0.675393</td>\n",
              "      <td>0.714952</td>\n",
              "    </tr>\n",
              "    <tr>\n",
              "      <th>7</th>\n",
              "      <td>0.679927</td>\n",
              "      <td>0.024140</td>\n",
              "      <td>8</td>\n",
              "      <td>0.655787</td>\n",
              "      <td>0.704068</td>\n",
              "    </tr>\n",
              "    <tr>\n",
              "      <th>8</th>\n",
              "      <td>0.699621</td>\n",
              "      <td>0.021368</td>\n",
              "      <td>9</td>\n",
              "      <td>0.678253</td>\n",
              "      <td>0.720989</td>\n",
              "    </tr>\n",
              "    <tr>\n",
              "      <th>9</th>\n",
              "      <td>0.686132</td>\n",
              "      <td>0.017921</td>\n",
              "      <td>10</td>\n",
              "      <td>0.668211</td>\n",
              "      <td>0.704052</td>\n",
              "    </tr>\n",
              "    <tr>\n",
              "      <th>10</th>\n",
              "      <td>0.704073</td>\n",
              "      <td>0.017482</td>\n",
              "      <td>11</td>\n",
              "      <td>0.686590</td>\n",
              "      <td>0.721555</td>\n",
              "    </tr>\n",
              "    <tr>\n",
              "      <th>11</th>\n",
              "      <td>0.690179</td>\n",
              "      <td>0.014529</td>\n",
              "      <td>12</td>\n",
              "      <td>0.675650</td>\n",
              "      <td>0.704708</td>\n",
              "    </tr>\n",
              "    <tr>\n",
              "      <th>12</th>\n",
              "      <td>0.706365</td>\n",
              "      <td>0.013972</td>\n",
              "      <td>13</td>\n",
              "      <td>0.692393</td>\n",
              "      <td>0.720337</td>\n",
              "    </tr>\n",
              "    <tr>\n",
              "      <th>13</th>\n",
              "      <td>0.692877</td>\n",
              "      <td>0.014589</td>\n",
              "      <td>14</td>\n",
              "      <td>0.678288</td>\n",
              "      <td>0.707465</td>\n",
              "    </tr>\n",
              "    <tr>\n",
              "      <th>14</th>\n",
              "      <td>0.706233</td>\n",
              "      <td>0.017412</td>\n",
              "      <td>15</td>\n",
              "      <td>0.688822</td>\n",
              "      <td>0.723645</td>\n",
              "    </tr>\n",
              "    <tr>\n",
              "      <th>15</th>\n",
              "      <td>0.695576</td>\n",
              "      <td>0.016873</td>\n",
              "      <td>16</td>\n",
              "      <td>0.678703</td>\n",
              "      <td>0.712449</td>\n",
              "    </tr>\n",
              "    <tr>\n",
              "      <th>16</th>\n",
              "      <td>0.707579</td>\n",
              "      <td>0.018850</td>\n",
              "      <td>17</td>\n",
              "      <td>0.688730</td>\n",
              "      <td>0.726429</td>\n",
              "    </tr>\n",
              "    <tr>\n",
              "      <th>17</th>\n",
              "      <td>0.697329</td>\n",
              "      <td>0.017913</td>\n",
              "      <td>18</td>\n",
              "      <td>0.679416</td>\n",
              "      <td>0.715242</td>\n",
              "    </tr>\n",
              "    <tr>\n",
              "      <th>18</th>\n",
              "      <td>0.707580</td>\n",
              "      <td>0.017323</td>\n",
              "      <td>19</td>\n",
              "      <td>0.690257</td>\n",
              "      <td>0.724903</td>\n",
              "    </tr>\n",
              "    <tr>\n",
              "      <th>19</th>\n",
              "      <td>0.699220</td>\n",
              "      <td>0.021020</td>\n",
              "      <td>20</td>\n",
              "      <td>0.678200</td>\n",
              "      <td>0.720240</td>\n",
              "    </tr>\n",
              "  </tbody>\n",
              "</table>\n",
              "</div>\n",
              "      <button class=\"colab-df-convert\" onclick=\"convertToInteractive('df-1f93ee24-208d-4c6e-8795-1dab6e5be53d')\"\n",
              "              title=\"Convert this dataframe to an interactive table.\"\n",
              "              style=\"display:none;\">\n",
              "\n",
              "  <svg xmlns=\"http://www.w3.org/2000/svg\" height=\"24px\"viewBox=\"0 0 24 24\"\n",
              "       width=\"24px\">\n",
              "    <path d=\"M0 0h24v24H0V0z\" fill=\"none\"/>\n",
              "    <path d=\"M18.56 5.44l.94 2.06.94-2.06 2.06-.94-2.06-.94-.94-2.06-.94 2.06-2.06.94zm-11 1L8.5 8.5l.94-2.06 2.06-.94-2.06-.94L8.5 2.5l-.94 2.06-2.06.94zm10 10l.94 2.06.94-2.06 2.06-.94-2.06-.94-.94-2.06-.94 2.06-2.06.94z\"/><path d=\"M17.41 7.96l-1.37-1.37c-.4-.4-.92-.59-1.43-.59-.52 0-1.04.2-1.43.59L10.3 9.45l-7.72 7.72c-.78.78-.78 2.05 0 2.83L4 21.41c.39.39.9.59 1.41.59.51 0 1.02-.2 1.41-.59l7.78-7.78 2.81-2.81c.8-.78.8-2.07 0-2.86zM5.41 20L4 18.59l7.72-7.72 1.47 1.35L5.41 20z\"/>\n",
              "  </svg>\n",
              "      </button>\n",
              "\n",
              "\n",
              "\n",
              "    <div id=\"df-714a2c6d-7320-4e80-8863-913f1c3385bb\">\n",
              "      <button class=\"colab-df-quickchart\" onclick=\"quickchart('df-714a2c6d-7320-4e80-8863-913f1c3385bb')\"\n",
              "              title=\"Suggest charts.\"\n",
              "              style=\"display:none;\">\n",
              "\n",
              "<svg xmlns=\"http://www.w3.org/2000/svg\" height=\"24px\"viewBox=\"0 0 24 24\"\n",
              "     width=\"24px\">\n",
              "    <g>\n",
              "        <path d=\"M19 3H5c-1.1 0-2 .9-2 2v14c0 1.1.9 2 2 2h14c1.1 0 2-.9 2-2V5c0-1.1-.9-2-2-2zM9 17H7v-7h2v7zm4 0h-2V7h2v10zm4 0h-2v-4h2v4z\"/>\n",
              "    </g>\n",
              "</svg>\n",
              "      </button>\n",
              "    </div>\n",
              "\n",
              "<style>\n",
              "  .colab-df-quickchart {\n",
              "    background-color: #E8F0FE;\n",
              "    border: none;\n",
              "    border-radius: 50%;\n",
              "    cursor: pointer;\n",
              "    display: none;\n",
              "    fill: #1967D2;\n",
              "    height: 32px;\n",
              "    padding: 0 0 0 0;\n",
              "    width: 32px;\n",
              "  }\n",
              "\n",
              "  .colab-df-quickchart:hover {\n",
              "    background-color: #E2EBFA;\n",
              "    box-shadow: 0px 1px 2px rgba(60, 64, 67, 0.3), 0px 1px 3px 1px rgba(60, 64, 67, 0.15);\n",
              "    fill: #174EA6;\n",
              "  }\n",
              "\n",
              "  [theme=dark] .colab-df-quickchart {\n",
              "    background-color: #3B4455;\n",
              "    fill: #D2E3FC;\n",
              "  }\n",
              "\n",
              "  [theme=dark] .colab-df-quickchart:hover {\n",
              "    background-color: #434B5C;\n",
              "    box-shadow: 0px 1px 3px 1px rgba(0, 0, 0, 0.15);\n",
              "    filter: drop-shadow(0px 1px 2px rgba(0, 0, 0, 0.3));\n",
              "    fill: #FFFFFF;\n",
              "  }\n",
              "</style>\n",
              "\n",
              "    <script>\n",
              "      async function quickchart(key) {\n",
              "        const containerElement = document.querySelector('#' + key);\n",
              "        const charts = await google.colab.kernel.invokeFunction(\n",
              "            'suggestCharts', [key], {});\n",
              "      }\n",
              "    </script>\n",
              "\n",
              "      <script>\n",
              "\n",
              "function displayQuickchartButton(domScope) {\n",
              "  let quickchartButtonEl =\n",
              "    domScope.querySelector('#df-714a2c6d-7320-4e80-8863-913f1c3385bb button.colab-df-quickchart');\n",
              "  quickchartButtonEl.style.display =\n",
              "    google.colab.kernel.accessAllowed ? 'block' : 'none';\n",
              "}\n",
              "\n",
              "        displayQuickchartButton(document);\n",
              "      </script>\n",
              "      <style>\n",
              "    .colab-df-container {\n",
              "      display:flex;\n",
              "      flex-wrap:wrap;\n",
              "      gap: 12px;\n",
              "    }\n",
              "\n",
              "    .colab-df-convert {\n",
              "      background-color: #E8F0FE;\n",
              "      border: none;\n",
              "      border-radius: 50%;\n",
              "      cursor: pointer;\n",
              "      display: none;\n",
              "      fill: #1967D2;\n",
              "      height: 32px;\n",
              "      padding: 0 0 0 0;\n",
              "      width: 32px;\n",
              "    }\n",
              "\n",
              "    .colab-df-convert:hover {\n",
              "      background-color: #E2EBFA;\n",
              "      box-shadow: 0px 1px 2px rgba(60, 64, 67, 0.3), 0px 1px 3px 1px rgba(60, 64, 67, 0.15);\n",
              "      fill: #174EA6;\n",
              "    }\n",
              "\n",
              "    [theme=dark] .colab-df-convert {\n",
              "      background-color: #3B4455;\n",
              "      fill: #D2E3FC;\n",
              "    }\n",
              "\n",
              "    [theme=dark] .colab-df-convert:hover {\n",
              "      background-color: #434B5C;\n",
              "      box-shadow: 0px 1px 3px 1px rgba(0, 0, 0, 0.15);\n",
              "      filter: drop-shadow(0px 1px 2px rgba(0, 0, 0, 0.3));\n",
              "      fill: #FFFFFF;\n",
              "    }\n",
              "  </style>\n",
              "\n",
              "      <script>\n",
              "        const buttonEl =\n",
              "          document.querySelector('#df-1f93ee24-208d-4c6e-8795-1dab6e5be53d button.colab-df-convert');\n",
              "        buttonEl.style.display =\n",
              "          google.colab.kernel.accessAllowed ? 'block' : 'none';\n",
              "\n",
              "        async function convertToInteractive(key) {\n",
              "          const element = document.querySelector('#df-1f93ee24-208d-4c6e-8795-1dab6e5be53d');\n",
              "          const dataTable =\n",
              "            await google.colab.kernel.invokeFunction('convertToInteractive',\n",
              "                                                     [key], {});\n",
              "          if (!dataTable) return;\n",
              "\n",
              "          const docLinkHtml = 'Like what you see? Visit the ' +\n",
              "            '<a target=\"_blank\" href=https://colab.research.google.com/notebooks/data_table.ipynb>data table notebook</a>'\n",
              "            + ' to learn more about interactive tables.';\n",
              "          element.innerHTML = '';\n",
              "          dataTable['output_type'] = 'display_data';\n",
              "          await google.colab.output.renderOutput(dataTable, element);\n",
              "          const docLink = document.createElement('div');\n",
              "          docLink.innerHTML = docLinkHtml;\n",
              "          element.appendChild(docLink);\n",
              "        }\n",
              "      </script>\n",
              "    </div>\n",
              "  </div>\n"
            ]
          },
          "metadata": {},
          "execution_count": 27
        }
      ]
    },
    {
      "cell_type": "code",
      "source": [
        "plt.xlabel('K')\n",
        "plt.ylabel('Accuracy')\n",
        "plt.plot(df_scores_k['n_neighbours'], df_scores_k['limite_inferior'], color='r')\n",
        "plt.plot(df_scores_k['n_neighbours'], df_scores_k['score_medio'], color='b')\n",
        "plt.plot(df_scores_k['n_neighbours'], df_scores_k['limite_superior'], color='r')\n",
        "plt.ylim(0, 1);"
      ],
      "metadata": {
        "colab": {
          "base_uri": "https://localhost:8080/",
          "height": 455
        },
        "id": "tjrsVX7wZCYs",
        "outputId": "fd6c762c-89e7-4dd4-be94-f9cb62b25c63"
      },
      "execution_count": null,
      "outputs": [
        {
          "output_type": "display_data",
          "data": {
            "text/plain": [
              "<Figure size 640x480 with 1 Axes>"
            ],
            "image/png": "[encoded data removed]"
          },
          "metadata": {}
        }
      ]
    },
    {
      "cell_type": "code",
      "source": [
        "# Asignamos el valor del k óptimo a una variable\n",
        "best_k = df_scores_k.loc[df_scores_k.score_medio == df_scores_k.score_medio.max(),'n_neighbours'].values[0]\n",
        "best_k"
      ],
      "metadata": {
        "colab": {
          "base_uri": "https://localhost:8080/"
        },
        "id": "CcKM9YO6ZH_6",
        "outputId": "ed9963f0-fc76-4682-fc93-f9d79e015fe0"
      },
      "execution_count": null,
      "outputs": [
        {
          "output_type": "execute_result",
          "data": {
            "text/plain": [
              "19"
            ]
          },
          "metadata": {},
          "execution_count": 29
        }
      ]
    },
    {
      "cell_type": "code",
      "source": [
        "# Pero qué  métrica de distancia conviene usar?\n",
        "# Nuevamente debemos usar cross validation para evaluar las tres formas de medir distancias más utilizadas,\n",
        "# sin nunca mostrarle al modelo el dataset de entrenamiento y caer en sobreajuste\n",
        "\n",
        "def scores_knn_metricas(X, y, k, metricas):\n",
        "    # nótese que ya traemos el k, que conseguimos en la función aterior\n",
        "\n",
        "    scores_para_df = []\n",
        "\n",
        "    for metrica in metricas_distancia:\n",
        "\n",
        "        # En cada iteración, evaluamos el uso de una métrica de distancias\n",
        "        model = KNeighborsClassifier(n_neighbors=k, metric=metrica)\n",
        "\n",
        "        kf = KFold(n_splits=10, shuffle=True, random_state=10)\n",
        "        cv_scores = cross_val_score(model, X, y, cv=kf)\n",
        "\n",
        "        # Para cada valor de n_neighbours, creamos un diccionario con el valor de n_neighbours y la media y el desvío de los scores\n",
        "        dict_row_score = {'métrica': metrica,'score_medio':np.mean(cv_scores),'score_std':np.std(cv_scores),'n_neighbours':k}\n",
        "\n",
        "        # Guardamos cada uno en la lista de diccionarios\n",
        "        scores_para_df.append(dict_row_score)\n",
        "\n",
        "    # Creamos el DF a partir de la lista de resultados\n",
        "    df_scores = pd.DataFrame(scores_para_df)\n",
        "\n",
        "    # Incorporamos los límites inferior y superior, restando y sumando el valor del desvío estándar, respectivamente\n",
        "    df_scores['limite_inferior'] = df_scores['score_medio'] - df_scores['score_std']\n",
        "    df_scores['limite_superior'] = df_scores['score_medio'] + df_scores['score_std']\n",
        "\n",
        "    # Retornamos el DF\n",
        "    return df_scores"
      ],
      "metadata": {
        "id": "SXhUrEpNROiT"
      },
      "execution_count": null,
      "outputs": []
    },
    {
      "cell_type": "code",
      "source": [
        "metricas_distancia = ['euclidean', 'manhattan', 'chebyshev']\n",
        "\n",
        "scores_metricas = scores_knn_metricas(X_train, y_train, best_k, metricas_distancia)"
      ],
      "metadata": {
        "id": "q6KgOR5LT3nJ"
      },
      "execution_count": null,
      "outputs": []
    },
    {
      "cell_type": "code",
      "source": [
        "scores_metricas"
      ],
      "metadata": {
        "colab": {
          "base_uri": "https://localhost:8080/",
          "height": 143
        },
        "id": "TLSzRb3kUnqQ",
        "outputId": "8f77991c-45d6-482c-efe1-1e85af8b0c0e"
      },
      "execution_count": null,
      "outputs": [
        {
          "output_type": "execute_result",
          "data": {
            "text/plain": [
              "     métrica  score_medio  score_std  n_neighbours  limite_inferior  \\\n",
              "0  euclidean     0.707580   0.017323            19         0.690257   \n",
              "1  manhattan     0.708120   0.019051            19         0.689069   \n",
              "2  chebyshev     0.644861   0.013003            19         0.631858   \n",
              "\n",
              "   limite_superior  \n",
              "0         0.724903  \n",
              "1         0.727171  \n",
              "2         0.657864  "
            ],
            "text/html": [
              "\n",
              "\n",
              "  <div id=\"df-655dcdf6-b0e7-4944-85f6-900c6d119ae3\">\n",
              "    <div class=\"colab-df-container\">\n",
              "      <div>\n",
              "<style scoped>\n",
              "    .dataframe tbody tr th:only-of-type {\n",
              "        vertical-align: middle;\n",
              "    }\n",
              "\n",
              "    .dataframe tbody tr th {\n",
              "        vertical-align: top;\n",
              "    }\n",
              "\n",
              "    .dataframe thead th {\n",
              "        text-align: right;\n",
              "    }\n",
              "</style>\n",
              "<table border=\"1\" class=\"dataframe\">\n",
              "  <thead>\n",
              "    <tr style=\"text-align: right;\">\n",
              "      <th></th>\n",
              "      <th>métrica</th>\n",
              "      <th>score_medio</th>\n",
              "      <th>score_std</th>\n",
              "      <th>n_neighbours</th>\n",
              "      <th>limite_inferior</th>\n",
              "      <th>limite_superior</th>\n",
              "    </tr>\n",
              "  </thead>\n",
              "  <tbody>\n",
              "    <tr>\n",
              "      <th>0</th>\n",
              "      <td>euclidean</td>\n",
              "      <td>0.707580</td>\n",
              "      <td>0.017323</td>\n",
              "      <td>19</td>\n",
              "      <td>0.690257</td>\n",
              "      <td>0.724903</td>\n",
              "    </tr>\n",
              "    <tr>\n",
              "      <th>1</th>\n",
              "      <td>manhattan</td>\n",
              "      <td>0.708120</td>\n",
              "      <td>0.019051</td>\n",
              "      <td>19</td>\n",
              "      <td>0.689069</td>\n",
              "      <td>0.727171</td>\n",
              "    </tr>\n",
              "    <tr>\n",
              "      <th>2</th>\n",
              "      <td>chebyshev</td>\n",
              "      <td>0.644861</td>\n",
              "      <td>0.013003</td>\n",
              "      <td>19</td>\n",
              "      <td>0.631858</td>\n",
              "      <td>0.657864</td>\n",
              "    </tr>\n",
              "  </tbody>\n",
              "</table>\n",
              "</div>\n",
              "      <button class=\"colab-df-convert\" onclick=\"convertToInteractive('df-655dcdf6-b0e7-4944-85f6-900c6d119ae3')\"\n",
              "              title=\"Convert this dataframe to an interactive table.\"\n",
              "              style=\"display:none;\">\n",
              "\n",
              "  <svg xmlns=\"http://www.w3.org/2000/svg\" height=\"24px\"viewBox=\"0 0 24 24\"\n",
              "       width=\"24px\">\n",
              "    <path d=\"M0 0h24v24H0V0z\" fill=\"none\"/>\n",
              "    <path d=\"M18.56 5.44l.94 2.06.94-2.06 2.06-.94-2.06-.94-.94-2.06-.94 2.06-2.06.94zm-11 1L8.5 8.5l.94-2.06 2.06-.94-2.06-.94L8.5 2.5l-.94 2.06-2.06.94zm10 10l.94 2.06.94-2.06 2.06-.94-2.06-.94-.94-2.06-.94 2.06-2.06.94z\"/><path d=\"M17.41 7.96l-1.37-1.37c-.4-.4-.92-.59-1.43-.59-.52 0-1.04.2-1.43.59L10.3 9.45l-7.72 7.72c-.78.78-.78 2.05 0 2.83L4 21.41c.39.39.9.59 1.41.59.51 0 1.02-.2 1.41-.59l7.78-7.78 2.81-2.81c.8-.78.8-2.07 0-2.86zM5.41 20L4 18.59l7.72-7.72 1.47 1.35L5.41 20z\"/>\n",
              "  </svg>\n",
              "      </button>\n",
              "\n",
              "\n",
              "\n",
              "    <div id=\"df-80ab9978-2a13-464c-b407-de43e0392fbb\">\n",
              "      <button class=\"colab-df-quickchart\" onclick=\"quickchart('df-80ab9978-2a13-464c-b407-de43e0392fbb')\"\n",
              "              title=\"Suggest charts.\"\n",
              "              style=\"display:none;\">\n",
              "\n",
              "<svg xmlns=\"http://www.w3.org/2000/svg\" height=\"24px\"viewBox=\"0 0 24 24\"\n",
              "     width=\"24px\">\n",
              "    <g>\n",
              "        <path d=\"M19 3H5c-1.1 0-2 .9-2 2v14c0 1.1.9 2 2 2h14c1.1 0 2-.9 2-2V5c0-1.1-.9-2-2-2zM9 17H7v-7h2v7zm4 0h-2V7h2v10zm4 0h-2v-4h2v4z\"/>\n",
              "    </g>\n",
              "</svg>\n",
              "      </button>\n",
              "    </div>\n",
              "\n",
              "<style>\n",
              "  .colab-df-quickchart {\n",
              "    background-color: #E8F0FE;\n",
              "    border: none;\n",
              "    border-radius: 50%;\n",
              "    cursor: pointer;\n",
              "    display: none;\n",
              "    fill: #1967D2;\n",
              "    height: 32px;\n",
              "    padding: 0 0 0 0;\n",
              "    width: 32px;\n",
              "  }\n",
              "\n",
              "  .colab-df-quickchart:hover {\n",
              "    background-color: #E2EBFA;\n",
              "    box-shadow: 0px 1px 2px rgba(60, 64, 67, 0.3), 0px 1px 3px 1px rgba(60, 64, 67, 0.15);\n",
              "    fill: #174EA6;\n",
              "  }\n",
              "\n",
              "  [theme=dark] .colab-df-quickchart {\n",
              "    background-color: #3B4455;\n",
              "    fill: #D2E3FC;\n",
              "  }\n",
              "\n",
              "  [theme=dark] .colab-df-quickchart:hover {\n",
              "    background-color: #434B5C;\n",
              "    box-shadow: 0px 1px 3px 1px rgba(0, 0, 0, 0.15);\n",
              "    filter: drop-shadow(0px 1px 2px rgba(0, 0, 0, 0.3));\n",
              "    fill: #FFFFFF;\n",
              "  }\n",
              "</style>\n",
              "\n",
              "    <script>\n",
              "      async function quickchart(key) {\n",
              "        const containerElement = document.querySelector('#' + key);\n",
              "        const charts = await google.colab.kernel.invokeFunction(\n",
              "            'suggestCharts', [key], {});\n",
              "      }\n",
              "    </script>\n",
              "\n",
              "      <script>\n",
              "\n",
              "function displayQuickchartButton(domScope) {\n",
              "  let quickchartButtonEl =\n",
              "    domScope.querySelector('#df-80ab9978-2a13-464c-b407-de43e0392fbb button.colab-df-quickchart');\n",
              "  quickchartButtonEl.style.display =\n",
              "    google.colab.kernel.accessAllowed ? 'block' : 'none';\n",
              "}\n",
              "\n",
              "        displayQuickchartButton(document);\n",
              "      </script>\n",
              "      <style>\n",
              "    .colab-df-container {\n",
              "      display:flex;\n",
              "      flex-wrap:wrap;\n",
              "      gap: 12px;\n",
              "    }\n",
              "\n",
              "    .colab-df-convert {\n",
              "      background-color: #E8F0FE;\n",
              "      border: none;\n",
              "      border-radius: 50%;\n",
              "      cursor: pointer;\n",
              "      display: none;\n",
              "      fill: #1967D2;\n",
              "      height: 32px;\n",
              "      padding: 0 0 0 0;\n",
              "      width: 32px;\n",
              "    }\n",
              "\n",
              "    .colab-df-convert:hover {\n",
              "      background-color: #E2EBFA;\n",
              "      box-shadow: 0px 1px 2px rgba(60, 64, 67, 0.3), 0px 1px 3px 1px rgba(60, 64, 67, 0.15);\n",
              "      fill: #174EA6;\n",
              "    }\n",
              "\n",
              "    [theme=dark] .colab-df-convert {\n",
              "      background-color: #3B4455;\n",
              "      fill: #D2E3FC;\n",
              "    }\n",
              "\n",
              "    [theme=dark] .colab-df-convert:hover {\n",
              "      background-color: #434B5C;\n",
              "      box-shadow: 0px 1px 3px 1px rgba(0, 0, 0, 0.15);\n",
              "      filter: drop-shadow(0px 1px 2px rgba(0, 0, 0, 0.3));\n",
              "      fill: #FFFFFF;\n",
              "    }\n",
              "  </style>\n",
              "\n",
              "      <script>\n",
              "        const buttonEl =\n",
              "          document.querySelector('#df-655dcdf6-b0e7-4944-85f6-900c6d119ae3 button.colab-df-convert');\n",
              "        buttonEl.style.display =\n",
              "          google.colab.kernel.accessAllowed ? 'block' : 'none';\n",
              "\n",
              "        async function convertToInteractive(key) {\n",
              "          const element = document.querySelector('#df-655dcdf6-b0e7-4944-85f6-900c6d119ae3');\n",
              "          const dataTable =\n",
              "            await google.colab.kernel.invokeFunction('convertToInteractive',\n",
              "                                                     [key], {});\n",
              "          if (!dataTable) return;\n",
              "\n",
              "          const docLinkHtml = 'Like what you see? Visit the ' +\n",
              "            '<a target=\"_blank\" href=https://colab.research.google.com/notebooks/data_table.ipynb>data table notebook</a>'\n",
              "            + ' to learn more about interactive tables.';\n",
              "          element.innerHTML = '';\n",
              "          dataTable['output_type'] = 'display_data';\n",
              "          await google.colab.output.renderOutput(dataTable, element);\n",
              "          const docLink = document.createElement('div');\n",
              "          docLink.innerHTML = docLinkHtml;\n",
              "          element.appendChild(docLink);\n",
              "        }\n",
              "      </script>\n",
              "    </div>\n",
              "  </div>\n"
            ]
          },
          "metadata": {},
          "execution_count": 32
        }
      ]
    },
    {
      "cell_type": "code",
      "source": [
        "# La distancia Manhattan es la que presenta el mejor desempeño, por lo que será la que usemos."
      ],
      "metadata": {
        "id": "OgT7Y6eMVHxZ"
      },
      "execution_count": null,
      "outputs": []
    },
    {
      "cell_type": "code",
      "source": [
        "# Elegimos el modelo óptimo que nos había indicado cross validation\n",
        "model_knn = KNeighborsClassifier(n_neighbors = best_k, metric = 'manhattan')\n",
        "\n",
        "# Lo ajustamos sobre datos de entrenamiento\n",
        "model_knn.fit(X_train, y_train)"
      ],
      "metadata": {
        "colab": {
          "base_uri": "https://localhost:8080/",
          "height": 74
        },
        "id": "qCfQIkWNZKut",
        "outputId": "3a9a9ade-858c-4d32-abac-8f65f29ece54"
      },
      "execution_count": null,
      "outputs": [
        {
          "output_type": "execute_result",
          "data": {
            "text/plain": [
              "KNeighborsClassifier(metric='manhattan', n_neighbors=4)"
            ],
            "text/html": [
              "<style>#sk-container-id-4 {color: black;background-color: white;}#sk-container-id-4 pre{padding: 0;}#sk-container-id-4 div.sk-toggleable {background-color: white;}#sk-container-id-4 label.sk-toggleable__label {cursor: pointer;display: block;width: 100%;margin-bottom: 0;padding: 0.3em;box-sizing: border-box;text-align: center;}#sk-container-id-4 label.sk-toggleable__label-arrow:before {content: \"▸\";float: left;margin-right: 0.25em;color: #696969;}#sk-container-id-4 label.sk-toggleable__label-arrow:hover:before {color: black;}#sk-container-id-4 div.sk-estimator:hover label.sk-toggleable__label-arrow:before {color: black;}#sk-container-id-4 div.sk-toggleable__content {max-height: 0;max-width: 0;overflow: hidden;text-align: left;background-color: #f0f8ff;}#sk-container-id-4 div.sk-toggleable__content pre {margin: 0.2em;color: black;border-radius: 0.25em;background-color: #f0f8ff;}#sk-container-id-4 input.sk-toggleable__control:checked~div.sk-toggleable__content {max-height: 200px;max-width: 100%;overflow: auto;}#sk-container-id-4 input.sk-toggleable__control:checked~label.sk-toggleable__label-arrow:before {content: \"▾\";}#sk-container-id-4 div.sk-estimator input.sk-toggleable__control:checked~label.sk-toggleable__label {background-color: #d4ebff;}#sk-container-id-4 div.sk-label input.sk-toggleable__control:checked~label.sk-toggleable__label {background-color: #d4ebff;}#sk-container-id-4 input.sk-hidden--visually {border: 0;clip: rect(1px 1px 1px 1px);clip: rect(1px, 1px, 1px, 1px);height: 1px;margin: -1px;overflow: hidden;padding: 0;position: absolute;width: 1px;}#sk-container-id-4 div.sk-estimator {font-family: monospace;background-color: #f0f8ff;border: 1px dotted black;border-radius: 0.25em;box-sizing: border-box;margin-bottom: 0.5em;}#sk-container-id-4 div.sk-estimator:hover {background-color: #d4ebff;}#sk-container-id-4 div.sk-parallel-item::after {content: \"\";width: 100%;border-bottom: 1px solid gray;flex-grow: 1;}#sk-container-id-4 div.sk-label:hover label.sk-toggleable__label {background-color: #d4ebff;}#sk-container-id-4 div.sk-serial::before {content: \"\";position: absolute;border-left: 1px solid gray;box-sizing: border-box;top: 0;bottom: 0;left: 50%;z-index: 0;}#sk-container-id-4 div.sk-serial {display: flex;flex-direction: column;align-items: center;background-color: white;padding-right: 0.2em;padding-left: 0.2em;position: relative;}#sk-container-id-4 div.sk-item {position: relative;z-index: 1;}#sk-container-id-4 div.sk-parallel {display: flex;align-items: stretch;justify-content: center;background-color: white;position: relative;}#sk-container-id-4 div.sk-item::before, #sk-container-id-4 div.sk-parallel-item::before {content: \"\";position: absolute;border-left: 1px solid gray;box-sizing: border-box;top: 0;bottom: 0;left: 50%;z-index: -1;}#sk-container-id-4 div.sk-parallel-item {display: flex;flex-direction: column;z-index: 1;position: relative;background-color: white;}#sk-container-id-4 div.sk-parallel-item:first-child::after {align-self: flex-end;width: 50%;}#sk-container-id-4 div.sk-parallel-item:last-child::after {align-self: flex-start;width: 50%;}#sk-container-id-4 div.sk-parallel-item:only-child::after {width: 0;}#sk-container-id-4 div.sk-dashed-wrapped {border: 1px dashed gray;margin: 0 0.4em 0.5em 0.4em;box-sizing: border-box;padding-bottom: 0.4em;background-color: white;}#sk-container-id-4 div.sk-label label {font-family: monospace;font-weight: bold;display: inline-block;line-height: 1.2em;}#sk-container-id-4 div.sk-label-container {text-align: center;}#sk-container-id-4 div.sk-container {/* jupyter's `normalize.less` sets `[hidden] { display: none; }` but bootstrap.min.css set `[hidden] { display: none !important; }` so we also need the `!important` here to be able to override the default hidden behavior on the sphinx rendered scikit-learn.org. See: https://github.com/scikit-learn/scikit-learn/issues/21755 */display: inline-block !important;position: relative;}#sk-container-id-4 div.sk-text-repr-fallback {display: none;}</style><div id=\"sk-container-id-4\" class=\"sk-top-container\"><div class=\"sk-text-repr-fallback\"><pre>KNeighborsClassifier(metric=&#x27;manhattan&#x27;, n_neighbors=4)</pre><b>In a Jupyter environment, please rerun this cell to show the HTML representation or trust the notebook. <br />On GitHub, the HTML representation is unable to render, please try loading this page with nbviewer.org.</b></div><div class=\"sk-container\" hidden><div class=\"sk-item\"><div class=\"sk-estimator sk-toggleable\"><input class=\"sk-toggleable__control sk-hidden--visually\" id=\"sk-estimator-id-4\" type=\"checkbox\" checked><label for=\"sk-estimator-id-4\" class=\"sk-toggleable__label sk-toggleable__label-arrow\">KNeighborsClassifier</label><div class=\"sk-toggleable__content\"><pre>KNeighborsClassifier(metric=&#x27;manhattan&#x27;, n_neighbors=4)</pre></div></div></div></div></div>"
            ]
          },
          "metadata": {},
          "execution_count": 66
        }
      ]
    },
    {
      "cell_type": "code",
      "source": [
        "\n",
        "# Evaluamos qué accuracy obtenemos en train\n",
        "y_pred_train_knn = model_knn.predict(X_train)\n",
        "accuracy_score(y_train, y_pred_train_knn)"
      ],
      "metadata": {
        "colab": {
          "base_uri": "https://localhost:8080/"
        },
        "id": "5aL-Zb1NZMGE",
        "outputId": "d717d5de-6a4c-4f3b-fa8c-0b9024225b6a"
      },
      "execution_count": null,
      "outputs": [
        {
          "output_type": "execute_result",
          "data": {
            "text/plain": [
              "0.7586997572160777"
            ]
          },
          "metadata": {},
          "execution_count": 67
        }
      ]
    },
    {
      "cell_type": "code",
      "source": [
        "# Lo utilizamos para predecir en test\n",
        "y_pred_test_knn = model_knn.predict(X_test)"
      ],
      "metadata": {
        "id": "GrmUfqXFZNMi"
      },
      "execution_count": null,
      "outputs": []
    },
    {
      "cell_type": "code",
      "source": [
        "# Computamos el accuracy score en test\n",
        "accuracy_score(y_test, y_pred_test_knn)"
      ],
      "metadata": {
        "colab": {
          "base_uri": "https://localhost:8080/"
        },
        "id": "V4xSxqHvZTCL",
        "outputId": "1221565e-f659-48db-c403-a047e15ae276"
      },
      "execution_count": null,
      "outputs": [
        {
          "output_type": "execute_result",
          "data": {
            "text/plain": [
              "0.6561488673139159"
            ]
          },
          "metadata": {},
          "execution_count": 69
        }
      ]
    },
    {
      "cell_type": "code",
      "source": [
        "# Para sistematizar el análisis con los tres modelos creamos esta función que,\n",
        "# A partir de los \"y\" predichos por cada modelo y los \"y\" target devuelve:\n",
        "\n",
        "# Accuracy, Recall, Precision, F1 Score y área bajo la curba de ROC\n",
        "\n",
        "# La función, ademas de arrojar inmediatamente las mericas del modelo evaluado\n",
        "# va acumulando en un diccionario global (cada vez que ejecutemos esta función) el output que vanos consiguienteo, para al final comparar todos los modelos\n",
        "\n",
        "result = {}\n",
        "\n",
        "def evaluate_model(y_train, y_test, y_pred_train, y_pred_test, model_name):\n",
        "    global result\n",
        "\n",
        "    accuracy_train = accuracy_score(y_train, y_pred_train)\n",
        "    accuracy_test = accuracy_score(y_test, y_pred_test)\n",
        "\n",
        "    precision_train = precision_score(y_train, y_pred_train)\n",
        "    precision_test = precision_score(y_test, y_pred_test)\n",
        "\n",
        "    recall_train = recall_score(y_train, y_pred_train)\n",
        "    recall_test = recall_score(y_test, y_pred_test)\n",
        "\n",
        "    f1_train = f1_score(y_train, y_pred_train)\n",
        "    f1_test = f1_score(y_test, y_pred_test)\n",
        "\n",
        "    roc_auc_train = roc_auc_score(y_train, y_pred_train)\n",
        "    roc_auc_test = roc_auc_score(y_test, y_pred_test)\n",
        "\n",
        "    cm_train = confusion_matrix(y_train, y_pred_train)\n",
        "    cm_test = confusion_matrix(y_test, y_pred_test)\n",
        "\n",
        "    plt.figure(figsize=(12, 6))\n",
        "    plt.subplot(1, 2, 1)\n",
        "    sns.heatmap(cm_train, annot=True, fmt=\"d\", cmap=\"Blues\", cbar=False)\n",
        "    plt.title(\"Matriz de Confusión (Train)\")\n",
        "    plt.xlabel(\"Predicted\")\n",
        "    plt.ylabel(\"True\")\n",
        "\n",
        "    plt.subplot(1, 2, 2)\n",
        "    sns.heatmap(cm_test, annot=True, fmt=\"d\", cmap=\"Blues\", cbar=False)\n",
        "    plt.title(\"Matriz de Confusión (Test)\")\n",
        "    plt.xlabel(\"Predicted\")\n",
        "    plt.ylabel(\"True\")\n",
        "\n",
        "    plt.tight_layout()\n",
        "    plt.show()\n",
        "\n",
        "    result[model_name] = {\n",
        "        'Accuracy (Train)': accuracy_train,\n",
        "        'Accuracy (Test)': accuracy_test,\n",
        "        'Precision (Train)': precision_train,\n",
        "        'Precision (Test)': precision_test,\n",
        "        'Recall (Train)': recall_train,\n",
        "        'Recall (Test)': recall_test,\n",
        "        'F1 Score (Train)': f1_train,\n",
        "        'F1 Score (Test)': f1_test,\n",
        "        'ROC AUC (Train)': roc_auc_train,\n",
        "        'ROC AUC (Test)': roc_auc_test\n",
        "    }\n",
        "\n",
        "    metrics = result[model_name]\n",
        "\n",
        "    print(\"Metrics:\")\n",
        "    print(f\"  Accuracy (Train):  {metrics['Accuracy (Train)']:.4f}\")\n",
        "    print(f\"  Accuracy (Test):   {metrics['Accuracy (Test)']:.4f}\")\n",
        "    print(f\"  Precision (Train): {metrics['Precision (Train)']:.4f}\")\n",
        "    print(f\"  Precision (Test):  {metrics['Precision (Test)']:.4f}\")\n",
        "    print(f\"  Recall (Train):    {metrics['Recall (Train)']:.4f}\")\n",
        "    print(f\"  Recall (Test):     {metrics['Recall (Test)']:.4f}\")\n",
        "    print(f\"  F1 Score (Train):  {metrics['F1 Score (Train)']:.4f}\")\n",
        "    print(f\"  F1 Score (Test):   {metrics['F1 Score (Test)']:.4f}\")\n",
        "    print(f\"  ROC AUC (Train):   {metrics['ROC AUC (Train)']:.4f}\")\n",
        "    print(f\"  ROC AUC (Test):    {metrics['ROC AUC (Test)']:.4f}\")"
      ],
      "metadata": {
        "id": "MwN8ClEFKfB-"
      },
      "execution_count": null,
      "outputs": []
    },
    {
      "cell_type": "code",
      "source": [
        "evaluate_model(y_train, y_test, y_pred_train_knn, y_pred_test_knn, 'KNN')"
      ],
      "metadata": {
        "colab": {
          "base_uri": "https://localhost:8080/",
          "height": 808
        },
        "id": "jYVrgpOwKj59",
        "outputId": "be85c688-57b9-4e75-aa3f-d1370e2d18c9"
      },
      "execution_count": null,
      "outputs": [
        {
          "output_type": "display_data",
          "data": {
            "text/plain": [
              "<Figure size 1200x600 with 2 Axes>"
            ],
            "image/png": "[encoded data removed]"
          },
          "metadata": {}
        },
        {
          "output_type": "stream",
          "name": "stdout",
          "text": [
            "Metrics:\n",
            "  Accuracy (Train):  0.7587\n",
            "  Accuracy (Test):   0.6561\n",
            "  Precision (Train): 0.9182\n",
            "  Precision (Test):  0.7868\n",
            "  Recall (Train):    0.5686\n",
            "  Recall (Test):     0.4253\n",
            "  F1 Score (Train):  0.7023\n",
            "  F1 Score (Test):   0.5522\n",
            "  ROC AUC (Train):   0.7589\n",
            "  ROC AUC (Test):    0.6554\n"
          ]
        }
      ]
    },
    {
      "cell_type": "markdown",
      "source": [
        "## **Naive bayes gaussiano/multinomial**\n",
        "\n"
      ],
      "metadata": {
        "id": "vX0XNDZQNshS"
      }
    },
    {
      "cell_type": "code",
      "source": [
        "print(X_train.shape)\n",
        "print(X_test.shape)\n",
        "print(y_train.shape)\n",
        "print(y_test.shape)\n"
      ],
      "metadata": {
        "colab": {
          "base_uri": "https://localhost:8080/"
        },
        "id": "F6jti2_uN6us",
        "outputId": "ab8b133b-60e0-4104-aa10-a75bb5fd8aaa"
      },
      "execution_count": null,
      "outputs": [
        {
          "output_type": "stream",
          "name": "stdout",
          "text": [
            "(7414, 124)\n",
            "(2472, 124)\n",
            "(7414,)\n",
            "(2472,)\n"
          ]
        }
      ]
    },
    {
      "cell_type": "code",
      "source": [
        "# instanciamos el modelo de naive bayes gaussiano\n",
        "\n",
        "model_bayes = GaussianNB()\n",
        "\n",
        "# lo fitteamos a nuestros datos\n",
        "model_bayes.fit(X_train, y_train)"
      ],
      "metadata": {
        "colab": {
          "base_uri": "https://localhost:8080/",
          "height": 74
        },
        "id": "75ad7WvSOTyE",
        "outputId": "5d86e149-8b45-4a84-858e-81ffbb685d95"
      },
      "execution_count": null,
      "outputs": [
        {
          "output_type": "execute_result",
          "data": {
            "text/plain": [
              "GaussianNB()"
            ],
            "text/html": [
              "<style>#sk-container-id-2 {color: black;background-color: white;}#sk-container-id-2 pre{padding: 0;}#sk-container-id-2 div.sk-toggleable {background-color: white;}#sk-container-id-2 label.sk-toggleable__label {cursor: pointer;display: block;width: 100%;margin-bottom: 0;padding: 0.3em;box-sizing: border-box;text-align: center;}#sk-container-id-2 label.sk-toggleable__label-arrow:before {content: \"▸\";float: left;margin-right: 0.25em;color: #696969;}#sk-container-id-2 label.sk-toggleable__label-arrow:hover:before {color: black;}#sk-container-id-2 div.sk-estimator:hover label.sk-toggleable__label-arrow:before {color: black;}#sk-container-id-2 div.sk-toggleable__content {max-height: 0;max-width: 0;overflow: hidden;text-align: left;background-color: #f0f8ff;}#sk-container-id-2 div.sk-toggleable__content pre {margin: 0.2em;color: black;border-radius: 0.25em;background-color: #f0f8ff;}#sk-container-id-2 input.sk-toggleable__control:checked~div.sk-toggleable__content {max-height: 200px;max-width: 100%;overflow: auto;}#sk-container-id-2 input.sk-toggleable__control:checked~label.sk-toggleable__label-arrow:before {content: \"▾\";}#sk-container-id-2 div.sk-estimator input.sk-toggleable__control:checked~label.sk-toggleable__label {background-color: #d4ebff;}#sk-container-id-2 div.sk-label input.sk-toggleable__control:checked~label.sk-toggleable__label {background-color: #d4ebff;}#sk-container-id-2 input.sk-hidden--visually {border: 0;clip: rect(1px 1px 1px 1px);clip: rect(1px, 1px, 1px, 1px);height: 1px;margin: -1px;overflow: hidden;padding: 0;position: absolute;width: 1px;}#sk-container-id-2 div.sk-estimator {font-family: monospace;background-color: #f0f8ff;border: 1px dotted black;border-radius: 0.25em;box-sizing: border-box;margin-bottom: 0.5em;}#sk-container-id-2 div.sk-estimator:hover {background-color: #d4ebff;}#sk-container-id-2 div.sk-parallel-item::after {content: \"\";width: 100%;border-bottom: 1px solid gray;flex-grow: 1;}#sk-container-id-2 div.sk-label:hover label.sk-toggleable__label {background-color: #d4ebff;}#sk-container-id-2 div.sk-serial::before {content: \"\";position: absolute;border-left: 1px solid gray;box-sizing: border-box;top: 0;bottom: 0;left: 50%;z-index: 0;}#sk-container-id-2 div.sk-serial {display: flex;flex-direction: column;align-items: center;background-color: white;padding-right: 0.2em;padding-left: 0.2em;position: relative;}#sk-container-id-2 div.sk-item {position: relative;z-index: 1;}#sk-container-id-2 div.sk-parallel {display: flex;align-items: stretch;justify-content: center;background-color: white;position: relative;}#sk-container-id-2 div.sk-item::before, #sk-container-id-2 div.sk-parallel-item::before {content: \"\";position: absolute;border-left: 1px solid gray;box-sizing: border-box;top: 0;bottom: 0;left: 50%;z-index: -1;}#sk-container-id-2 div.sk-parallel-item {display: flex;flex-direction: column;z-index: 1;position: relative;background-color: white;}#sk-container-id-2 div.sk-parallel-item:first-child::after {align-self: flex-end;width: 50%;}#sk-container-id-2 div.sk-parallel-item:last-child::after {align-self: flex-start;width: 50%;}#sk-container-id-2 div.sk-parallel-item:only-child::after {width: 0;}#sk-container-id-2 div.sk-dashed-wrapped {border: 1px dashed gray;margin: 0 0.4em 0.5em 0.4em;box-sizing: border-box;padding-bottom: 0.4em;background-color: white;}#sk-container-id-2 div.sk-label label {font-family: monospace;font-weight: bold;display: inline-block;line-height: 1.2em;}#sk-container-id-2 div.sk-label-container {text-align: center;}#sk-container-id-2 div.sk-container {/* jupyter's `normalize.less` sets `[hidden] { display: none; }` but bootstrap.min.css set `[hidden] { display: none !important; }` so we also need the `!important` here to be able to override the default hidden behavior on the sphinx rendered scikit-learn.org. See: https://github.com/scikit-learn/scikit-learn/issues/21755 */display: inline-block !important;position: relative;}#sk-container-id-2 div.sk-text-repr-fallback {display: none;}</style><div id=\"sk-container-id-2\" class=\"sk-top-container\"><div class=\"sk-text-repr-fallback\"><pre>GaussianNB()</pre><b>In a Jupyter environment, please rerun this cell to show the HTML representation or trust the notebook. <br />On GitHub, the HTML representation is unable to render, please try loading this page with nbviewer.org.</b></div><div class=\"sk-container\" hidden><div class=\"sk-item\"><div class=\"sk-estimator sk-toggleable\"><input class=\"sk-toggleable__control sk-hidden--visually\" id=\"sk-estimator-id-2\" type=\"checkbox\" checked><label for=\"sk-estimator-id-2\" class=\"sk-toggleable__label sk-toggleable__label-arrow\">GaussianNB</label><div class=\"sk-toggleable__content\"><pre>GaussianNB()</pre></div></div></div></div></div>"
            ]
          },
          "metadata": {},
          "execution_count": 42
        }
      ]
    },
    {
      "cell_type": "code",
      "source": [
        "# pruebo el modelo entrenado en los datos de test para ver si funciona\n",
        "y_pred_bayes_test = model_bayes.predict(X_test)\n",
        "y_pred_bayes_train = model_bayes.predict(X_train)\n",
        "\n",
        "y_pred_bayes_test"
      ],
      "metadata": {
        "colab": {
          "base_uri": "https://localhost:8080/"
        },
        "id": "VtEMG7PDP6A6",
        "outputId": "b892b279-37b1-47d1-ffc4-ce5239cfacc3"
      },
      "execution_count": null,
      "outputs": [
        {
          "output_type": "execute_result",
          "data": {
            "text/plain": [
              "array([0., 1., 0., ..., 0., 0., 0.])"
            ]
          },
          "metadata": {},
          "execution_count": 43
        }
      ]
    },
    {
      "cell_type": "code",
      "source": [
        "# calculo el accuracy del modelo\n",
        "\n",
        "accuracy_score(y_test, y_pred_bayes_test)"
      ],
      "metadata": {
        "colab": {
          "base_uri": "https://localhost:8080/"
        },
        "id": "HIXg25JoQNZj",
        "outputId": "7259bb2f-6cdb-47b6-fd95-2c0c66bc818d"
      },
      "execution_count": null,
      "outputs": [
        {
          "output_type": "execute_result",
          "data": {
            "text/plain": [
              "0.6921521035598706"
            ]
          },
          "metadata": {},
          "execution_count": 44
        }
      ]
    },
    {
      "cell_type": "code",
      "source": [
        "# 0.69 es un buen resultado, lo comparo con la precision del null, prediciendo los resultados como si fuesen todos 1, ya que son la mayoria\n",
        "\n",
        "y_train.value_counts()"
      ],
      "metadata": {
        "colab": {
          "base_uri": "https://localhost:8080/"
        },
        "id": "MmJBw0F7QgoE",
        "outputId": "78bf7638-f7e4-4bc5-b279-ad390a7b4a87"
      },
      "execution_count": null,
      "outputs": [
        {
          "output_type": "execute_result",
          "data": {
            "text/plain": [
              "1.0    3711\n",
              "0.0    3703\n",
              "Name: q24, dtype: int64"
            ]
          },
          "metadata": {},
          "execution_count": 45
        }
      ]
    },
    {
      "cell_type": "code",
      "source": [
        "# como era esperado de un dataset balanceado, el null accuracy esta cerca del 0.5, esto solidifica al resultado de nuesto modelo, mostrando que no fue al azar\n",
        "\n",
        "tp = 3711\n",
        "tn = 0\n",
        "fp = 3703\n",
        "fn = 0\n",
        "null_accuracy = (tp + tn)/(tp + tn + fp + fn)\n",
        "null_accuracy"
      ],
      "metadata": {
        "colab": {
          "base_uri": "https://localhost:8080/"
        },
        "id": "T3DEYNvYQxJn",
        "outputId": "056e5308-129f-4fbc-96c3-61bcaab72c7f"
      },
      "execution_count": null,
      "outputs": [
        {
          "output_type": "execute_result",
          "data": {
            "text/plain": [
              "0.5005395198273537"
            ]
          },
          "metadata": {},
          "execution_count": 46
        }
      ]
    },
    {
      "cell_type": "code",
      "source": [
        "# confusion matrix\n",
        "\n",
        "conf_mat_bayes = confusion_matrix(y_test, y_pred_bayes_test)\n",
        "\n",
        "print('Confusion matrix\\n\\n', conf_mat_bayes)"
      ],
      "metadata": {
        "colab": {
          "base_uri": "https://localhost:8080/"
        },
        "id": "W4djUzp-Vz7-",
        "outputId": "1d8f8c54-1874-49bc-efbb-e30f3ad366cf"
      },
      "execution_count": null,
      "outputs": [
        {
          "output_type": "stream",
          "name": "stdout",
          "text": [
            "Confusion matrix\n",
            "\n",
            " [[990 250]\n",
            " [511 721]]\n"
          ]
        }
      ]
    },
    {
      "cell_type": "code",
      "source": [
        "conf_mat_df_bayes = pd.DataFrame(data=conf_mat_bayes,\n",
        "                           index=['Actual Negative: 0', 'Actual Positive: 1'],\n",
        "                           columns=['Predict Negative: 0', 'Predict Positive: 1'])\n",
        "\n",
        "sns.heatmap(conf_mat_df_bayes, annot=True, fmt='d', cmap='YlGnBu');"
      ],
      "metadata": {
        "colab": {
          "base_uri": "https://localhost:8080/",
          "height": 430
        },
        "id": "eMSYxA3jV_Ov",
        "outputId": "e393253c-b47b-4210-d5e7-a730043e453b"
      },
      "execution_count": null,
      "outputs": [
        {
          "output_type": "display_data",
          "data": {
            "text/plain": [
              "<Figure size 640x480 with 2 Axes>"
            ],
            "image/png": "[encoded data removed]"
          },
          "metadata": {}
        }
      ]
    },
    {
      "cell_type": "code",
      "source": [
        "evaluate_model(y_train, y_test, y_pred_bayes_train, y_pred_bayes_test, 'Naive Bayes_Gauss')"
      ],
      "metadata": {
        "id": "1zzzukd8WSjk",
        "colab": {
          "base_uri": "https://localhost:8080/",
          "height": 808
        },
        "outputId": "dc033986-d004-4f70-a23c-0def91e22dc0"
      },
      "execution_count": null,
      "outputs": [
        {
          "output_type": "display_data",
          "data": {
            "text/plain": [
              "<Figure size 1200x600 with 2 Axes>"
            ],
            "image/png": "[encoded data removed]"
          },
          "metadata": {}
        },
        {
          "output_type": "stream",
          "name": "stdout",
          "text": [
            "Metrics:\n",
            "  Accuracy (Train):  0.6954\n",
            "  Accuracy (Test):   0.6922\n",
            "  Precision (Train): 0.7477\n",
            "  Precision (Test):  0.7425\n",
            "  Recall (Train):    0.5909\n",
            "  Recall (Test):     0.5852\n",
            "  F1 Score (Train):  0.6601\n",
            "  F1 Score (Test):   0.6546\n",
            "  ROC AUC (Train):   0.6956\n",
            "  ROC AUC (Test):    0.6918\n"
          ]
        }
      ]
    },
    {
      "cell_type": "markdown",
      "source": [
        "## **Naive Bayes Multinomial**"
      ],
      "metadata": {
        "id": "GULTt9np-P6V"
      }
    },
    {
      "cell_type": "code",
      "source": [
        "from sklearn.naive_bayes import MultinomialNB\n",
        "\n",
        "X"
      ],
      "metadata": {
        "id": "nSikVNnkioIl",
        "colab": {
          "base_uri": "https://localhost:8080/",
          "height": 423
        },
        "outputId": "c2188e5d-6220-4193-ccc5-9bc733c3aa6b"
      },
      "execution_count": null,
      "outputs": [
        {
          "output_type": "execute_result",
          "data": {
            "text/plain": [
              "        q1   q2   q3   q6  q10  q15  q16  q17  q18  q19  ...  qnff1g  qnff2g  \\\n",
              "47928  5.0  1.0  3.0  2.0  1.0  1.0  3.0  4.0  8.0  8.0  ...     2.0     2.0   \n",
              "19871  6.0  2.0  4.0  1.0  1.0  1.0  1.0  1.0  1.0  1.0  ...     2.0     2.0   \n",
              "34973  4.0  2.0  2.0  3.0  2.0  1.0  2.0  2.0  4.0  2.0  ...     1.0     2.0   \n",
              "8154   4.0  2.0  2.0  1.0  1.0  1.0  1.0  1.0  1.0  1.0  ...     2.0     2.0   \n",
              "28     3.0  2.0  2.0  1.0  4.0  1.0  1.0  1.0  1.0  1.0  ...     1.0     1.0   \n",
              "...    ...  ...  ...  ...  ...  ...  ...  ...  ...  ...  ...     ...     ...   \n",
              "32     3.0  2.0  2.0  3.0  1.0  1.0  1.0  1.0  1.0  1.0  ...     2.0     2.0   \n",
              "46221  6.0  2.0  4.0  1.0  1.0  1.0  2.0  1.0  1.0  1.0  ...     2.0     2.0   \n",
              "47302  6.0  2.0  4.0  1.0  1.0  1.0  1.0  2.0  6.0  3.0  ...     2.0     2.0   \n",
              "9671   6.0  2.0  4.0  2.0  1.0  1.0  1.0  1.0  1.0  1.0  ...     2.0     2.0   \n",
              "46043  4.0  2.0  4.0  1.0  1.0  1.0  1.0  1.0  1.0  1.0  ...     2.0     2.0   \n",
              "\n",
              "       qnff3g  qntob2g  qnnotb2g  qnpa5g  qnpa7g  qnpe3g  qnpe5g  weight  \n",
              "47928     2.0      1.0       2.0     2.0     2.0     2.0     2.0   50.74  \n",
              "19871     2.0      2.0       1.0     2.0     2.0     2.0     2.0   14.94  \n",
              "34973     2.0      1.0       2.0     2.0     2.0     2.0     2.0   30.11  \n",
              "8154      2.0      2.0       1.0     2.0     2.0     1.0     1.0   16.97  \n",
              "28        1.0      2.0       1.0     2.0     2.0     2.0     2.0  402.20  \n",
              "...       ...      ...       ...     ...     ...     ...     ...     ...  \n",
              "32        2.0      2.0       1.0     2.0     2.0     2.0     2.0  402.20  \n",
              "46221     2.0      2.0       1.0     1.0     1.0     2.0     2.0   34.58  \n",
              "47302     2.0      1.0       2.0     2.0     2.0     2.0     2.0   33.53  \n",
              "9671      2.0      1.0       2.0     2.0     2.0     2.0     2.0   70.27  \n",
              "46043     2.0      2.0       1.0     1.0     1.0     2.0     2.0   61.58  \n",
              "\n",
              "[9886 rows x 124 columns]"
            ],
            "text/html": [
              "\n",
              "\n",
              "  <div id=\"df-a8f248b0-f243-4403-bd59-db37549b5294\">\n",
              "    <div class=\"colab-df-container\">\n",
              "      <div>\n",
              "<style scoped>\n",
              "    .dataframe tbody tr th:only-of-type {\n",
              "        vertical-align: middle;\n",
              "    }\n",
              "\n",
              "    .dataframe tbody tr th {\n",
              "        vertical-align: top;\n",
              "    }\n",
              "\n",
              "    .dataframe thead th {\n",
              "        text-align: right;\n",
              "    }\n",
              "</style>\n",
              "<table border=\"1\" class=\"dataframe\">\n",
              "  <thead>\n",
              "    <tr style=\"text-align: right;\">\n",
              "      <th></th>\n",
              "      <th>q1</th>\n",
              "      <th>q2</th>\n",
              "      <th>q3</th>\n",
              "      <th>q6</th>\n",
              "      <th>q10</th>\n",
              "      <th>q15</th>\n",
              "      <th>q16</th>\n",
              "      <th>q17</th>\n",
              "      <th>q18</th>\n",
              "      <th>q19</th>\n",
              "      <th>...</th>\n",
              "      <th>qnff1g</th>\n",
              "      <th>qnff2g</th>\n",
              "      <th>qnff3g</th>\n",
              "      <th>qntob2g</th>\n",
              "      <th>qnnotb2g</th>\n",
              "      <th>qnpa5g</th>\n",
              "      <th>qnpa7g</th>\n",
              "      <th>qnpe3g</th>\n",
              "      <th>qnpe5g</th>\n",
              "      <th>weight</th>\n",
              "    </tr>\n",
              "  </thead>\n",
              "  <tbody>\n",
              "    <tr>\n",
              "      <th>47928</th>\n",
              "      <td>5.0</td>\n",
              "      <td>1.0</td>\n",
              "      <td>3.0</td>\n",
              "      <td>2.0</td>\n",
              "      <td>1.0</td>\n",
              "      <td>1.0</td>\n",
              "      <td>3.0</td>\n",
              "      <td>4.0</td>\n",
              "      <td>8.0</td>\n",
              "      <td>8.0</td>\n",
              "      <td>...</td>\n",
              "      <td>2.0</td>\n",
              "      <td>2.0</td>\n",
              "      <td>2.0</td>\n",
              "      <td>1.0</td>\n",
              "      <td>2.0</td>\n",
              "      <td>2.0</td>\n",
              "      <td>2.0</td>\n",
              "      <td>2.0</td>\n",
              "      <td>2.0</td>\n",
              "      <td>50.74</td>\n",
              "    </tr>\n",
              "    <tr>\n",
              "      <th>19871</th>\n",
              "      <td>6.0</td>\n",
              "      <td>2.0</td>\n",
              "      <td>4.0</td>\n",
              "      <td>1.0</td>\n",
              "      <td>1.0</td>\n",
              "      <td>1.0</td>\n",
              "      <td>1.0</td>\n",
              "      <td>1.0</td>\n",
              "      <td>1.0</td>\n",
              "      <td>1.0</td>\n",
              "      <td>...</td>\n",
              "      <td>2.0</td>\n",
              "      <td>2.0</td>\n",
              "      <td>2.0</td>\n",
              "      <td>2.0</td>\n",
              "      <td>1.0</td>\n",
              "      <td>2.0</td>\n",
              "      <td>2.0</td>\n",
              "      <td>2.0</td>\n",
              "      <td>2.0</td>\n",
              "      <td>14.94</td>\n",
              "    </tr>\n",
              "    <tr>\n",
              "      <th>34973</th>\n",
              "      <td>4.0</td>\n",
              "      <td>2.0</td>\n",
              "      <td>2.0</td>\n",
              "      <td>3.0</td>\n",
              "      <td>2.0</td>\n",
              "      <td>1.0</td>\n",
              "      <td>2.0</td>\n",
              "      <td>2.0</td>\n",
              "      <td>4.0</td>\n",
              "      <td>2.0</td>\n",
              "      <td>...</td>\n",
              "      <td>1.0</td>\n",
              "      <td>2.0</td>\n",
              "      <td>2.0</td>\n",
              "      <td>1.0</td>\n",
              "      <td>2.0</td>\n",
              "      <td>2.0</td>\n",
              "      <td>2.0</td>\n",
              "      <td>2.0</td>\n",
              "      <td>2.0</td>\n",
              "      <td>30.11</td>\n",
              "    </tr>\n",
              "    <tr>\n",
              "      <th>8154</th>\n",
              "      <td>4.0</td>\n",
              "      <td>2.0</td>\n",
              "      <td>2.0</td>\n",
              "      <td>1.0</td>\n",
              "      <td>1.0</td>\n",
              "      <td>1.0</td>\n",
              "      <td>1.0</td>\n",
              "      <td>1.0</td>\n",
              "      <td>1.0</td>\n",
              "      <td>1.0</td>\n",
              "      <td>...</td>\n",
              "      <td>2.0</td>\n",
              "      <td>2.0</td>\n",
              "      <td>2.0</td>\n",
              "      <td>2.0</td>\n",
              "      <td>1.0</td>\n",
              "      <td>2.0</td>\n",
              "      <td>2.0</td>\n",
              "      <td>1.0</td>\n",
              "      <td>1.0</td>\n",
              "      <td>16.97</td>\n",
              "    </tr>\n",
              "    <tr>\n",
              "      <th>28</th>\n",
              "      <td>3.0</td>\n",
              "      <td>2.0</td>\n",
              "      <td>2.0</td>\n",
              "      <td>1.0</td>\n",
              "      <td>4.0</td>\n",
              "      <td>1.0</td>\n",
              "      <td>1.0</td>\n",
              "      <td>1.0</td>\n",
              "      <td>1.0</td>\n",
              "      <td>1.0</td>\n",
              "      <td>...</td>\n",
              "      <td>1.0</td>\n",
              "      <td>1.0</td>\n",
              "      <td>1.0</td>\n",
              "      <td>2.0</td>\n",
              "      <td>1.0</td>\n",
              "      <td>2.0</td>\n",
              "      <td>2.0</td>\n",
              "      <td>2.0</td>\n",
              "      <td>2.0</td>\n",
              "      <td>402.20</td>\n",
              "    </tr>\n",
              "    <tr>\n",
              "      <th>...</th>\n",
              "      <td>...</td>\n",
              "      <td>...</td>\n",
              "      <td>...</td>\n",
              "      <td>...</td>\n",
              "      <td>...</td>\n",
              "      <td>...</td>\n",
              "      <td>...</td>\n",
              "      <td>...</td>\n",
              "      <td>...</td>\n",
              "      <td>...</td>\n",
              "      <td>...</td>\n",
              "      <td>...</td>\n",
              "      <td>...</td>\n",
              "      <td>...</td>\n",
              "      <td>...</td>\n",
              "      <td>...</td>\n",
              "      <td>...</td>\n",
              "      <td>...</td>\n",
              "      <td>...</td>\n",
              "      <td>...</td>\n",
              "      <td>...</td>\n",
              "    </tr>\n",
              "    <tr>\n",
              "      <th>32</th>\n",
              "      <td>3.0</td>\n",
              "      <td>2.0</td>\n",
              "      <td>2.0</td>\n",
              "      <td>3.0</td>\n",
              "      <td>1.0</td>\n",
              "      <td>1.0</td>\n",
              "      <td>1.0</td>\n",
              "      <td>1.0</td>\n",
              "      <td>1.0</td>\n",
              "      <td>1.0</td>\n",
              "      <td>...</td>\n",
              "      <td>2.0</td>\n",
              "      <td>2.0</td>\n",
              "      <td>2.0</td>\n",
              "      <td>2.0</td>\n",
              "      <td>1.0</td>\n",
              "      <td>2.0</td>\n",
              "      <td>2.0</td>\n",
              "      <td>2.0</td>\n",
              "      <td>2.0</td>\n",
              "      <td>402.20</td>\n",
              "    </tr>\n",
              "    <tr>\n",
              "      <th>46221</th>\n",
              "      <td>6.0</td>\n",
              "      <td>2.0</td>\n",
              "      <td>4.0</td>\n",
              "      <td>1.0</td>\n",
              "      <td>1.0</td>\n",
              "      <td>1.0</td>\n",
              "      <td>2.0</td>\n",
              "      <td>1.0</td>\n",
              "      <td>1.0</td>\n",
              "      <td>1.0</td>\n",
              "      <td>...</td>\n",
              "      <td>2.0</td>\n",
              "      <td>2.0</td>\n",
              "      <td>2.0</td>\n",
              "      <td>2.0</td>\n",
              "      <td>1.0</td>\n",
              "      <td>1.0</td>\n",
              "      <td>1.0</td>\n",
              "      <td>2.0</td>\n",
              "      <td>2.0</td>\n",
              "      <td>34.58</td>\n",
              "    </tr>\n",
              "    <tr>\n",
              "      <th>47302</th>\n",
              "      <td>6.0</td>\n",
              "      <td>2.0</td>\n",
              "      <td>4.0</td>\n",
              "      <td>1.0</td>\n",
              "      <td>1.0</td>\n",
              "      <td>1.0</td>\n",
              "      <td>1.0</td>\n",
              "      <td>2.0</td>\n",
              "      <td>6.0</td>\n",
              "      <td>3.0</td>\n",
              "      <td>...</td>\n",
              "      <td>2.0</td>\n",
              "      <td>2.0</td>\n",
              "      <td>2.0</td>\n",
              "      <td>1.0</td>\n",
              "      <td>2.0</td>\n",
              "      <td>2.0</td>\n",
              "      <td>2.0</td>\n",
              "      <td>2.0</td>\n",
              "      <td>2.0</td>\n",
              "      <td>33.53</td>\n",
              "    </tr>\n",
              "    <tr>\n",
              "      <th>9671</th>\n",
              "      <td>6.0</td>\n",
              "      <td>2.0</td>\n",
              "      <td>4.0</td>\n",
              "      <td>2.0</td>\n",
              "      <td>1.0</td>\n",
              "      <td>1.0</td>\n",
              "      <td>1.0</td>\n",
              "      <td>1.0</td>\n",
              "      <td>1.0</td>\n",
              "      <td>1.0</td>\n",
              "      <td>...</td>\n",
              "      <td>2.0</td>\n",
              "      <td>2.0</td>\n",
              "      <td>2.0</td>\n",
              "      <td>1.0</td>\n",
              "      <td>2.0</td>\n",
              "      <td>2.0</td>\n",
              "      <td>2.0</td>\n",
              "      <td>2.0</td>\n",
              "      <td>2.0</td>\n",
              "      <td>70.27</td>\n",
              "    </tr>\n",
              "    <tr>\n",
              "      <th>46043</th>\n",
              "      <td>4.0</td>\n",
              "      <td>2.0</td>\n",
              "      <td>4.0</td>\n",
              "      <td>1.0</td>\n",
              "      <td>1.0</td>\n",
              "      <td>1.0</td>\n",
              "      <td>1.0</td>\n",
              "      <td>1.0</td>\n",
              "      <td>1.0</td>\n",
              "      <td>1.0</td>\n",
              "      <td>...</td>\n",
              "      <td>2.0</td>\n",
              "      <td>2.0</td>\n",
              "      <td>2.0</td>\n",
              "      <td>2.0</td>\n",
              "      <td>1.0</td>\n",
              "      <td>1.0</td>\n",
              "      <td>1.0</td>\n",
              "      <td>2.0</td>\n",
              "      <td>2.0</td>\n",
              "      <td>61.58</td>\n",
              "    </tr>\n",
              "  </tbody>\n",
              "</table>\n",
              "<p>9886 rows × 124 columns</p>\n",
              "</div>\n",
              "      <button class=\"colab-df-convert\" onclick=\"convertToInteractive('df-a8f248b0-f243-4403-bd59-db37549b5294')\"\n",
              "              title=\"Convert this dataframe to an interactive table.\"\n",
              "              style=\"display:none;\">\n",
              "\n",
              "  <svg xmlns=\"http://www.w3.org/2000/svg\" height=\"24px\"viewBox=\"0 0 24 24\"\n",
              "       width=\"24px\">\n",
              "    <path d=\"M0 0h24v24H0V0z\" fill=\"none\"/>\n",
              "    <path d=\"M18.56 5.44l.94 2.06.94-2.06 2.06-.94-2.06-.94-.94-2.06-.94 2.06-2.06.94zm-11 1L8.5 8.5l.94-2.06 2.06-.94-2.06-.94L8.5 2.5l-.94 2.06-2.06.94zm10 10l.94 2.06.94-2.06 2.06-.94-2.06-.94-.94-2.06-.94 2.06-2.06.94z\"/><path d=\"M17.41 7.96l-1.37-1.37c-.4-.4-.92-.59-1.43-.59-.52 0-1.04.2-1.43.59L10.3 9.45l-7.72 7.72c-.78.78-.78 2.05 0 2.83L4 21.41c.39.39.9.59 1.41.59.51 0 1.02-.2 1.41-.59l7.78-7.78 2.81-2.81c.8-.78.8-2.07 0-2.86zM5.41 20L4 18.59l7.72-7.72 1.47 1.35L5.41 20z\"/>\n",
              "  </svg>\n",
              "      </button>\n",
              "\n",
              "\n",
              "\n",
              "    <div id=\"df-f5dc7e04-4ad2-4ce2-bff0-72b16958e76c\">\n",
              "      <button class=\"colab-df-quickchart\" onclick=\"quickchart('df-f5dc7e04-4ad2-4ce2-bff0-72b16958e76c')\"\n",
              "              title=\"Suggest charts.\"\n",
              "              style=\"display:none;\">\n",
              "\n",
              "<svg xmlns=\"http://www.w3.org/2000/svg\" height=\"24px\"viewBox=\"0 0 24 24\"\n",
              "     width=\"24px\">\n",
              "    <g>\n",
              "        <path d=\"M19 3H5c-1.1 0-2 .9-2 2v14c0 1.1.9 2 2 2h14c1.1 0 2-.9 2-2V5c0-1.1-.9-2-2-2zM9 17H7v-7h2v7zm4 0h-2V7h2v10zm4 0h-2v-4h2v4z\"/>\n",
              "    </g>\n",
              "</svg>\n",
              "      </button>\n",
              "    </div>\n",
              "\n",
              "<style>\n",
              "  .colab-df-quickchart {\n",
              "    background-color: #E8F0FE;\n",
              "    border: none;\n",
              "    border-radius: 50%;\n",
              "    cursor: pointer;\n",
              "    display: none;\n",
              "    fill: #1967D2;\n",
              "    height: 32px;\n",
              "    padding: 0 0 0 0;\n",
              "    width: 32px;\n",
              "  }\n",
              "\n",
              "  .colab-df-quickchart:hover {\n",
              "    background-color: #E2EBFA;\n",
              "    box-shadow: 0px 1px 2px rgba(60, 64, 67, 0.3), 0px 1px 3px 1px rgba(60, 64, 67, 0.15);\n",
              "    fill: #174EA6;\n",
              "  }\n",
              "\n",
              "  [theme=dark] .colab-df-quickchart {\n",
              "    background-color: #3B4455;\n",
              "    fill: #D2E3FC;\n",
              "  }\n",
              "\n",
              "  [theme=dark] .colab-df-quickchart:hover {\n",
              "    background-color: #434B5C;\n",
              "    box-shadow: 0px 1px 3px 1px rgba(0, 0, 0, 0.15);\n",
              "    filter: drop-shadow(0px 1px 2px rgba(0, 0, 0, 0.3));\n",
              "    fill: #FFFFFF;\n",
              "  }\n",
              "</style>\n",
              "\n",
              "    <script>\n",
              "      async function quickchart(key) {\n",
              "        const containerElement = document.querySelector('#' + key);\n",
              "        const charts = await google.colab.kernel.invokeFunction(\n",
              "            'suggestCharts', [key], {});\n",
              "      }\n",
              "    </script>\n",
              "\n",
              "      <script>\n",
              "\n",
              "function displayQuickchartButton(domScope) {\n",
              "  let quickchartButtonEl =\n",
              "    domScope.querySelector('#df-f5dc7e04-4ad2-4ce2-bff0-72b16958e76c button.colab-df-quickchart');\n",
              "  quickchartButtonEl.style.display =\n",
              "    google.colab.kernel.accessAllowed ? 'block' : 'none';\n",
              "}\n",
              "\n",
              "        displayQuickchartButton(document);\n",
              "      </script>\n",
              "      <style>\n",
              "    .colab-df-container {\n",
              "      display:flex;\n",
              "      flex-wrap:wrap;\n",
              "      gap: 12px;\n",
              "    }\n",
              "\n",
              "    .colab-df-convert {\n",
              "      background-color: #E8F0FE;\n",
              "      border: none;\n",
              "      border-radius: 50%;\n",
              "      cursor: pointer;\n",
              "      display: none;\n",
              "      fill: #1967D2;\n",
              "      height: 32px;\n",
              "      padding: 0 0 0 0;\n",
              "      width: 32px;\n",
              "    }\n",
              "\n",
              "    .colab-df-convert:hover {\n",
              "      background-color: #E2EBFA;\n",
              "      box-shadow: 0px 1px 2px rgba(60, 64, 67, 0.3), 0px 1px 3px 1px rgba(60, 64, 67, 0.15);\n",
              "      fill: #174EA6;\n",
              "    }\n",
              "\n",
              "    [theme=dark] .colab-df-convert {\n",
              "      background-color: #3B4455;\n",
              "      fill: #D2E3FC;\n",
              "    }\n",
              "\n",
              "    [theme=dark] .colab-df-convert:hover {\n",
              "      background-color: #434B5C;\n",
              "      box-shadow: 0px 1px 3px 1px rgba(0, 0, 0, 0.15);\n",
              "      filter: drop-shadow(0px 1px 2px rgba(0, 0, 0, 0.3));\n",
              "      fill: #FFFFFF;\n",
              "    }\n",
              "  </style>\n",
              "\n",
              "      <script>\n",
              "        const buttonEl =\n",
              "          document.querySelector('#df-a8f248b0-f243-4403-bd59-db37549b5294 button.colab-df-convert');\n",
              "        buttonEl.style.display =\n",
              "          google.colab.kernel.accessAllowed ? 'block' : 'none';\n",
              "\n",
              "        async function convertToInteractive(key) {\n",
              "          const element = document.querySelector('#df-a8f248b0-f243-4403-bd59-db37549b5294');\n",
              "          const dataTable =\n",
              "            await google.colab.kernel.invokeFunction('convertToInteractive',\n",
              "                                                     [key], {});\n",
              "          if (!dataTable) return;\n",
              "\n",
              "          const docLinkHtml = 'Like what you see? Visit the ' +\n",
              "            '<a target=\"_blank\" href=https://colab.research.google.com/notebooks/data_table.ipynb>data table notebook</a>'\n",
              "            + ' to learn more about interactive tables.';\n",
              "          element.innerHTML = '';\n",
              "          dataTable['output_type'] = 'display_data';\n",
              "          await google.colab.output.renderOutput(dataTable, element);\n",
              "          const docLink = document.createElement('div');\n",
              "          docLink.innerHTML = docLinkHtml;\n",
              "          element.appendChild(docLink);\n",
              "        }\n",
              "      </script>\n",
              "    </div>\n",
              "  </div>\n"
            ]
          },
          "metadata": {},
          "execution_count": 50
        }
      ]
    },
    {
      "cell_type": "code",
      "source": [
        "# para este modelo uso un train test split diferente ya que no requiere la estandarizacion como los otros modelos. Esto es debido a que asume que sus features son discretas.\n",
        "\n",
        "X_train_mnb, X_test_mnb, y_train_mnb, y_test_mnb = train_test_split(X, y, random_state = 1)\n",
        "\n"
      ],
      "metadata": {
        "id": "l7WVCD4spAbO"
      },
      "execution_count": null,
      "outputs": []
    },
    {
      "cell_type": "code",
      "source": [
        "model_mnb = MultinomialNB()\n",
        "model_mnb.fit(X_train_mnb, y_train_mnb)"
      ],
      "metadata": {
        "colab": {
          "base_uri": "https://localhost:8080/",
          "height": 74
        },
        "id": "A44IiFv1iyf7",
        "outputId": "b0cec4a7-0763-4840-cd34-095fdeec56e1"
      },
      "execution_count": null,
      "outputs": [
        {
          "output_type": "execute_result",
          "data": {
            "text/plain": [
              "MultinomialNB()"
            ],
            "text/html": [
              "<style>#sk-container-id-3 {color: black;background-color: white;}#sk-container-id-3 pre{padding: 0;}#sk-container-id-3 div.sk-toggleable {background-color: white;}#sk-container-id-3 label.sk-toggleable__label {cursor: pointer;display: block;width: 100%;margin-bottom: 0;padding: 0.3em;box-sizing: border-box;text-align: center;}#sk-container-id-3 label.sk-toggleable__label-arrow:before {content: \"▸\";float: left;margin-right: 0.25em;color: #696969;}#sk-container-id-3 label.sk-toggleable__label-arrow:hover:before {color: black;}#sk-container-id-3 div.sk-estimator:hover label.sk-toggleable__label-arrow:before {color: black;}#sk-container-id-3 div.sk-toggleable__content {max-height: 0;max-width: 0;overflow: hidden;text-align: left;background-color: #f0f8ff;}#sk-container-id-3 div.sk-toggleable__content pre {margin: 0.2em;color: black;border-radius: 0.25em;background-color: #f0f8ff;}#sk-container-id-3 input.sk-toggleable__control:checked~div.sk-toggleable__content {max-height: 200px;max-width: 100%;overflow: auto;}#sk-container-id-3 input.sk-toggleable__control:checked~label.sk-toggleable__label-arrow:before {content: \"▾\";}#sk-container-id-3 div.sk-estimator input.sk-toggleable__control:checked~label.sk-toggleable__label {background-color: #d4ebff;}#sk-container-id-3 div.sk-label input.sk-toggleable__control:checked~label.sk-toggleable__label {background-color: #d4ebff;}#sk-container-id-3 input.sk-hidden--visually {border: 0;clip: rect(1px 1px 1px 1px);clip: rect(1px, 1px, 1px, 1px);height: 1px;margin: -1px;overflow: hidden;padding: 0;position: absolute;width: 1px;}#sk-container-id-3 div.sk-estimator {font-family: monospace;background-color: #f0f8ff;border: 1px dotted black;border-radius: 0.25em;box-sizing: border-box;margin-bottom: 0.5em;}#sk-container-id-3 div.sk-estimator:hover {background-color: #d4ebff;}#sk-container-id-3 div.sk-parallel-item::after {content: \"\";width: 100%;border-bottom: 1px solid gray;flex-grow: 1;}#sk-container-id-3 div.sk-label:hover label.sk-toggleable__label {background-color: #d4ebff;}#sk-container-id-3 div.sk-serial::before {content: \"\";position: absolute;border-left: 1px solid gray;box-sizing: border-box;top: 0;bottom: 0;left: 50%;z-index: 0;}#sk-container-id-3 div.sk-serial {display: flex;flex-direction: column;align-items: center;background-color: white;padding-right: 0.2em;padding-left: 0.2em;position: relative;}#sk-container-id-3 div.sk-item {position: relative;z-index: 1;}#sk-container-id-3 div.sk-parallel {display: flex;align-items: stretch;justify-content: center;background-color: white;position: relative;}#sk-container-id-3 div.sk-item::before, #sk-container-id-3 div.sk-parallel-item::before {content: \"\";position: absolute;border-left: 1px solid gray;box-sizing: border-box;top: 0;bottom: 0;left: 50%;z-index: -1;}#sk-container-id-3 div.sk-parallel-item {display: flex;flex-direction: column;z-index: 1;position: relative;background-color: white;}#sk-container-id-3 div.sk-parallel-item:first-child::after {align-self: flex-end;width: 50%;}#sk-container-id-3 div.sk-parallel-item:last-child::after {align-self: flex-start;width: 50%;}#sk-container-id-3 div.sk-parallel-item:only-child::after {width: 0;}#sk-container-id-3 div.sk-dashed-wrapped {border: 1px dashed gray;margin: 0 0.4em 0.5em 0.4em;box-sizing: border-box;padding-bottom: 0.4em;background-color: white;}#sk-container-id-3 div.sk-label label {font-family: monospace;font-weight: bold;display: inline-block;line-height: 1.2em;}#sk-container-id-3 div.sk-label-container {text-align: center;}#sk-container-id-3 div.sk-container {/* jupyter's `normalize.less` sets `[hidden] { display: none; }` but bootstrap.min.css set `[hidden] { display: none !important; }` so we also need the `!important` here to be able to override the default hidden behavior on the sphinx rendered scikit-learn.org. See: https://github.com/scikit-learn/scikit-learn/issues/21755 */display: inline-block !important;position: relative;}#sk-container-id-3 div.sk-text-repr-fallback {display: none;}</style><div id=\"sk-container-id-3\" class=\"sk-top-container\"><div class=\"sk-text-repr-fallback\"><pre>MultinomialNB()</pre><b>In a Jupyter environment, please rerun this cell to show the HTML representation or trust the notebook. <br />On GitHub, the HTML representation is unable to render, please try loading this page with nbviewer.org.</b></div><div class=\"sk-container\" hidden><div class=\"sk-item\"><div class=\"sk-estimator sk-toggleable\"><input class=\"sk-toggleable__control sk-hidden--visually\" id=\"sk-estimator-id-3\" type=\"checkbox\" checked><label for=\"sk-estimator-id-3\" class=\"sk-toggleable__label sk-toggleable__label-arrow\">MultinomialNB</label><div class=\"sk-toggleable__content\"><pre>MultinomialNB()</pre></div></div></div></div></div>"
            ]
          },
          "metadata": {},
          "execution_count": 52
        }
      ]
    },
    {
      "cell_type": "code",
      "source": [
        "# pruebo el modelo entrenado en los datos de test para ver si funciona\n",
        "y_pred_mnb_train = model_mnb.predict(X_train_mnb)\n",
        "y_pred_mnb_test = model_mnb.predict(X_test_mnb)\n",
        "\n",
        "y_pred_mnb_test"
      ],
      "metadata": {
        "colab": {
          "base_uri": "https://localhost:8080/"
        },
        "id": "5fydy3Zxn-u4",
        "outputId": "b5efd80d-bfb2-441e-fd98-b7bf08f03639"
      },
      "execution_count": null,
      "outputs": [
        {
          "output_type": "execute_result",
          "data": {
            "text/plain": [
              "array([0., 1., 0., ..., 1., 0., 0.])"
            ]
          },
          "metadata": {},
          "execution_count": 53
        }
      ]
    },
    {
      "cell_type": "code",
      "source": [
        "accuracy_score(y_test_mnb, y_pred_mnb_test)"
      ],
      "metadata": {
        "colab": {
          "base_uri": "https://localhost:8080/"
        },
        "id": "VxyR-pirpwUb",
        "outputId": "4b920bca-22b0-478a-9088-e1899e0c0d1d"
      },
      "execution_count": null,
      "outputs": [
        {
          "output_type": "execute_result",
          "data": {
            "text/plain": [
              "0.6735436893203883"
            ]
          },
          "metadata": {},
          "execution_count": 54
        }
      ]
    },
    {
      "cell_type": "code",
      "source": [
        "evaluate_model(y_train, y_test, y_pred_mnb_train, y_pred_mnb_test, 'Naive Bayes_Multin.')"
      ],
      "metadata": {
        "colab": {
          "base_uri": "https://localhost:8080/",
          "height": 808
        },
        "id": "B15pqVYsVevk",
        "outputId": "b2911d24-ebf9-484f-933c-4927d7a52e62"
      },
      "execution_count": null,
      "outputs": [
        {
          "output_type": "display_data",
          "data": {
            "text/plain": [
              "<Figure size 1200x600 with 2 Axes>"
            ],
            "image/png": "[encoded data removed]"
          },
          "metadata": {}
        },
        {
          "output_type": "stream",
          "name": "stdout",
          "text": [
            "Metrics:\n",
            "  Accuracy (Train):  0.6833\n",
            "  Accuracy (Test):   0.6735\n",
            "  Precision (Train): 0.6794\n",
            "  Precision (Test):  0.6688\n",
            "  Recall (Train):    0.6955\n",
            "  Recall (Test):     0.6834\n",
            "  F1 Score (Train):  0.6874\n",
            "  F1 Score (Test):   0.6760\n",
            "  ROC AUC (Train):   0.6833\n",
            "  ROC AUC (Test):    0.6736\n"
          ]
        }
      ]
    },
    {
      "cell_type": "markdown",
      "source": [
        "##**Regresion logistica**"
      ],
      "metadata": {
        "id": "z5EDZH8zfgWm"
      }
    },
    {
      "cell_type": "markdown",
      "source": [
        "Sin regularización"
      ],
      "metadata": {
        "id": "oISuijQbfo4J"
      }
    },
    {
      "cell_type": "code",
      "source": [
        "#Implantamos modelo\n",
        "\n",
        "model_lr = LogisticRegression(penalty='none')\n",
        "\n",
        "#Entrenamos el modelo\n",
        "\n",
        "model_lr.fit(X_train, y_train)\n",
        "\n",
        "#Guardamos en una variable la prediccion\n",
        "\n",
        "y_pred_lr_train = model_lr.predict(X_train)\n",
        "\n",
        "y_pred_lr_test = model_lr.predict(X_test)\n",
        "\n",
        "# Evaluamos modelo\n",
        "\n",
        "evaluate_model(y_train, y_test,y_pred_lr_train,y_pred_lr_test, 'log_reg')\n",
        "\n",
        "\n"
      ],
      "metadata": {
        "id": "typB7ekjf1kA",
        "colab": {
          "base_uri": "https://localhost:8080/",
          "height": 844
        },
        "outputId": "bd28f63f-80af-436d-f0be-7198eda3e960"
      },
      "execution_count": null,
      "outputs": [
        {
          "output_type": "stream",
          "name": "stderr",
          "text": [
            "/usr/local/lib/python3.10/dist-packages/sklearn/linear_model/_logistic.py:1173: FutureWarning: `penalty='none'`has been deprecated in 1.2 and will be removed in 1.4. To keep the past behaviour, set `penalty=None`.\n",
            "  warnings.warn(\n"
          ]
        },
        {
          "output_type": "display_data",
          "data": {
            "text/plain": [
              "<Figure size 1200x600 with 2 Axes>"
            ],
            "image/png": "[encoded data removed]"
          },
          "metadata": {}
        },
        {
          "output_type": "stream",
          "name": "stdout",
          "text": [
            "Metrics:\n",
            "  Accuracy (Train):  0.7715\n",
            "  Accuracy (Test):   0.7597\n",
            "  Precision (Train): 0.7804\n",
            "  Precision (Test):  0.7699\n",
            "  Recall (Train):    0.7564\n",
            "  Recall (Test):     0.7386\n",
            "  F1 Score (Train):  0.7682\n",
            "  F1 Score (Test):   0.7539\n",
            "  ROC AUC (Train):   0.7715\n",
            "  ROC AUC (Test):    0.7596\n"
          ]
        }
      ]
    },
    {
      "cell_type": "code",
      "source": [
        "# Intercept + Coefs\n",
        "\n",
        "print(model_lr.intercept_)\n",
        "print(model_lr.coef_)"
      ],
      "metadata": {
        "id": "M7yDdng3gDfC",
        "colab": {
          "base_uri": "https://localhost:8080/"
        },
        "outputId": "d126bbf6-a7c3-4c9d-ae4c-a6d78c5c162d"
      },
      "execution_count": null,
      "outputs": [
        {
          "output_type": "stream",
          "name": "stdout",
          "text": [
            "[0.09049009]\n",
            "[[-1.71300729e-01  2.18627044e-01 -9.00019693e-03  5.82193916e-02\n",
            "   9.47532296e-03  1.53961048e-02  1.58044381e-01 -4.81544368e-02\n",
            "  -6.33128250e-02  6.84074225e-02  6.40116927e-01  3.31546823e-01\n",
            "  -5.61795941e-02 -5.51931188e-02 -9.17818851e-02  3.04103566e-02\n",
            "   2.01983911e-01  5.99526537e-02  7.87285875e-02 -1.48222252e-02\n",
            "  -9.52267278e-02  1.62542203e-02  4.24825355e-02 -3.92987548e-03\n",
            "   2.66930075e-01  1.76569737e-01 -4.52493727e-02  2.07815316e-02\n",
            "  -1.23975161e-01 -6.58908524e-02 -1.28724676e-01 -2.45030860e-02\n",
            "   1.64278632e-01  1.32238558e-02 -1.31368506e-01  7.35020805e-02\n",
            "   3.60643934e-01  1.70417690e-01  5.97007191e-02  2.59020206e-04\n",
            "  -3.00295666e-02 -2.11290549e-01 -2.65995688e-02  6.27320493e-02\n",
            "   1.01174289e-01 -3.72578669e-02  5.34499682e-02  7.93669107e-02\n",
            "  -3.03476805e-03  3.10913436e-02 -8.96090153e-03 -6.81986607e-02\n",
            "  -6.31141768e-03 -7.00422934e-02 -1.07002463e-01  4.91123517e-03\n",
            "  -6.07869740e-02 -4.98343635e-02  2.98882478e-02  7.57071832e-02\n",
            "  -6.42881158e-02  9.42354487e-02  9.33771356e-02  1.81915688e-01\n",
            "  -1.29622744e-02  4.20322942e-01  9.03455063e-02 -1.78943971e-02\n",
            "  -2.47350605e-03 -1.82069985e-01  3.99722077e-02 -6.49396691e-02\n",
            "  -1.00276574e-01 -1.10101951e-02 -3.23832942e-02 -9.07642938e-02\n",
            "   3.16231337e-02  2.54837340e-02  4.51966712e-02 -2.53583539e-02\n",
            "   3.45180865e-02  1.63182928e-01  1.27758028e-01 -1.62870553e-02\n",
            "  -1.29149275e-01 -6.58908524e-02  3.22845533e-02 -1.16511553e-02\n",
            "  -1.08823741e-01 -1.15879730e-01  8.57382454e-02  2.06351641e-02\n",
            "   6.17277006e-03  1.36465808e-03  4.72071283e-03  6.89437077e-02\n",
            "   6.09801533e-03 -4.64942393e-03  2.32194218e-02  3.39997869e-02\n",
            "  -1.38972807e-02 -1.07515796e-02  2.34529864e-02  2.20696752e-02\n",
            "  -6.81986607e-02 -6.31141768e-03 -7.00422934e-02  1.13494999e-01\n",
            "   2.85420495e-04  1.22809256e-01  8.95791145e-02 -1.26777979e-03\n",
            "  -9.20064851e-02 -7.70269702e-02  2.47350605e-03 -1.40984207e-02\n",
            "  -5.39947323e-02 -2.71000590e-02  2.71000590e-02 -1.76848898e-02\n",
            "  -8.78584034e-02  9.75318136e-02  2.09555367e-01 -4.58254975e-02]]\n"
          ]
        }
      ]
    },
    {
      "cell_type": "markdown",
      "source": [
        "Con regularizaciones\n"
      ],
      "metadata": {
        "id": "pNIXjztFBPp3"
      }
    },
    {
      "cell_type": "code",
      "source": [
        "#Aplicamos regularización l1 y entrenamos el modelo\n",
        "\n",
        "model_l1 = LogisticRegression(penalty='l1', solver='liblinear')\n",
        "model_l1.fit(X_train, y_train)\n",
        "\n",
        "#Predecimos y\n",
        "\n",
        "y_pred_l1_train = model_l1.predict(X_train)\n",
        "\n",
        "y_pred_l1_test = model_l1.predict(X_test)\n",
        "\n",
        "evaluate_model(y_train, y_test, y_pred_l1_train, y_pred_l1_test, 'log_reg_L1')"
      ],
      "metadata": {
        "colab": {
          "base_uri": "https://localhost:8080/",
          "height": 808
        },
        "id": "Z_Vg9UZCDVfY",
        "outputId": "7462c0cc-8078-4667-e329-f8107f9d052b"
      },
      "execution_count": null,
      "outputs": [
        {
          "output_type": "display_data",
          "data": {
            "text/plain": [
              "<Figure size 1200x600 with 2 Axes>"
            ],
            "image/png": "[encoded data removed]"
          },
          "metadata": {}
        },
        {
          "output_type": "stream",
          "name": "stdout",
          "text": [
            "Metrics:\n",
            "  Accuracy (Train):  0.7706\n",
            "  Accuracy (Test):   0.7621\n",
            "  Precision (Train): 0.7784\n",
            "  Precision (Test):  0.7729\n",
            "  Recall (Train):    0.7572\n",
            "  Recall (Test):     0.7403\n",
            "  F1 Score (Train):  0.7677\n",
            "  F1 Score (Test):   0.7562\n",
            "  ROC AUC (Train):   0.7706\n",
            "  ROC AUC (Test):    0.7621\n"
          ]
        }
      ]
    },
    {
      "cell_type": "markdown",
      "source": [
        "Aprovechemos esta oportunidad para mirar qué features son las que más contribuyen a la construcción del modelo de regresion logística.\n",
        "Lo hacemos luego de aplicar regularización valiendonos de que la misma ya redujo el valor de los beta de las features que menor grado de contribución tenian.\n"
      ],
      "metadata": {
        "id": "mxiZkQjPf1cu"
      }
    },
    {
      "cell_type": "code",
      "source": [
        "coeficientes = model_l1.coef_[0]\n",
        "coeficientes = np.abs(coeficientes)\n",
        "top_indices = np.argsort(np.abs(coeficientes))[-10:]\n",
        "top_coeficientes = coeficientes[top_indices]\n",
        "top_features = np.array(X.columns)[top_indices]\n",
        "coef_df = pd.DataFrame({'Coeficientes': top_coeficientes, 'Características': top_features})\n",
        "plt.figure(figsize=(10, 6))\n",
        "sns.barplot(data=coef_df, x='Características', y='Coeficientes', palette='coolwarm')\n",
        "plt.xlabel('Características')\n",
        "plt.ylabel('Valor del Coeficiente')\n",
        "plt.title('Top 10 Coeficientes Más Grandes del Modelo de Regresión Logística')\n",
        "plt.tight_layout()\n",
        "plt.show()"
      ],
      "metadata": {
        "colab": {
          "base_uri": "https://localhost:8080/",
          "height": 607
        },
        "id": "Z16xjZpG-8A4",
        "outputId": "aaf33f69-7e93-49c0-9137-a0117171a53b"
      },
      "execution_count": null,
      "outputs": [
        {
          "output_type": "display_data",
          "data": {
            "text/plain": [
              "<Figure size 1000x600 with 1 Axes>"
            ],
            "image/png": "[encoded data removed]"
          },
          "metadata": {}
        }
      ]
    },
    {
      "cell_type": "markdown",
      "source": [
        "Las preguntas:\n",
        "\"Durante los últimos 12 meses ¿con qué frecuencia te sentiste solo o sola?\",\n",
        "\"Durante los últimos 30 días ¿con qué frecuencia tus padres o cuidadores te hicieron sentir ridículo o te menospreciaron/subestimaron (por ejemplo, diciendo que sos un tonto o inútil)?\" y\n",
        "\"Durante los últimos 12 meses ¿con qué frecuencia estuviste tan preocupado por algo que no podías dormir por la noche?\"\n",
        "Son las que conforman el podio de las que mayor contribución tienen."
      ],
      "metadata": {
        "id": "VJJtRyvl_gWG"
      }
    },
    {
      "cell_type": "code",
      "source": [
        "#regularización l2\n",
        "model_l2 = LogisticRegression(penalty='l2')\n",
        "model_l2.fit(X_train, y_train)\n",
        "\n",
        "#Predecimos y\n",
        "y_pred_l2_train = model_l2.predict(X_train)\n",
        "\n",
        "y_pred_l2_test = model_l2.predict(X_test)\n",
        "\n",
        "evaluate_model(y_train, y_test, y_pred_l2_train, y_pred_l2_test, 'log_reg_L2')"
      ],
      "metadata": {
        "colab": {
          "base_uri": "https://localhost:8080/",
          "height": 808
        },
        "id": "cnSpK6XfE_JC",
        "outputId": "8151b028-5fa8-46a5-c011-d5418655ad69"
      },
      "execution_count": null,
      "outputs": [
        {
          "output_type": "display_data",
          "data": {
            "text/plain": [
              "<Figure size 1200x600 with 2 Axes>"
            ],
            "image/png": "[encoded data removed]"
          },
          "metadata": {}
        },
        {
          "output_type": "stream",
          "name": "stdout",
          "text": [
            "Metrics:\n",
            "  Accuracy (Train):  0.7714\n",
            "  Accuracy (Test):   0.7597\n",
            "  Precision (Train): 0.7802\n",
            "  Precision (Test):  0.7699\n",
            "  Recall (Train):    0.7564\n",
            "  Recall (Test):     0.7386\n",
            "  F1 Score (Train):  0.7681\n",
            "  F1 Score (Test):   0.7539\n",
            "  ROC AUC (Train):   0.7714\n",
            "  ROC AUC (Test):    0.7596\n"
          ]
        }
      ]
    },
    {
      "cell_type": "markdown",
      "source": [
        "## Comparando métricas"
      ],
      "metadata": {
        "id": "9SPhP4DSpcpA"
      }
    },
    {
      "cell_type": "code",
      "source": [
        "# Comparemos las métricas que obtuvimos\n",
        "# Para eso usamos el diccionario \"results\" que estuvimos usando\n",
        "\n",
        "# Sacamos de el los modelos usados en el TP, sus nombre y métricas, y cosntruimos un grafico de barras para poder visualizarlo\n",
        "\n",
        "model_names = list(result.keys())\n",
        "metrics = list(result[model_names[0]].keys())\n",
        "\n",
        "plt.figure(figsize=(12, 8))\n",
        "ax = plt.subplot(111)\n",
        "\n",
        "bar_width = 0.15\n",
        "\n",
        "pos = np.arange(len(metrics))\n",
        "\n",
        "\n",
        "colors = ['royalblue', 'forestgreen', 'indianred', 'c', 'm', 'y', 'k', 'tab:orange', 'tab:purple', 'tab:brown']\n",
        "\n",
        "for i, model_name in enumerate(model_names):\n",
        "    metric_values = [result[model_name][metric] for metric in metrics]\n",
        "    ax.bar(pos + i * bar_width, metric_values, bar_width, label=model_name, color=colors[i])\n",
        "\n",
        "\n",
        "\n",
        "ax.set_xticks(pos + bar_width * (len(model_names) - 1) / 2)\n",
        "ax.set_xticklabels(metrics, rotation=45, ha='right')\n",
        "\n",
        "plt.xlabel('Metric')\n",
        "plt.ylabel('Score')\n",
        "plt.title('Comparison of Metrics for Different Models')\n",
        "plt.legend(loc='lower center')\n",
        "\n",
        "plt.tight_layout()\n",
        "plt.show()"
      ],
      "metadata": {
        "colab": {
          "base_uri": "https://localhost:8080/",
          "height": 807
        },
        "id": "vwJgST07NDUf",
        "outputId": "5faea4d5-0c12-41ea-b7bc-d67344ccdf50"
      },
      "execution_count": null,
      "outputs": [
        {
          "output_type": "display_data",
          "data": {
            "text/plain": [
              "<Figure size 1200x800 with 1 Axes>"
            ],
            "image/png": "[encoded data removed]"
          },
          "metadata": {}
        }
      ]
    },
    {
      "cell_type": "code",
      "source": [
        "# Veamos cómo son las curvas ROC para las mejores versiones de los tres tipos de modelos que implementamos.\n",
        "# Para ello necesitaremos no solo la predicción qué cada modelo hace sino tambien la probabilidad que el modelo le asigna.\n",
        "# Obtendremos eso para cada uno de ellos:\n",
        "\n",
        "y_probs_knn = model_knn.predict_proba(X_test)\n",
        "fpr_knn,tpr_knn,thr_knn = roc_curve(y_test, y_probs_knn[:,1])\n",
        "df_knn = pd.DataFrame(dict(fpr_knn=fpr_knn, tpr_knn=tpr_knn))\n",
        "\n",
        "y_probs_l1 = model_l1.predict_proba(X_test)\n",
        "fpr_l1,tpr_l1,thr_l1 = roc_curve(y_test, y_probs_l1[:,1])\n",
        "df_l1 = pd.DataFrame(dict(fpr_l1=fpr_l1, tpr_l1=tpr_l1))\n",
        "\n",
        "y_probs_mnb = model_bayes.predict_proba(X_test)\n",
        "fpr_mnb,tpr_mnb,thr_mnb = roc_curve(y_test, y_probs_mnb[:,1])\n",
        "df_mnb = pd.DataFrame(dict(fpr_mnb=fpr_mnb, tpr_mnb=tpr_mnb))"
      ],
      "metadata": {
        "id": "XKGfUAMwQuFa"
      },
      "execution_count": null,
      "outputs": []
    },
    {
      "cell_type": "code",
      "source": [
        "# Y graficamos\n",
        "\n",
        "plt.axis([0, 1.01, 0, 1.01])\n",
        "plt.xlabel('False Positive Rate (1 - Specificty)')\n",
        "plt.ylabel('True Positive Rate  (Sensitivity)')\n",
        "plt.title('ROC Curve')\n",
        "plt.plot(df_mnb['fpr_mnb'],df_mnb['tpr_mnb'], label='Multinom. Naive Bayes')\n",
        "plt.plot(df_knn['fpr_knn'],df_knn['tpr_knn'], label='KNN')\n",
        "plt.plot(df_l1['fpr_l1'],df_l1['tpr_l1'], label='Logisitc Reg.L1')\n",
        "plt.plot(np.arange(0,1, step =0.01), np.arange(0,1, step =0.01))\n",
        "plt.legend()\n",
        "plt.show()\n"
      ],
      "metadata": {
        "id": "F2tREJcT6Wbe",
        "colab": {
          "base_uri": "https://localhost:8080/",
          "height": 472
        },
        "outputId": "af11d120-2b70-42de-9952-0f64078cb824"
      },
      "execution_count": null,
      "outputs": [
        {
          "output_type": "display_data",
          "data": {
            "text/plain": [
              "<Figure size 640x480 with 1 Axes>"
            ],
            "image/png": "[encoded data removed]"
          },
          "metadata": {}
        }
      ]
    },
    {
      "cell_type": "markdown",
      "source": [
        "Como podiamos ver por las métricas anteriormente descriptas, el modelos que muestra el mejor desempeño (se asemaja más al registro perfecto donde la sensibilidad y la tasa de verdaderos positivos es siempre máxima) es el modelo de regresión logística, seguido de cerca de Naive Bayes. KNN queda muy relegado por su alta tasa de errores, más cercana a la diagonal descripta por una clasificación por azar."
      ],
      "metadata": {
        "id": "bXx9cPMaZNs7"
      }
    },
    {
      "cell_type": "markdown",
      "source": [
        "## Discusión"
      ],
      "metadata": {
        "id": "lCohTV0qhHS5"
      }
    },
    {
      "cell_type": "markdown",
      "source": [
        "KNN es un modelo simple, que no tiene suposiciónes sobre la distrubición de los datos, y sumamente flexible. Sin embargo no se desempeña bien cuando la cantidad de features es muy elevada y en especial cuando las features son categóricas y en este problema, muchas de las features son categóricas no ordinarias."
      ],
      "metadata": {
        "id": "2wD3HfHahihp"
      }
    },
    {
      "cell_type": "markdown",
      "source": [
        "En cuanto a Naive Bayes, podemos destacar que hay dos modelos posibles:\n",
        "*   Naive Bayes Gaussiano: se utiliza generalmente cuando las features son continuas y siguen una distribucion normal.\n",
        "*   Naive Bayes Multinomial: se utiliza para features discretas.\n",
        "\n",
        "\n",
        "\n",
        "El modelo gaussiano funciona asumiendo que las features son continuas. Sorprendentemente se adpató muy bien a nuestro dataset. Asumimos que se nutrió específicamente de las features con relación de orden inherente (las ordinales).\n",
        "Sin embargo, cuando pasamos el modelo multinomial, especialmente diseñado para features discretas, el desempeño mejora.\n",
        "\n",
        "Por el lado de la regresión logistica, pareciera ser el modelo que mejor desempeño presenta, dadas las métricas estudiadas. Esto puede deberse a que es un modelo que sufre menos que los otros enfrentarse a problemas de alta dimensionalidad asi como que es capaz de captar relaciones de orden entre features categóricas. Por otro lado, puede deberse simplemente a naturaleza del modelo! Quizas este problema cuenta con una relación lineal entre las columnas predictoras y la target y la regresion logistica logro capturar esa esensia.\n",
        "\n",
        "\n",
        "Por los resultados de las métricas consideramos que el mejor modelo a aplicar es\n",
        "la regresión logística con regularización L1, ya que, el tanto el accuracy score pero sobre el recall que arroja son los más altos. Damos más importancia al recall frente a los demás, ya que, queremos evitar los falsos negativos por encima de las demás variables de la matriz de confusión debido a la naturaleza del dataset que explicaremos en el siguiente texto."
      ],
      "metadata": {
        "id": "Og6RulIdc96S"
      }
    },
    {
      "cell_type": "markdown",
      "source": [
        "Consideramos que un abordaje como el que encaramos para este trabajo puede ser util para el diseño de politicas públicas. Si un análisis más completo y complejo a este arroja también como resultado que mediante preguntas sencillas sobre salud, hábitos alimenticios y acompañamiento familiar, etc, se puede predecir si el chico o chica consideró seriamente quitarse la vida,  esta sería evidencia contundente de que es necesario avocar recursos a cubrir estos aspectos si se desea reducir la tasa de suicidio en este grupo etareo. En el mismo sentido, esta puede volverse una herramienta útil para predecir  pensamientos o comportamientios que conduzcan al suicidio, sin la necesitar de recurrir al preguntar explícitamente por él, que quizas, tratandose de personas tan jovénes puede producir verguenza o miedo y llevarlos a mentir.\n",
        "\n",
        "Volviendo a temas de este curso, entendemos que de los tipos de errores comúnes en la aplicación de modelos, el más grave y prioritario a detectar en nuestro trabajo son los falsos negativos, ya que llevarian a que se considere que un chico o chica no consideró suicidarse, cuando en realidad sí lo hizo. De cometer este error, se habrá negado un posible ayuda, acompañamiento o intento de persuadiación desde el Estado, Institución escolar o quien sea que use esta  herramienta."
      ],
      "metadata": {
        "id": "Yt8nX6IJwuuJ"
      }
    },
    {
      "cell_type": "code",
      "source": [
        "models = list(result.keys())\n",
        "precisions = [result[model]['Recall (Test)'] for model in models]\n",
        "accuracies = [result[model]['Accuracy (Test)'] for model in models]\n",
        "\n",
        "plt.figure(figsize=(12, 6))\n",
        "plt.plot(models, precisions, marker='o', color='b', linestyle='-', linewidth=2, label='Recall')\n",
        "\n",
        "plt.plot(models, accuracies, marker='o', color='g', linestyle='-', linewidth=2, label='Accuracy')\n",
        "\n",
        "plt.xlabel('Modelos')\n",
        "plt.ylabel('Métricas')\n",
        "plt.title('Curva de Recall y Accuracy de Modelos de Clasificación')\n",
        "plt.ylim(0.5, 1.0)\n",
        "plt.xticks(rotation=45)\n",
        "plt.legend()\n",
        "plt.tight_layout()\n",
        "\n",
        "plt.show()"
      ],
      "metadata": {
        "id": "jcdz1tyHE3DA",
        "colab": {
          "base_uri": "https://localhost:8080/",
          "height": 607
        },
        "outputId": "a584bad9-a87c-4e3f-de64-6122d49f6b4a"
      },
      "execution_count": null,
      "outputs": [
        {
          "output_type": "display_data",
          "data": {
            "text/plain": [
              "<Figure size 1200x600 with 1 Axes>"
            ],
            "image/png": "[encoded data removed]"
          },
          "metadata": {}
        }
      ]
    }
  ]
}